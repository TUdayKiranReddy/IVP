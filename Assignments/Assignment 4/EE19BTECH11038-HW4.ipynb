{
 "cells": [
  {
   "cell_type": "code",
   "execution_count": 1,
   "id": "e073ecbb",
   "metadata": {},
   "outputs": [],
   "source": [
    "import numpy as np\n",
    "import pandas as pd\n",
    "import matplotlib.pyplot as plt"
   ]
  },
  {
   "cell_type": "code",
   "execution_count": 2,
   "id": "897ec0d9",
   "metadata": {},
   "outputs": [],
   "source": [
    "class MLP():\n",
    "    def __init__(X, Y, learning_rate=0.05, validation_split=None):\n",
    "        self.X = X\n",
    "        self.Y = Y\n",
    "        self.lr = learning_rate\n",
    "        self.validation_split = validation_split\n",
    "        self.W1, self.W2, self.b1, self.b2, self.z1, self.z2, self.A1, self.A2 = None\n",
    "        self.dW1, self.dW2, self.db1, self.db2, self.dz1, self.dz2 = None\n",
    "    \n",
    "    def initialise_params(self):\n",
    "        pass\n",
    "\n",
    "    def sigmoid(x):\n",
    "        return 1/(1 + np.exp(-1*x))\n",
    "        \n",
    "    def forward_prop(self):\n",
    "        self.z1 = self.W1@self.X_train + self.b1\n",
    "        self.A1 = sigmoid(self.z1)\n",
    "        \n",
    "        self.z2 = self.W2@self.A1 + self.b2\n",
    "        self.A2 = sigmoid(self.z2)\n",
    "    \n",
    "    def train_loss(self):\n",
    "        return np.sum(np.power(self.Y_train - self.A2, 2))\n",
    "    \n",
    "    def back_prop(self):\n",
    "        self.dz2 = self.A2*(1 - self.A2) * 2*(self.A2 - self.Y_train)\n",
    "        self.dW2 = self.dz2 @ self.A1.T\n",
    "        self.db2 = np.sum(self.dz2, axis=1, keep_dim=True)\n",
    "        \n",
    "        self.dz1 = (self.W2.T @ self.dz2) * (self.A1*(1 - self.A1))\n",
    "        self.dW1 = self.dz1 @ self.X_train.T\n",
    "        self.db1 = np.sum(self.dz1, axis=1, keep_dim=True)\n",
    "    \n",
    "    def update_params(self):\n",
    "        self.W1 -= self.lr * self.dW1\n",
    "        self.W2 -= self.lr * self.dW2\n",
    "        self.b1 -= self.lr * self.db1\n",
    "        self.b2 -= self.lr * self.db2\n",
    "    \n",
    "        "
   ]
  },
  {
   "cell_type": "code",
   "execution_count": null,
   "id": "4ad7c5b3",
   "metadata": {},
   "outputs": [],
   "source": []
  }
 ],
 "metadata": {
  "kernelspec": {
   "display_name": "Python 3",
   "language": "python",
   "name": "python3"
  },
  "language_info": {
   "codemirror_mode": {
    "name": "ipython",
    "version": 3
   },
   "file_extension": ".py",
   "mimetype": "text/x-python",
   "name": "python",
   "nbconvert_exporter": "python",
   "pygments_lexer": "ipython3",
   "version": "3.8.10"
  }
 },
 "nbformat": 4,
 "nbformat_minor": 5
}
