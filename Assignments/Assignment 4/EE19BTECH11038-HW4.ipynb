{
 "cells": [
  {
   "cell_type": "code",
   "execution_count": 1,
   "id": "03ac2c49",
   "metadata": {},
   "outputs": [],
   "source": [
    "import numpy as np\n",
    "import pandas as pd\n",
    "import matplotlib.pyplot as plt"
   ]
  },
  {
   "cell_type": "markdown",
   "id": "5abf4f28",
   "metadata": {},
   "source": [
    "# Multi Layer Perceptron\n",
    "The below class is systematic approach for implementing ANN. The following methods are being implemented in the class MLP()\\\n",
    "* split_samples(); This shuffles and splits the dataset into Training data and Validation data\n",
    "* initialise_params(); This method initializes weights and biases with random number\n",
    "* sigmoid(); This method computes sigmoid for a given input\n",
    "* forward_prop(); This method defines forward propagation of the desired NN\n",
    "* predict_for_valid(); This method is similar to forward_prop(), but just does'nt update the attribuites of class\n",
    "* predict(); This method is same as predict_for_valid(), but threshould the output to given boolean output\n",
    "* train_loss() & valid_loss(); These methods computes the Loss for the given X and Y\n",
    "* back_prop(); This method computes gradients to be updated while in training\n",
    "* update_params(); Updates the gradients\n",
    "* train(); Use above method to train the network and save losses at each epoch\n",
    "* plot(); Plots the losses against number of epochs\n",
    "* print_params(); Prints the learnt weights and biases"
   ]
  },
  {
   "cell_type": "code",
   "execution_count": 2,
   "id": "d03faad2",
   "metadata": {},
   "outputs": [],
   "source": [
    "class MLP():\n",
    "    def __init__(self, X, Y, learning_rate=0.05, validation_split=None):\n",
    "        self.X = X\n",
    "        self.Y = Y\n",
    "        self.X_train = self.X_valid = self.Y_train = self.Y_valid = None\n",
    "        self.lr = learning_rate\n",
    "        self.validation_split = validation_split\n",
    "        self.W1 = self.W2 = self.b1 = self.b2 = self.z1 = self.z2 = self.A1 = self.A2 = None\n",
    "        self.dW1 = self.dW2 = self.db1 = self.db2 = self.dz1 = self.dz2 = None\n",
    "        self.training_loss = self.validation_loss = None\n",
    "    \n",
    "    def split_samples(self):\n",
    "        indices = np.arange(N)\n",
    "        np.random.shuffle(indices)\n",
    "        x = self.X[:, indices]\n",
    "        y = self.Y[:, indices]\n",
    "        vs = 0\n",
    "        m = self.X.shape[1]\n",
    "        if self.validation_split is not None:\n",
    "            vs = int(self.validation_split*m)\n",
    "        self.X_train = x[:, 0:(m-vs)]\n",
    "        self.Y_train = y[:, 0:(m-vs)]\n",
    "        self.X_valid = x[:, (m-vs):]\n",
    "        self.Y_valid = y[:, (m-vs):]\n",
    "        print(\"-> Total samples = {}\\n-> Training samples = {}\\n-> Validation samples = {}\".format(int(m), int(m)-vs, vs))\n",
    "        \n",
    "        \n",
    "    def initialise_params(self):\n",
    "        self.W1 = np.random.randn(2, 2)\n",
    "        self.b1 = np.random.randn(2, 1)\n",
    "        \n",
    "        self.W2 = np.random.randn(1, 2)\n",
    "        self.b2 = np.random.randn(1, 1)\n",
    "\n",
    "    def sigmoid(self, x):\n",
    "        return 1/(1 + np.exp(-1*x))\n",
    "        \n",
    "    def forward_prop(self, X):\n",
    "        self.z1 = self.W1@X + self.b1\n",
    "        self.A1 = self.sigmoid(self.z1)\n",
    "        \n",
    "        self.z2 = self.W2@self.A1 + self.b2\n",
    "        self.A2 = self.sigmoid(self.z2)\n",
    "    \n",
    "    def predict_for_valid(self, X):\n",
    "        z1 = self.W1@X + self.b1\n",
    "        A1 = self.sigmoid(z1)\n",
    "        \n",
    "        z2 = self.W2@A1 + self.b2\n",
    "        A2 = self.sigmoid(z2)\n",
    "        return A2\n",
    "    \n",
    "    def predict(self, X):\n",
    "        z1 = self.W1@X + self.b1\n",
    "        A1 = self.sigmoid(z1)\n",
    "        \n",
    "        z2 = self.W2@A1 + self.b2\n",
    "        A2 = self.sigmoid(z2)\n",
    "        A2[A2 >= 0.5] = 1\n",
    "        A2[A2 < 0.5] = 0\n",
    "        return A2\n",
    "    \n",
    "    def train_loss(self, Y):\n",
    "        return np.sum(np.power(Y - self.A2, 2))\n",
    "    \n",
    "    def valid_loss(self, X, Y):\n",
    "        Y_hat = self.predict_for_valid(X)\n",
    "        return np.sum(np.power(Y - Y_hat, 2))\n",
    "    \n",
    "    def back_prop(self, X, Y):\n",
    "        self.dz2 = self.A2*(1 - self.A2) * 2*(self.A2 - Y)\n",
    "        self.dW2 = self.dz2 @ self.A1.T\n",
    "        self.db2 = np.sum(self.dz2, axis=1, keepdims=True)\n",
    "        \n",
    "        self.dz1 = (self.W2.T @ self.dz2) * (self.A1*(1 - self.A1))\n",
    "        self.dW1 = self.dz1 @ X.T\n",
    "        self.db1 = np.sum(self.dz1, axis=1, keepdims=True)\n",
    "    \n",
    "    def update_params(self):\n",
    "        self.W1 -= self.lr * self.dW1\n",
    "        self.W2 -= self.lr * self.dW2\n",
    "        self.b1 -= self.lr * self.db1\n",
    "        self.b2 -= self.lr * self.db2\n",
    "    \n",
    "    def train(self, epochs=1, mini_batch_size=1, verbose=True):\n",
    "        \n",
    "        self.epoch = epochs \n",
    "        \n",
    "        self.split_samples()\n",
    "        \n",
    "        self.training_loss = np.zeros((1, epochs))\n",
    "        self.validation_loss = np.zeros((1, epochs))\n",
    "        \n",
    "        N_mini_batch_size = int(self.X_train.shape[1] / mini_batch_size)\n",
    "        \n",
    "        self.initialise_params()\n",
    "        \n",
    "        for i in range(epochs):\n",
    "            for j in range(N_mini_batch_size-1):\n",
    "                X = self.X_train[:, (j)*mini_batch_size : (j+1)*mini_batch_size]\n",
    "                Y = self.Y_train[:, (j)*mini_batch_size : (j+1)*mini_batch_size]\n",
    "                \n",
    "                self.forward_prop(X)\n",
    "                \n",
    "                self.training_loss[0, i] += (self.train_loss(Y))\n",
    "                self.validation_loss[0, i] += (self.valid_loss(self.X_valid, self.Y_valid))\n",
    "                \n",
    "                self.back_prop(X, Y)\n",
    "                \n",
    "                self.update_params()\n",
    "                \n",
    "            X = self.X_train[:, (-1*N_mini_batch_size) :]\n",
    "            Y = self.Y_train[:, (-1*N_mini_batch_size) :]\n",
    "\n",
    "            self.forward_prop(X)\n",
    "\n",
    "            self.training_loss[0, i] += (self.train_loss(Y))\n",
    "            self.validation_loss[0, i] += (self.valid_loss(self.X_valid, self.Y_valid))\n",
    "\n",
    "            self.back_prop(X, Y)\n",
    "\n",
    "            self.update_params()  \n",
    "            if verbose:\n",
    "                print(\"Epoch {} :- Training Loss is {}, Validation Loss is {}\".format(i+1, self.training_loss[0, i], self.validation_loss[0, i]))\n",
    "\n",
    "    def plot(self):\n",
    "        plt.figure()\n",
    "        plt.xlabel(\"epoch\")\n",
    "        plt.ylabel(\"MSE\")\n",
    "        plt.semilogy(np.arange(self.epoch), self.training_loss.reshape(self.epoch, ), label=\"Training\")\n",
    "        plt.semilogy(np.arange(self.epoch), self.validation_loss.reshape(self.epoch, ), label=\"Validation\")\n",
    "        plt.legend()\n",
    "        plt.show()\n",
    "    \n",
    "    def print_params(self):\n",
    "        print(\"########### Hidden layer #########\")\n",
    "        print(\"[w11={:.3f} w12={:.3f}]\\n[w21={:.3f} w22={:.3f}]\".format(self.W1[0, 0], self.W1[0, 1], self.W1[1, 0], self.W1[1, 1]))\n",
    "        print(\"[b1={:.3f} b2={:.3f}]\".format(self.b1[0, 0], self.b1[1, 0]))\n",
    "        print(\"\\n\")\n",
    "        print(\"########## Output layer ##########\")\n",
    "        print(\"[w1={:.3f} w2={:.3f}]\".format(self.W2[0, 0], self.W2[0, 1]))\n",
    "        print(\"[b={:.3f}]\".format(self.b2[0, 0]))"
   ]
  },
  {
   "cell_type": "markdown",
   "id": "ea6ef68c",
   "metadata": {},
   "source": [
    "# Generating dataset"
   ]
  },
  {
   "cell_type": "code",
   "execution_count": 3,
   "id": "7aed9078",
   "metadata": {},
   "outputs": [],
   "source": [
    "def generate_samples(N, operation):\n",
    "    var = 0.01\n",
    "    X = np.zeros((2, N))\n",
    "    X[:, 0:4] = np.matrix([[0, 0, 1, 1], [0, 1, 0, 1]])\n",
    "    Y = np.zeros((1, N))\n",
    "    \n",
    "    if(operation == \"XOR\"):\n",
    "        Y[0, 0:4] = np.array([0, 1, 1, 0])\n",
    "    elif(operation == \"AND\"):\n",
    "        Y[0, 0:4] = np.array([0, 0, 0, 1])\n",
    "    elif(operation == \"OR\"):\n",
    "        Y[0, 0:4] = np.array([0, 1, 1, 1])\n",
    "    \n",
    "    for i in range(4, N):\n",
    "        X[0, i] = X[0, i%4] + np.sqrt(var)*np.random.randn()\n",
    "        X[1, i] = X[1, i%4] + np.sqrt(var)*np.random.randn()\n",
    "        Y[0, i] = Y[0, i%4]\n",
    "    \n",
    "    indices = np.arange(N)\n",
    "    np.random.shuffle(indices)\n",
    "    x = X[:, indices]\n",
    "    y = Y[:, indices]\n",
    "    return x, y"
   ]
  },
  {
   "cell_type": "code",
   "execution_count": 4,
   "id": "f501711a",
   "metadata": {},
   "outputs": [],
   "source": [
    "N = 1000\n",
    "X_xor, Y_xor = generate_samples(N, \"XOR\")\n",
    "XOR = MLP(X_xor, Y_xor, validation_split = 0.2)"
   ]
  },
  {
   "cell_type": "markdown",
   "id": "1ae1de8b",
   "metadata": {},
   "source": [
    "## Visulisation of input data"
   ]
  },
  {
   "cell_type": "code",
   "execution_count": 5,
   "id": "d05a38ad",
   "metadata": {},
   "outputs": [
    {
     "data": {
      "text/plain": [
       "[<matplotlib.lines.Line2D at 0x7eff4a944340>]"
      ]
     },
     "execution_count": 5,
     "metadata": {},
     "output_type": "execute_result"
    },
    {
     "data": {
      "image/png": "[encoded data removed]",
      "text/plain": [
       "<Figure size 432x288 with 1 Axes>"
      ]
     },
     "metadata": {
      "needs_background": "light"
     },
     "output_type": "display_data"
    }
   ],
   "source": [
    "plt.figure()\n",
    "plt.grid()\n",
    "plt.plot(X_xor[0, :], X_xor[1, :], \"bo\")\n",
    "plt.plot(1, 1, \"go\")\n",
    "plt.plot(1, 0, \"go\")\n",
    "plt.plot(0, 0, \"go\")\n",
    "plt.plot(0, 1, \"go\")"
   ]
  },
  {
   "cell_type": "markdown",
   "id": "7118bd33",
   "metadata": {},
   "source": [
    "## Training for XOR"
   ]
  },
  {
   "cell_type": "code",
   "execution_count": 6,
   "id": "fd6c7a61",
   "metadata": {
    "scrolled": true
   },
   "outputs": [
    {
     "name": "stdout",
     "output_type": "stream",
     "text": [
      "-> Total samples = 1000\n",
      "-> Training samples = 800\n",
      "-> Validation samples = 200\n",
      "Epoch 1 :- Training Loss is 184.14821393551358, Validation Loss is 613.0104886755772\n",
      "Epoch 2 :- Training Loss is 179.23731362401895, Validation Loss is 603.470063305691\n",
      "Epoch 3 :- Training Loss is 179.0683873727856, Validation Loss is 603.4266233504818\n",
      "Epoch 4 :- Training Loss is 178.84769613332094, Validation Loss is 603.1870781686666\n",
      "Epoch 5 :- Training Loss is 178.5268548299254, Validation Loss is 602.619533339662\n",
      "Epoch 6 :- Training Loss is 178.0280660995124, Validation Loss is 601.4951193238176\n",
      "Epoch 7 :- Training Loss is 177.23115586409764, Validation Loss is 599.4437308263642\n",
      "Epoch 8 :- Training Loss is 175.97214466099842, Validation Loss is 595.9452335576228\n",
      "Epoch 9 :- Training Loss is 174.0708466494358, Validation Loss is 590.4171263678325\n",
      "Epoch 10 :- Training Loss is 171.38438178905122, Validation Loss is 582.3913017589309\n",
      "Epoch 11 :- Training Loss is 167.85378930202342, Validation Loss is 571.6664446428725\n",
      "Epoch 12 :- Training Loss is 163.53823559088687, Validation Loss is 558.4071625851967\n",
      "Epoch 13 :- Training Loss is 158.65503427580921, Validation Loss is 543.2543580497872\n",
      "Epoch 14 :- Training Loss is 153.56254806861753, Validation Loss is 527.2733573426872\n",
      "Epoch 15 :- Training Loss is 148.61255801317333, Validation Loss is 511.51949701605713\n",
      "Epoch 16 :- Training Loss is 143.96931990745935, Validation Loss is 496.4970014099957\n",
      "Epoch 17 :- Training Loss is 139.55712712158711, Validation Loss is 481.9959600896743\n",
      "Epoch 18 :- Training Loss is 135.1645562173578, Validation Loss is 467.4105200248035\n",
      "Epoch 19 :- Training Loss is 130.58595258308648, Validation Loss is 452.1529335580034\n",
      "Epoch 20 :- Training Loss is 125.60298072444891, Validation Loss is 435.5336793214135\n",
      "Epoch 21 :- Training Loss is 119.81068646154937, Validation Loss is 416.1438721355124\n",
      "Epoch 22 :- Training Loss is 112.51424366630968, Validation Loss is 391.43287239659617\n",
      "Epoch 23 :- Training Loss is 102.8504982690928, Validation Loss is 358.11484499990985\n",
      "Epoch 24 :- Training Loss is 90.36174214027467, Validation Loss is 314.54240531094894\n",
      "Epoch 25 :- Training Loss is 75.86078709322454, Validation Loss is 264.0385422153758\n",
      "Epoch 26 :- Training Loss is 61.359915127798, Validation Loss is 213.96918402538756\n",
      "Epoch 27 :- Training Loss is 48.77913077977622, Validation Loss is 170.79088024595495\n",
      "Epoch 28 :- Training Loss is 38.91301779260742, Validation Loss is 136.90904728377677\n",
      "Epoch 29 :- Training Loss is 31.548918703621567, Validation Loss is 111.46297447508735\n",
      "Epoch 30 :- Training Loss is 26.104452730821595, Validation Loss is 92.50077099731365\n",
      "Epoch 31 :- Training Loss is 22.03489211909585, Validation Loss is 78.22629345420118\n",
      "Epoch 32 :- Training Loss is 18.93613659557167, Validation Loss is 67.29421745415475\n",
      "Epoch 33 :- Training Loss is 16.528391403483067, Validation Loss is 58.760011034036864\n",
      "Epoch 34 :- Training Loss is 14.620663855318782, Validation Loss is 51.971487995775526\n",
      "Epoch 35 :- Training Loss is 13.081729549160194, Validation Loss is 46.476750743989946\n",
      "Epoch 36 :- Training Loss is 11.8200857047779, Validation Loss is 41.95870390585438\n",
      "Epoch 37 :- Training Loss is 10.77077933832222, Validation Loss is 38.19115380535336\n",
      "Epoch 38 :- Training Loss is 9.886844906742297, Validation Loss is 35.00989047125112\n",
      "Epoch 39 :- Training Loss is 9.133708234076108, Validation Loss is 32.29361585502123\n",
      "Epoch 40 :- Training Loss is 8.485482739877186, Validation Loss is 29.9512383193144\n",
      "Epoch 41 :- Training Loss is 7.922479357377589, Validation Loss is 27.91328779834807\n",
      "Epoch 42 :- Training Loss is 7.4295042211897195, Validation Loss is 26.126023243002667\n",
      "Epoch 43 :- Training Loss is 6.994675313831829, Validation Loss is 24.547322602968876\n",
      "Epoch 44 :- Training Loss is 6.608586470464087, Validation Loss is 23.143770745733224\n",
      "Epoch 45 :- Training Loss is 6.263707639549284, Validation Loss is 21.888564900942363\n",
      "Epoch 46 :- Training Loss is 5.953948365279327, Validation Loss is 20.759986551056492\n",
      "Epoch 47 :- Training Loss is 5.674335737496149, Validation Loss is 19.74027159476066\n",
      "Epoch 48 :- Training Loss is 5.42077376752131, Validation Loss is 18.814764479047447\n",
      "Epoch 49 :- Training Loss is 5.1898614682767965, Validation Loss is 17.971277495957953\n",
      "Epoch 50 :- Training Loss is 4.978753794793301, Validation Loss is 17.199600167127866\n",
      "Epoch 51 :- Training Loss is 4.785054250161574, Validation Loss is 16.491119718234895\n",
      "Epoch 52 :- Training Loss is 4.606731147402704, Validation Loss is 15.838524687664982\n",
      "Epoch 53 :- Training Loss is 4.442051728814355, Validation Loss is 15.235571394325497\n",
      "Epoch 54 :- Training Loss is 4.289529898130816, Validation Loss is 14.676898397244027\n",
      "Epoch 55 :- Training Loss is 4.147884425534421, Validation Loss is 14.157877931219636\n",
      "Epoch 56 :- Training Loss is 4.01600527969936, Validation Loss is 13.67449607629414\n",
      "Epoch 57 :- Training Loss is 3.8929263179440925, Validation Loss is 13.223255436781365\n",
      "Epoch 58 :- Training Loss is 3.7778029888155027, Validation Loss is 12.8010955883297\n",
      "Epoch 59 :- Training Loss is 3.6698940148719466, Validation Loss is 12.405327651135376\n",
      "Epoch 60 :- Training Loss is 3.568546257628759, Validation Loss is 12.033580170164871\n",
      "Epoch 61 :- Training Loss is 3.4731821430919387, Validation Loss is 11.68375410397073\n",
      "Epoch 62 :- Training Loss is 3.3832891603309005, Validation Loss is 11.353985195721563\n",
      "Epoch 63 :- Training Loss is 3.2984110481081554, Validation Loss is 11.042612361738755\n",
      "Epoch 64 :- Training Loss is 3.2181403636424926, Validation Loss is 10.748151011929163\n",
      "Epoch 65 :- Training Loss is 3.142112188938848, Validation Loss is 10.469270433345242\n",
      "Epoch 66 :- Training Loss is 3.06999877804678, Validation Loss is 10.204774537669188\n",
      "Epoch 67 :- Training Loss is 3.0015049862815935, Validation Loss is 9.953585406833136\n",
      "Epoch 68 :- Training Loss is 2.9363643522280483, Validation Loss is 9.714729176576423\n",
      "Epoch 69 :- Training Loss is 2.87433572703007, Validation Loss is 9.487323881777545\n",
      "Epoch 70 :- Training Loss is 2.815200364402791, Validation Loss is 9.270568954639643\n",
      "Epoch 71 :- Training Loss is 2.7587594000165736, Validation Loss is 9.063736120887006\n",
      "Epoch 72 :- Training Loss is 2.7048316611873986, Validation Loss is 8.866161482836246\n",
      "Epoch 73 :- Training Loss is 2.653251757774774, Validation Loss is 8.677238613693872\n",
      "Epoch 74 :- Training Loss is 2.6038684133109578, Validation Loss is 8.496412516377983\n",
      "Epoch 75 :- Training Loss is 2.556543002033913, Validation Loss is 8.323174323872623\n",
      "Epoch 76 :- Training Loss is 2.511148262961013, Validation Loss is 8.157056637626846\n",
      "Epoch 77 :- Training Loss is 2.4675671666498853, Validation Loss is 7.99762941661655\n",
      "Epoch 78 :- Training Loss is 2.425691914028358, Validation Loss is 7.844496343038914\n",
      "Epoch 79 :- Training Loss is 2.3854230497812483, Validation Loss is 7.6972916017177955\n",
      "Epoch 80 :- Training Loss is 2.346668675373229, Validation Loss is 7.55567701957399\n",
      "Epoch 81 :- Training Loss is 2.309343748956755, Validation Loss is 7.419339519285172\n",
      "Epoch 82 :- Training Loss is 2.2733694612365465, Validation Loss is 7.287988847792271\n",
      "Epoch 83 :- Training Loss is 2.2386726778980353, Validation Loss is 7.161355545816836\n",
      "Epoch 84 :- Training Loss is 2.2051854405053493, Validation Loss is 7.03918912921261\n",
      "Epoch 85 :- Training Loss is 2.1728445188750403, Validation Loss is 6.921256456926179\n",
      "Epoch 86 :- Training Loss is 2.1415910088673753, Validation Loss is 6.807340263703374\n",
      "Epoch 87 :- Training Loss is 2.111369970334911, Validation Loss is 6.697237838546021\n",
      "Epoch 88 :- Training Loss is 2.0821301006498167, Validation Loss is 6.590759832376428\n",
      "Epoch 89 :- Training Loss is 2.0538234398160116, Validation Loss is 6.4877291804704065\n",
      "Epoch 90 :- Training Loss is 2.026405103674271, Validation Loss is 6.387980127028015\n",
      "Epoch 91 :- Training Loss is 1.9998330421408732, Validation Loss is 6.291357340809334\n",
      "Epoch 92 :- Training Loss is 1.9740678197939023, Validation Loss is 6.197715112108695\n",
      "Epoch 93 :- Training Loss is 1.9490724164441697, Validation Loss is 6.106916622505869\n",
      "Epoch 94 :- Training Loss is 1.9248120456080322, Validation Loss is 6.018833279843948\n",
      "Epoch 95 :- Training Loss is 1.901253989042775, Validation Loss is 5.933344111762585\n",
      "Epoch 96 :- Training Loss is 1.8783674457172437, Validation Loss is 5.8503352118811005\n",
      "Epoch 97 :- Training Loss is 1.85612339377547, Validation Loss is 5.769699233395105\n",
      "Epoch 98 :- Training Loss is 1.8344944642127237, Validation Loss is 5.6913349254345595\n",
      "Epoch 99 :- Training Loss is 1.813454825125167, Validation Loss is 5.615146708044507\n",
      "Epoch 100 :- Training Loss is 1.7929800755186938, Validation Loss is 5.5410442820995005\n",
      "CPU times: user 295 ms, sys: 2.77 ms, total: 298 ms\n",
      "Wall time: 289 ms\n"
     ]
    }
   ],
   "source": [
    "%%time\n",
    "XOR.train(epochs=100, mini_batch_size=64)"
   ]
  },
  {
   "cell_type": "markdown",
   "id": "0dd0a5ef",
   "metadata": {},
   "source": [
    "# Plots of training and validation losses"
   ]
  },
  {
   "cell_type": "code",
   "execution_count": 7,
   "id": "7ced7a7a",
   "metadata": {},
   "outputs": [
    {
     "data": {
      "image/png": "[encoded data removed]",
      "text/plain": [
       "<Figure size 432x288 with 1 Axes>"
      ]
     },
     "metadata": {
      "needs_background": "light"
     },
     "output_type": "display_data"
    }
   ],
   "source": [
    "XOR.plot()"
   ]
  },
  {
   "cell_type": "markdown",
   "id": "9e031ff8",
   "metadata": {},
   "source": [
    "# Predictions"
   ]
  },
  {
   "cell_type": "code",
   "execution_count": 8,
   "id": "4d49062b",
   "metadata": {},
   "outputs": [
    {
     "data": {
      "text/html": [
       "<div>\n",
       "<style scoped>\n",
       "    .dataframe tbody tr th:only-of-type {\n",
       "        vertical-align: middle;\n",
       "    }\n",
       "\n",
       "    .dataframe tbody tr th {\n",
       "        vertical-align: top;\n",
       "    }\n",
       "\n",
       "    .dataframe thead th {\n",
       "        text-align: right;\n",
       "    }\n",
       "</style>\n",
       "<table border=\"1\" class=\"dataframe\">\n",
       "  <thead>\n",
       "    <tr style=\"text-align: right;\">\n",
       "      <th></th>\n",
       "      <th>A</th>\n",
       "      <th>B</th>\n",
       "      <th>Output</th>\n",
       "      <th>Threshould</th>\n",
       "    </tr>\n",
       "  </thead>\n",
       "  <tbody>\n",
       "    <tr>\n",
       "      <th>0</th>\n",
       "      <td>0</td>\n",
       "      <td>1</td>\n",
       "      <td>0.977758</td>\n",
       "      <td>1</td>\n",
       "    </tr>\n",
       "    <tr>\n",
       "      <th>1</th>\n",
       "      <td>0</td>\n",
       "      <td>0</td>\n",
       "      <td>0.029252</td>\n",
       "      <td>0</td>\n",
       "    </tr>\n",
       "    <tr>\n",
       "      <th>2</th>\n",
       "      <td>0</td>\n",
       "      <td>1</td>\n",
       "      <td>0.977758</td>\n",
       "      <td>1</td>\n",
       "    </tr>\n",
       "    <tr>\n",
       "      <th>3</th>\n",
       "      <td>1</td>\n",
       "      <td>1</td>\n",
       "      <td>0.031119</td>\n",
       "      <td>0</td>\n",
       "    </tr>\n",
       "  </tbody>\n",
       "</table>\n",
       "</div>"
      ],
      "text/plain": [
       "   A  B    Output  Threshould\n",
       "0  0  1  0.977758           1\n",
       "1  0  0  0.029252           0\n",
       "2  0  1  0.977758           1\n",
       "3  1  1  0.031119           0"
      ]
     },
     "execution_count": 8,
     "metadata": {},
     "output_type": "execute_result"
    }
   ],
   "source": [
    "test = np.array([[0, 0], [0, 1], [1, 0], [1, 1]]).reshape(2, 4)\n",
    "y_test = XOR.predict_for_valid(test).reshape(-1, )\n",
    "pd.DataFrame({\"A\":test[0, :], \"B\":test[1, :], \"Output\":y_test, \"Threshould\":(y_test>0.5).astype(int)}).head()"
   ]
  },
  {
   "cell_type": "markdown",
   "id": "75a5e6c5",
   "metadata": {},
   "source": [
    "# Learnt parameters"
   ]
  },
  {
   "cell_type": "code",
   "execution_count": 9,
   "id": "67bba428",
   "metadata": {},
   "outputs": [
    {
     "name": "stdout",
     "output_type": "stream",
     "text": [
      "########### Hidden layer #########\n",
      "[w11=6.543 w12=6.273]\n",
      "[w21=4.536 w22=4.202]\n",
      "[b1=-3.134 b2=-6.753]\n",
      "\n",
      "\n",
      "########## Output layer ##########\n",
      "[w1=8.677 w2=-9.396]\n",
      "[b=-3.853]\n"
     ]
    }
   ],
   "source": [
    "XOR.print_params()"
   ]
  },
  {
   "cell_type": "markdown",
   "id": "79b6df52",
   "metadata": {},
   "source": [
    "## Training with different number of samples to observe performance difference"
   ]
  },
  {
   "cell_type": "code",
   "execution_count": 10,
   "id": "383c75bf",
   "metadata": {},
   "outputs": [
    {
     "name": "stdout",
     "output_type": "stream",
     "text": [
      "-> Total samples = 2500\n",
      "-> Training samples = 2000\n",
      "-> Validation samples = 500\n",
      "-> Total samples = 5000\n",
      "-> Training samples = 4000\n",
      "-> Validation samples = 1000\n"
     ]
    }
   ],
   "source": [
    "# N=2500\n",
    "X_xor_1, Y_xor_1 = generate_samples(2500, \"XOR\")\n",
    "XOR_1 = MLP(X_xor_1, Y_xor_1, validation_split = 0.2)\n",
    "XOR_1.train(epochs=100, mini_batch_size=64, verbose=False)\n",
    "\n",
    "# N=5000\n",
    "X_xor_2, Y_xor_2 = generate_samples(5000, \"XOR\")\n",
    "XOR_2 = MLP(X_xor_2, Y_xor_2, validation_split = 0.2)\n",
    "XOR_2.train(epochs=100, mini_batch_size=64, verbose=False)"
   ]
  },
  {
   "cell_type": "code",
   "execution_count": 11,
   "id": "bf502d13",
   "metadata": {},
   "outputs": [
    {
     "data": {
      "text/plain": [
       "<matplotlib.legend.Legend at 0x7eff486b8040>"
      ]
     },
     "execution_count": 11,
     "metadata": {},
     "output_type": "execute_result"
    },
    {
     "data": {
      "image/png": "[encoded data removed]",
      "text/plain": [
       "<Figure size 432x288 with 1 Axes>"
      ]
     },
     "metadata": {
      "needs_background": "light"
     },
     "output_type": "display_data"
    }
   ],
   "source": [
    "E = np.arange(100)\n",
    "\n",
    "plt.figure()\n",
    "plt.title(\"Training Loss\")\n",
    "plt.xlabel(\"epoch\")\n",
    "plt.ylabel(\"MSE\")\n",
    "plt.semilogy(E, XOR.training_loss.reshape(100, ), label=\"N=1000\")\n",
    "plt.semilogy(E, XOR_1.training_loss.reshape(100, ), label=\"N=2500\")\n",
    "plt.semilogy(E, XOR_2.training_loss.reshape(100, ), label=\"N=5000\")\n",
    "plt.legend()"
   ]
  },
  {
   "cell_type": "markdown",
   "id": "5eb6ed95",
   "metadata": {},
   "source": [
    "# Training for AND"
   ]
  },
  {
   "cell_type": "code",
   "execution_count": 12,
   "id": "e7cdd785",
   "metadata": {},
   "outputs": [],
   "source": [
    "N = 1000\n",
    "X_and, Y_and = generate_samples(N, \"AND\")\n",
    "AND = MLP(X_and, Y_and, validation_split = 0.2)"
   ]
  },
  {
   "cell_type": "code",
   "execution_count": 13,
   "id": "87eaf36a",
   "metadata": {
    "scrolled": true
   },
   "outputs": [
    {
     "name": "stdout",
     "output_type": "stream",
     "text": [
      "-> Total samples = 1000\n",
      "-> Training samples = 800\n",
      "-> Validation samples = 200\n",
      "Epoch 1 :- Training Loss is 136.81487410735957, Validation Loss is 464.2365870736777\n",
      "Epoch 2 :- Training Loss is 131.30541321336943, Validation Loss is 439.13685276354374\n",
      "Epoch 3 :- Training Loss is 127.59196798832322, Validation Loss is 423.5291715817951\n",
      "Epoch 4 :- Training Loss is 123.32438058890364, Validation Loss is 405.8465165631777\n",
      "Epoch 5 :- Training Loss is 118.55330585790105, Validation Loss is 386.3538757670983\n",
      "Epoch 6 :- Training Loss is 113.55971978744184, Validation Loss is 366.3211739820954\n",
      "Epoch 7 :- Training Loss is 108.77966760062391, Validation Loss is 347.5405485918512\n",
      "Epoch 8 :- Training Loss is 104.50406999713083, Validation Loss is 331.0992046043063\n",
      "Epoch 9 :- Training Loss is 100.65700929994158, Validation Loss is 316.64703178134863\n",
      "Epoch 10 :- Training Loss is 96.70664997031085, Validation Loss is 302.2352689653591\n",
      "Epoch 11 :- Training Loss is 91.17079502120149, Validation Loss is 282.8112862360543\n",
      "Epoch 12 :- Training Loss is 79.37130188247616, Validation Loss is 243.474125535186\n",
      "Epoch 13 :- Training Loss is 56.07668389384772, Validation Loss is 170.484988083754\n",
      "Epoch 14 :- Training Loss is 35.94736314325755, Validation Loss is 110.54924388536243\n",
      "Epoch 15 :- Training Loss is 25.922634913582012, Validation Loss is 80.51963191584534\n",
      "Epoch 16 :- Training Loss is 20.151304030082063, Validation Loss is 62.78168376677992\n",
      "Epoch 17 :- Training Loss is 16.284880988462437, Validation Loss is 50.75508608901247\n",
      "Epoch 18 :- Training Loss is 13.529562759436907, Validation Loss is 42.16358592931836\n",
      "Epoch 19 :- Training Loss is 11.4904405125425, Validation Loss is 35.814789592607234\n",
      "Epoch 20 :- Training Loss is 9.935548671894319, Validation Loss is 30.987681083720823\n",
      "Epoch 21 :- Training Loss is 8.719660758730136, Validation Loss is 27.22527229828376\n",
      "Epoch 22 :- Training Loss is 7.7481909960669935, Validation Loss is 24.22870437682677\n",
      "Epoch 23 :- Training Loss is 6.957516282008992, Validation Loss is 21.79690940289575\n",
      "Epoch 24 :- Training Loss is 6.303611733359276, Validation Loss is 19.790987275342243\n",
      "Epoch 25 :- Training Loss is 5.7552366864800355, Validation Loss is 18.112622293723984\n",
      "Epoch 26 :- Training Loss is 5.289718595777819, Validation Loss is 16.69066946241672\n",
      "Epoch 27 :- Training Loss is 4.890269441894446, Validation Loss is 15.4726064106731\n",
      "Epoch 28 :- Training Loss is 4.544232897125255, Validation Loss is 14.418953416586438\n",
      "Epoch 29 :- Training Loss is 4.241912108219369, Validation Loss is 13.499547715391547\n",
      "Epoch 30 :- Training Loss is 3.9757687201343463, Validation Loss is 12.691003169518169\n",
      "Epoch 31 :- Training Loss is 3.739864718689606, Validation Loss is 11.974944316825757\n",
      "Epoch 32 :- Training Loss is 3.529466444658849, Validation Loss is 11.33675667701372\n",
      "Epoch 33 :- Training Loss is 3.340759015251739, Validation Loss is 10.764687785225972\n",
      "Epoch 34 :- Training Loss is 3.170637249716348, Validation Loss is 10.249190697418394\n",
      "Epoch 35 :- Training Loss is 3.0165504750409355, Validation Loss is 9.782437860751017\n",
      "Epoch 36 :- Training Loss is 2.876385851258456, Validation Loss is 9.357956493027451\n",
      "Epoch 37 :- Training Loss is 2.7483796191092136, Validation Loss is 8.97035183822579\n",
      "Epoch 38 :- Training Loss is 2.6310488496472995, Validation Loss is 8.615094799473937\n",
      "Epoch 39 :- Training Loss is 2.5231384277083744, Validation Loss is 8.288357303362208\n",
      "Epoch 40 :- Training Loss is 2.423579480886863, Validation Loss is 7.986883450991199\n",
      "Epoch 41 :- Training Loss is 2.3314564969777334, Validation Loss is 7.707887781131313\n",
      "Epoch 42 :- Training Loss is 2.24598110084585, Validation Loss is 7.448974274434837\n",
      "Epoch 43 :- Training Loss is 2.1664709817677217, Validation Loss is 7.208071369962951\n",
      "Epoch 44 :- Training Loss is 2.0923328380150465, Validation Loss is 6.983379449419983\n",
      "Epoch 45 :- Training Loss is 2.023048479754402, Validation Loss is 6.773328107329735\n",
      "Epoch 46 :- Training Loss is 1.958163433588235, Validation Loss is 6.57654116040462\n",
      "Epoch 47 :- Training Loss is 1.8972775425811979, Validation Loss is 6.391807821106292\n",
      "Epoch 48 :- Training Loss is 1.8400371686228898, Validation Loss is 6.2180588139693524\n",
      "Epoch 49 :- Training Loss is 1.786128689528523, Validation Loss is 6.054346480486457\n",
      "Epoch 50 :- Training Loss is 1.7352730485539336, Validation Loss is 5.899828121924317\n",
      "Epoch 51 :- Training Loss is 1.6872211641777817, Validation Loss is 5.753751985686675\n",
      "Epoch 52 :- Training Loss is 1.6417500468465722, Validation Loss is 5.615445421618651\n",
      "Epoch 53 :- Training Loss is 1.5986594996494738, Validation Loss is 5.4843048286418785\n",
      "Epoch 54 :- Training Loss is 1.5577693036315763, Validation Loss is 5.359787085730959\n",
      "Epoch 55 :- Training Loss is 1.5189168071880272, Validation Loss is 5.241402219259504\n",
      "Epoch 56 :- Training Loss is 1.4819548538490872, Validation Loss is 5.128707104731615\n",
      "Epoch 57 :- Training Loss is 1.4467499946306177, Validation Loss is 5.021300037569983\n",
      "Epoch 58 :- Training Loss is 1.4131809406423337, Validation Loss is 4.918816037003527\n",
      "Epoch 59 :- Training Loss is 1.381137219319856, Validation Loss is 4.820922770753021\n",
      "Epoch 60 :- Training Loss is 1.3505180038633513, Validation Loss is 4.7273170073569295\n",
      "Epoch 61 :- Training Loss is 1.321231090525111, Validation Loss is 4.637721518544601\n",
      "Epoch 62 :- Training Loss is 1.2931920025243586, Validation Loss is 4.551882366775245\n",
      "Epoch 63 :- Training Loss is 1.2663232027629572, Validation Loss is 4.4695665234865745\n",
      "Epoch 64 :- Training Loss is 1.2405534003142888, Validation Loss is 4.39055977218239\n",
      "Epoch 65 :- Training Loss is 1.2158169379733492, Validation Loss is 4.314664857586624\n",
      "Epoch 66 :- Training Loss is 1.1920532500795964, Validation Loss is 4.241699847982028\n",
      "Epoch 67 :- Training Loss is 1.1692063814274138, Validation Loss is 4.171496682758201\n",
      "Epoch 68 :- Training Loss is 1.1472245594202646, Validation Loss is 4.103899881294678\n",
      "Epoch 69 :- Training Loss is 1.126059812750181, Validation Loss is 4.038765392744057\n",
      "Epoch 70 :- Training Loss is 1.1056676308320557, Validation Loss is 3.9759595691740204\n",
      "Epoch 71 :- Training Loss is 1.086006659022622, Validation Loss is 3.915358246969438\n",
      "Epoch 72 :- Training Loss is 1.067038425332195, Validation Loss is 3.856845923463535\n",
      "Epoch 73 :- Training Loss is 1.0487270949133354, Validation Loss is 3.8003150175226534\n",
      "Epoch 74 :- Training Loss is 1.0310392491015028, Validation Loss is 3.7456652043039758\n",
      "Epoch 75 :- Training Loss is 1.0139436862020885, Validation Loss is 3.6928028156817745\n",
      "Epoch 76 :- Training Loss is 0.9974112415773857, Validation Loss is 3.6416402989303283\n",
      "Epoch 77 :- Training Loss is 0.9814146248955111, Validation Loss is 3.592095727189157\n",
      "Epoch 78 :- Training Loss is 0.9659282726687909, Validation Loss is 3.5440923560429898\n",
      "Epoch 79 :- Training Loss is 0.9509282144381794, Validation Loss is 3.497558221244497\n",
      "Epoch 80 :- Training Loss is 0.9363919511584852, Validation Loss is 3.4524257732091788\n",
      "Epoch 81 :- Training Loss is 0.9222983445108428, Validation Loss is 3.408631544432875\n",
      "Epoch 82 :- Training Loss is 0.9086275160180988, Validation Loss is 3.3661158464345116\n",
      "Epoch 83 :- Training Loss is 0.8953607549686484, Validation Loss is 3.324822493220588\n",
      "Epoch 84 :- Training Loss is 0.8824804342675124, Validation Loss is 3.2846985486108076\n",
      "Epoch 85 :- Training Loss is 0.8699699334324824, Validation Loss is 3.245694095064174\n",
      "Epoch 86 :- Training Loss is 0.8578135680398395, Validation Loss is 3.207762021907296\n",
      "Epoch 87 :- Training Loss is 0.8459965250002589, Validation Loss is 3.17085783109685\n",
      "Epoch 88 :- Training Loss is 0.8345048031123063, Validation Loss is 3.1349394588501585\n",
      "Epoch 89 :- Training Loss is 0.8233251583998884, Validation Loss is 3.0999671116560688\n",
      "Epoch 90 :- Training Loss is 0.8124450537918777, Validation Loss is 3.0659031153350673\n",
      "Epoch 91 :- Training Loss is 0.8018526127480388, Validation Loss is 3.0327117759561886\n",
      "Epoch 92 :- Training Loss is 0.7915365764759775, Validation Loss is 3.0003592515409405\n",
      "Epoch 93 :- Training Loss is 0.781486264419836, Validation Loss is 2.968813433593014\n",
      "Epoch 94 :- Training Loss is 0.771691537733375, Validation Loss is 2.9380438375890376\n",
      "Epoch 95 :- Training Loss is 0.7621427654785202, Validation Loss is 2.908021501651369\n",
      "Epoch 96 :- Training Loss is 0.7528307933157208, Validation Loss is 2.8787188926999234\n",
      "Epoch 97 :- Training Loss is 0.7437469144750242, Validation Loss is 2.8501098194484547\n",
      "Epoch 98 :- Training Loss is 0.7348828428169355, Validation Loss is 2.822169351671062\n",
      "Epoch 99 :- Training Loss is 0.7262306878100979, Validation Loss is 2.7948737452191037\n",
      "Epoch 100 :- Training Loss is 0.7177829312689795, Validation Loss is 2.7682003723172883\n",
      "CPU times: user 294 ms, sys: 785 µs, total: 295 ms\n"
     ]
    },
    {
     "name": "stdout",
     "output_type": "stream",
     "text": [
      "Wall time: 287 ms\n"
     ]
    }
   ],
   "source": [
    "%%time\n",
    "AND.train(epochs=100, mini_batch_size=64)"
   ]
  },
  {
   "cell_type": "markdown",
   "id": "a24ab060",
   "metadata": {},
   "source": [
    "# Visualisation of loss against number of epochs"
   ]
  },
  {
   "cell_type": "code",
   "execution_count": 14,
   "id": "ef670d1e",
   "metadata": {},
   "outputs": [
    {
     "data": {
      "image/png": "[encoded data removed]",
      "text/plain": [
       "<Figure size 432x288 with 1 Axes>"
      ]
     },
     "metadata": {
      "needs_background": "light"
     },
     "output_type": "display_data"
    }
   ],
   "source": [
    "AND.plot()"
   ]
  },
  {
   "cell_type": "markdown",
   "id": "244d0d67",
   "metadata": {},
   "source": [
    "# Predictions"
   ]
  },
  {
   "cell_type": "code",
   "execution_count": 15,
   "id": "31587037",
   "metadata": {},
   "outputs": [
    {
     "data": {
      "text/html": [
       "<div>\n",
       "<style scoped>\n",
       "    .dataframe tbody tr th:only-of-type {\n",
       "        vertical-align: middle;\n",
       "    }\n",
       "\n",
       "    .dataframe tbody tr th {\n",
       "        vertical-align: top;\n",
       "    }\n",
       "\n",
       "    .dataframe thead th {\n",
       "        text-align: right;\n",
       "    }\n",
       "</style>\n",
       "<table border=\"1\" class=\"dataframe\">\n",
       "  <thead>\n",
       "    <tr style=\"text-align: right;\">\n",
       "      <th></th>\n",
       "      <th>A</th>\n",
       "      <th>B</th>\n",
       "      <th>Output</th>\n",
       "      <th>Threshould</th>\n",
       "    </tr>\n",
       "  </thead>\n",
       "  <tbody>\n",
       "    <tr>\n",
       "      <th>0</th>\n",
       "      <td>0</td>\n",
       "      <td>1</td>\n",
       "      <td>0.015567</td>\n",
       "      <td>0</td>\n",
       "    </tr>\n",
       "    <tr>\n",
       "      <th>1</th>\n",
       "      <td>0</td>\n",
       "      <td>0</td>\n",
       "      <td>0.006116</td>\n",
       "      <td>0</td>\n",
       "    </tr>\n",
       "    <tr>\n",
       "      <th>2</th>\n",
       "      <td>0</td>\n",
       "      <td>1</td>\n",
       "      <td>0.015567</td>\n",
       "      <td>0</td>\n",
       "    </tr>\n",
       "    <tr>\n",
       "      <th>3</th>\n",
       "      <td>1</td>\n",
       "      <td>1</td>\n",
       "      <td>0.976894</td>\n",
       "      <td>1</td>\n",
       "    </tr>\n",
       "  </tbody>\n",
       "</table>\n",
       "</div>"
      ],
      "text/plain": [
       "   A  B    Output  Threshould\n",
       "0  0  1  0.015567           0\n",
       "1  0  0  0.006116           0\n",
       "2  0  1  0.015567           0\n",
       "3  1  1  0.976894           1"
      ]
     },
     "execution_count": 15,
     "metadata": {},
     "output_type": "execute_result"
    }
   ],
   "source": [
    "test = np.array([[0, 0], [0, 1], [1, 0], [1, 1]]).reshape(2, 4)\n",
    "y_test = AND.predict_for_valid(test).reshape(-1, )\n",
    "pd.DataFrame({\"A\":test[0, :], \"B\":test[1, :], \"Output\":y_test, \"Threshould\":(y_test>0.5).astype(int)}).head()"
   ]
  },
  {
   "cell_type": "markdown",
   "id": "465fb415",
   "metadata": {},
   "source": [
    "## Training with different number of samples to observe performance difference"
   ]
  },
  {
   "cell_type": "code",
   "execution_count": 16,
   "id": "49fa93fd",
   "metadata": {},
   "outputs": [
    {
     "name": "stdout",
     "output_type": "stream",
     "text": [
      "-> Total samples = 2500\n",
      "-> Training samples = 2000\n",
      "-> Validation samples = 500\n",
      "-> Total samples = 5000\n",
      "-> Training samples = 4000\n",
      "-> Validation samples = 1000\n"
     ]
    }
   ],
   "source": [
    "# N=2500\n",
    "X_and_1, Y_and_1 = generate_samples(2500, \"AND\")\n",
    "AND_1 = MLP(X_and_1, Y_and_1, validation_split = 0.2)\n",
    "AND_1.train(epochs=100, mini_batch_size=64, verbose=False)\n",
    "\n",
    "# N=5000\n",
    "X_and_2, Y_and_2 = generate_samples(5000, \"AND\")\n",
    "AND_2 = MLP(X_and_2, Y_and_2, validation_split = 0.2)\n",
    "AND_2.train(epochs=100, mini_batch_size=64, verbose=False)"
   ]
  },
  {
   "cell_type": "code",
   "execution_count": 17,
   "id": "c97e155a",
   "metadata": {},
   "outputs": [
    {
     "data": {
      "text/plain": [
       "<matplotlib.legend.Legend at 0x7eff485197f0>"
      ]
     },
     "execution_count": 17,
     "metadata": {},
     "output_type": "execute_result"
    },
    {
     "data": {
      "image/png": "[encoded data removed]",
      "text/plain": [
       "<Figure size 432x288 with 1 Axes>"
      ]
     },
     "metadata": {
      "needs_background": "light"
     },
     "output_type": "display_data"
    }
   ],
   "source": [
    "E = np.arange(100)\n",
    "\n",
    "plt.figure()\n",
    "plt.title(\"Training Loss\")\n",
    "plt.xlabel(\"epoch\")\n",
    "plt.ylabel(\"MSE\")\n",
    "plt.semilogy(E, AND.training_loss.reshape(100, ), label=\"N=1000\")\n",
    "plt.semilogy(E, AND_1.training_loss.reshape(100, ), label=\"N=2500\")\n",
    "plt.semilogy(E, AND_2.training_loss.reshape(100, ), label=\"N=5000\")\n",
    "plt.legend()"
   ]
  },
  {
   "cell_type": "markdown",
   "id": "0079d3fd",
   "metadata": {},
   "source": [
    "# Training OR"
   ]
  },
  {
   "cell_type": "code",
   "execution_count": 18,
   "id": "381d98bc",
   "metadata": {},
   "outputs": [],
   "source": [
    "N = 1000\n",
    "X_or, Y_or = generate_samples(N, \"OR\")\n",
    "OR = MLP(X_or, Y_or, validation_split = 0.2)"
   ]
  },
  {
   "cell_type": "code",
   "execution_count": 19,
   "id": "324267cc",
   "metadata": {
    "scrolled": true
   },
   "outputs": [
    {
     "name": "stdout",
     "output_type": "stream",
     "text": [
      "-> Total samples = 1000\n",
      "-> Training samples = 800\n",
      "-> Validation samples = 200\n",
      "Epoch 1 :- Training Loss is 156.976189392569, Validation Loss is 453.70419389800014\n",
      "Epoch 2 :- Training Loss is 144.74765139633175, Validation Loss is 421.901694912221\n",
      "Epoch 3 :- Training Loss is 138.98939082477472, Validation Loss is 407.56571436549166\n",
      "Epoch 4 :- Training Loss is 134.56832731369258, Validation Loss is 396.4912646007666\n",
      "Epoch 5 :- Training Loss is 128.51110853998296, Validation Loss is 381.38868578167484\n",
      "Epoch 6 :- Training Loss is 118.30494389247858, Validation Loss is 355.25854679970263\n",
      "Epoch 7 :- Training Loss is 99.87934211808374, Validation Loss is 304.2608285257794\n",
      "Epoch 8 :- Training Loss is 70.17116687813345, Validation Loss is 217.82764117844306\n",
      "Epoch 9 :- Training Loss is 43.44031759827919, Validation Loss is 138.76060284531843\n",
      "Epoch 10 :- Training Loss is 28.130877015485556, Validation Loss is 92.01010321310616\n",
      "Epoch 11 :- Training Loss is 19.812996380426586, Validation Loss is 65.8967660487787\n",
      "Epoch 12 :- Training Loss is 14.93617375412392, Validation Loss is 50.304537711847516\n",
      "Epoch 13 :- Training Loss is 11.831536387232147, Validation Loss is 40.256969541138936\n",
      "Epoch 14 :- Training Loss is 9.71790974309944, Validation Loss is 33.356057736929245\n",
      "Epoch 15 :- Training Loss is 8.201778007864315, Validation Loss is 28.371419489158892\n",
      "Epoch 16 :- Training Loss is 7.068884488345751, Validation Loss is 24.625016772146655\n",
      "Epoch 17 :- Training Loss is 6.194409707082207, Validation Loss is 21.71848477847711\n",
      "Epoch 18 :- Training Loss is 5.50141918453025, Validation Loss is 19.404709842407563\n",
      "Epoch 19 :- Training Loss is 4.940222025617166, Validation Loss is 17.523260608583602\n",
      "Epoch 20 :- Training Loss is 4.477444753253888, Validation Loss is 15.965916776543592\n",
      "Epoch 21 :- Training Loss is 4.089921756194357, Validation Loss is 14.657270633489663\n",
      "Epoch 22 :- Training Loss is 3.7611144956579308, Validation Loss is 13.54330041332759\n",
      "Epoch 23 :- Training Loss is 3.478926135800537, Validation Loss is 12.584367594236232\n",
      "Epoch 24 :- Training Loss is 3.2343202454306668, Validation Loss is 11.750774932357938\n",
      "Epoch 25 :- Training Loss is 3.0204206339475896, Validation Loss is 11.019862579004421\n",
      "Epoch 26 :- Training Loss is 2.8319087689538853, Validation Loss is 10.374058619734285\n",
      "Epoch 27 :- Training Loss is 2.664610701769625, Validation Loss is 9.799539183662537\n",
      "Epoch 28 :- Training Loss is 2.515207847342195, Validation Loss is 9.285287994736318\n",
      "Epoch 29 :- Training Loss is 2.3810306077470407, Validation Loss is 8.822423752484433\n",
      "Epoch 30 :- Training Loss is 2.259908573778193, Validation Loss is 8.403710843380514\n",
      "Epoch 31 :- Training Loss is 2.1500601000043713, Validation Loss is 8.023197908055863\n",
      "Epoch 32 :- Training Loss is 2.0500097518788083, Validation Loss is 7.675947100368872\n",
      "Epoch 33 :- Training Loss is 1.9585257923798032, Validation Loss is 7.357828678775265\n",
      "Epoch 34 :- Training Loss is 1.8745722832035971, Validation Loss is 7.065363332007745\n",
      "Epoch 35 :- Training Loss is 1.7972719843380567, Validation Loss is 6.7955998373795845\n",
      "Epoch 36 :- Training Loss is 1.725877328990282, Validation Loss is 6.546019187099249\n",
      "Epoch 37 :- Training Loss is 1.659747505108227, Validation Loss is 6.314458762722942\n",
      "Epoch 38 :- Training Loss is 1.5983302026231523, Validation Loss is 6.0990518516697\n",
      "Epoch 39 :- Training Loss is 1.5411469598862728, Validation Loss is 5.89817901696708\n",
      "Epoch 40 :- Training Loss is 1.4877813115058713, Validation Loss is 5.710428706550929\n",
      "Epoch 41 :- Training Loss is 1.4378691349194137, Validation Loss is 5.534565124833471\n",
      "Epoch 42 :- Training Loss is 1.391090736235737, Validation Loss is 5.369501856953295\n",
      "Epoch 43 :- Training Loss is 1.3471643220273595, Validation Loss is 5.2142800832751375\n",
      "Epoch 44 :- Training Loss is 1.3058405831704376, Validation Loss is 5.068050481795752\n",
      "Epoch 45 :- Training Loss is 1.266898176774623, Validation Loss is 4.930058112684759\n",
      "Epoch 46 :- Training Loss is 1.2301399378677804, Validation Loss is 4.799629728986302\n",
      "Epoch 47 :- Training Loss is 1.195389687495305, Validation Loss is 4.6761630725506125\n",
      "Epoch 48 :- Training Loss is 1.1624895309351198, Validation Loss is 4.559117803268201\n",
      "Epoch 49 :- Training Loss is 1.1312975607715219, Validation Loss is 4.448007779018193\n",
      "Epoch 50 :- Training Loss is 1.1016858960534153, Validation Loss is 4.342394458117683\n",
      "Epoch 51 :- Training Loss is 1.0735390017545954, Validation Loss is 4.241881238967806\n",
      "Epoch 52 :- Training Loss is 1.0467522430560212, Validation Loss is 4.146108585654019\n",
      "Epoch 53 :- Training Loss is 1.021230637185762, Validation Loss is 4.054749815450413\n",
      "Epoch 54 :- Training Loss is 0.9968877721398107, Validation Loss is 3.967507446003268\n",
      "Epoch 55 :- Training Loss is 0.9736448669160159, Validation Loss is 3.8841100175767824\n",
      "Epoch 56 :- Training Loss is 0.9514299521934567, Validation Loss is 3.8043093200192324\n",
      "Epoch 57 :- Training Loss is 0.9301771538886708, Validation Loss is 3.727877965735234\n",
      "Epoch 58 :- Training Loss is 0.9098260648804347, Validation Loss is 3.6546072594634516\n",
      "Epoch 59 :- Training Loss is 0.8903211925429207, Validation Loss is 3.584305323476471\n",
      "Epoch 60 :- Training Loss is 0.8716114716627449, Validation Loss is 3.516795443269587\n",
      "Epoch 61 :- Training Loss is 0.8536498339174916, Validation Loss is 3.451914604148418\n",
      "Epoch 62 :- Training Loss is 0.8363928264242001, Validation Loss is 3.3895121935677373\n",
      "Epoch 63 :- Training Loss is 0.8198002729760899, Validation Loss is 3.3294488477816593\n",
      "Epoch 64 :- Training Loss is 0.8038349725144688, Validation Loss is 3.2715954244702123\n",
      "Epoch 65 :- Training Loss is 0.7884624301623671, Validation Loss is 3.215832085616303\n",
      "Epoch 66 :- Training Loss is 0.773650616803258, Validation Loss is 3.1620474771065963\n",
      "Epoch 67 :- Training Loss is 0.759369753743144, Validation Loss is 3.110137993389764\n",
      "Epoch 68 :- Training Loss is 0.7455921194646472, Validation Loss is 3.0600071171031575\n",
      "Epoch 69 :- Training Loss is 0.7322918758815544, Validation Loss is 3.011564824921021\n",
      "Epoch 70 :- Training Loss is 0.7194449118430936, Validation Loss is 2.9647270520222246\n",
      "Epoch 71 :- Training Loss is 0.7070287019285258, Validation Loss is 2.919415208554723\n",
      "Epoch 72 :- Training Loss is 0.6950221788223102, Validation Loss is 2.8755557423138884\n",
      "Epoch 73 :- Training Loss is 0.6834056177746067, Validation Loss is 2.833079742573858\n",
      "Epoch 74 :- Training Loss is 0.6721605318366627, Validation Loss is 2.791922580633596\n",
      "Epoch 75 :- Training Loss is 0.6612695767201259, Validation Loss is 2.7520235831768898\n",
      "Epoch 76 :- Training Loss is 0.6507164642674206, Validation Loss is 2.7133257350114226\n",
      "Epoch 77 :- Training Loss is 0.6404858836400146, Validation Loss is 2.6757754081559373\n",
      "Epoch 78 :- Training Loss is 0.630563429435515, Validation Loss is 2.639322114596179\n",
      "Epoch 79 :- Training Loss is 0.6209355360351635, Validation Loss is 2.603918280336654\n",
      "Epoch 80 :- Training Loss is 0.6115894175624523, Validation Loss is 2.569519038642755\n",
      "Epoch 81 :- Training Loss is 0.6025130129027619, Validation Loss is 2.5360820406020372\n",
      "Epoch 82 :- Training Loss is 0.5936949352945766, Validation Loss is 2.5035672813386776\n",
      "Epoch 83 :- Training Loss is 0.5851244260560654, Validation Loss is 2.47193694039553\n",
      "Epoch 84 :- Training Loss is 0.5767913120576449, Validation Loss is 2.44115523495694\n",
      "Epoch 85 :- Training Loss is 0.5686859665923755, Validation Loss is 2.4111882847252426\n",
      "Epoch 86 :- Training Loss is 0.5607992733324805, Validation Loss is 2.382003987387641\n",
      "Epoch 87 :- Training Loss is 0.5531225930924427, Validation Loss is 2.3535719037192737\n",
      "Epoch 88 :- Training Loss is 0.5456477331476444, Validation Loss is 2.325863151465207\n",
      "Epoch 89 :- Training Loss is 0.5383669188828163, Validation Loss is 2.298850307230002\n",
      "Epoch 90 :- Training Loss is 0.5312727675669862, Validation Loss is 2.2725073156798725\n",
      "Epoch 91 :- Training Loss is 0.5243582640716313, Validation Loss is 2.246809405430454\n",
      "Epoch 92 :- Training Loss is 0.5176167383665123, Validation Loss is 2.221733011053776\n",
      "Epoch 93 :- Training Loss is 0.5110418446435717, Validation Loss is 2.19725570069214\n",
      "Epoch 94 :- Training Loss is 0.504627541933461, Validation Loss is 2.173356108815028\n",
      "Epoch 95 :- Training Loss is 0.49836807609196304, Validation Loss is 2.1500138736983345\n",
      "Epoch 96 :- Training Loss is 0.4922579630449436, Validation Loss is 2.127209579244155\n",
      "Epoch 97 :- Training Loss is 0.48629197319068646, Validation Loss is 2.104924700794093\n",
      "Epoch 98 :- Training Loss is 0.48046511686762494, Validation Loss is 2.083141554620414\n",
      "Epoch 99 :- Training Loss is 0.47477263080372545, Validation Loss is 2.061843250807516\n",
      "Epoch 100 :- Training Loss is 0.46920996547121524, Validation Loss is 2.041013649261534\n",
      "CPU times: user 292 ms, sys: 5.05 ms, total: 297 ms\n",
      "Wall time: 285 ms\n"
     ]
    }
   ],
   "source": [
    "%%time\n",
    "OR.train(epochs=100, mini_batch_size=64)"
   ]
  },
  {
   "cell_type": "markdown",
   "id": "32b4cd1d",
   "metadata": {},
   "source": [
    "# Visulisation of losses against number of epochs"
   ]
  },
  {
   "cell_type": "code",
   "execution_count": 20,
   "id": "6468b088",
   "metadata": {},
   "outputs": [
    {
     "data": {
      "image/png": "[encoded data removed]",
      "text/plain": [
       "<Figure size 432x288 with 1 Axes>"
      ]
     },
     "metadata": {
      "needs_background": "light"
     },
     "output_type": "display_data"
    }
   ],
   "source": [
    "OR.plot()"
   ]
  },
  {
   "cell_type": "markdown",
   "id": "8bf6581e",
   "metadata": {},
   "source": [
    "# Predictions"
   ]
  },
  {
   "cell_type": "code",
   "execution_count": 21,
   "id": "f6f68d7a",
   "metadata": {},
   "outputs": [
    {
     "data": {
      "text/html": [
       "<div>\n",
       "<style scoped>\n",
       "    .dataframe tbody tr th:only-of-type {\n",
       "        vertical-align: middle;\n",
       "    }\n",
       "\n",
       "    .dataframe tbody tr th {\n",
       "        vertical-align: top;\n",
       "    }\n",
       "\n",
       "    .dataframe thead th {\n",
       "        text-align: right;\n",
       "    }\n",
       "</style>\n",
       "<table border=\"1\" class=\"dataframe\">\n",
       "  <thead>\n",
       "    <tr style=\"text-align: right;\">\n",
       "      <th></th>\n",
       "      <th>A</th>\n",
       "      <th>B</th>\n",
       "      <th>Output</th>\n",
       "      <th>Threshould</th>\n",
       "    </tr>\n",
       "  </thead>\n",
       "  <tbody>\n",
       "    <tr>\n",
       "      <th>0</th>\n",
       "      <td>0</td>\n",
       "      <td>1</td>\n",
       "      <td>0.983793</td>\n",
       "      <td>1</td>\n",
       "    </tr>\n",
       "    <tr>\n",
       "      <th>1</th>\n",
       "      <td>0</td>\n",
       "      <td>0</td>\n",
       "      <td>0.015701</td>\n",
       "      <td>0</td>\n",
       "    </tr>\n",
       "    <tr>\n",
       "      <th>2</th>\n",
       "      <td>0</td>\n",
       "      <td>1</td>\n",
       "      <td>0.983793</td>\n",
       "      <td>1</td>\n",
       "    </tr>\n",
       "    <tr>\n",
       "      <th>3</th>\n",
       "      <td>1</td>\n",
       "      <td>1</td>\n",
       "      <td>0.992160</td>\n",
       "      <td>1</td>\n",
       "    </tr>\n",
       "  </tbody>\n",
       "</table>\n",
       "</div>"
      ],
      "text/plain": [
       "   A  B    Output  Threshould\n",
       "0  0  1  0.983793           1\n",
       "1  0  0  0.015701           0\n",
       "2  0  1  0.983793           1\n",
       "3  1  1  0.992160           1"
      ]
     },
     "execution_count": 21,
     "metadata": {},
     "output_type": "execute_result"
    }
   ],
   "source": [
    "test = np.array([[0, 0], [0, 1], [1, 0], [1, 1]]).reshape(2, 4)\n",
    "y_test = OR.predict_for_valid(test).reshape(-1, )\n",
    "pd.DataFrame({\"A\":test[0, :], \"B\":test[1, :], \"Output\":y_test, \"Threshould\":(y_test>0.5).astype(int)}).head()"
   ]
  },
  {
   "cell_type": "markdown",
   "id": "de9efb9d",
   "metadata": {},
   "source": [
    "## Training with different number of samples to observe performance difference"
   ]
  },
  {
   "cell_type": "code",
   "execution_count": 22,
   "id": "07f45201",
   "metadata": {},
   "outputs": [
    {
     "name": "stdout",
     "output_type": "stream",
     "text": [
      "-> Total samples = 2500\n",
      "-> Training samples = 2000\n",
      "-> Validation samples = 500\n",
      "-> Total samples = 5000\n",
      "-> Training samples = 4000\n",
      "-> Validation samples = 1000\n"
     ]
    }
   ],
   "source": [
    "# N=2500\n",
    "X_or_1, Y_or_1 = generate_samples(2500, \"OR\")\n",
    "OR_1 = MLP(X_or_1, Y_or_1, validation_split = 0.2)\n",
    "OR_1.train(epochs=100, mini_batch_size=64, verbose=False)\n",
    "\n",
    "# N=5000\n",
    "X_or_2, Y_or_2 = generate_samples(5000, \"OR\")\n",
    "OR_2 = MLP(X_or_2, Y_or_2, validation_split = 0.2)\n",
    "OR_2.train(epochs=100, mini_batch_size=64, verbose=False)"
   ]
  },
  {
   "cell_type": "code",
   "execution_count": 23,
   "id": "bea10030",
   "metadata": {},
   "outputs": [
    {
     "data": {
      "text/plain": [
       "<matplotlib.legend.Legend at 0x7eff4856c7c0>"
      ]
     },
     "execution_count": 23,
     "metadata": {},
     "output_type": "execute_result"
    },
    {
     "data": {
      "image/png": "[encoded data removed]",
      "text/plain": [
       "<Figure size 432x288 with 1 Axes>"
      ]
     },
     "metadata": {
      "needs_background": "light"
     },
     "output_type": "display_data"
    }
   ],
   "source": [
    "E = np.arange(100)\n",
    "\n",
    "plt.figure()\n",
    "plt.title(\"Training Loss\")\n",
    "plt.xlabel(\"epoch\")\n",
    "plt.ylabel(\"MSE\")\n",
    "plt.semilogy(E, OR.training_loss.reshape(100, ), label=\"N=1000\")\n",
    "plt.semilogy(E, OR_1.training_loss.reshape(100, ), label=\"N=2500\")\n",
    "plt.semilogy(E, OR_2.training_loss.reshape(100, ), label=\"N=5000\")\n",
    "plt.legend()"
   ]
  }
 ],
 "metadata": {
  "kernelspec": {
   "display_name": "Python 3",
   "language": "python",
   "name": "python3"
  },
  "language_info": {
   "codemirror_mode": {
    "name": "ipython",
    "version": 3
   },
   "file_extension": ".py",
   "mimetype": "text/x-python",
   "name": "python",
   "nbconvert_exporter": "python",
   "pygments_lexer": "ipython3",
   "version": "3.8.10"
  }
 },
 "nbformat": 4,
 "nbformat_minor": 5
}
