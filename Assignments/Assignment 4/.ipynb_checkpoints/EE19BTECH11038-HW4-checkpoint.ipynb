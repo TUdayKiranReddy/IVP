{
 "cells": [
  {
   "cell_type": "code",
   "execution_count": 1,
   "id": "03ac2c49",
   "metadata": {},
   "outputs": [],
   "source": [
    "import numpy as np\n",
    "import pandas as pd\n",
    "import matplotlib.pyplot as plt"
   ]
  },
  {
   "cell_type": "code",
   "execution_count": 2,
   "id": "d03faad2",
   "metadata": {},
   "outputs": [],
   "source": [
    "class MLP():\n",
    "    def __init__(self, X, Y, learning_rate=0.05, validation_split=None):\n",
    "        self.X = X\n",
    "        self.Y = Y\n",
    "        self.X_train = self.X_valid = self.Y_train = self.Y_valid = None\n",
    "        self.lr = learning_rate\n",
    "        self.validation_split = validation_split\n",
    "        self.W1 = self.W2 = self.b1 = self.b2 = self.z1 = self.z2 = self.A1 = self.A2 = None\n",
    "        self.dW1 = self.dW2 = self.db1 = self.db2 = self.dz1 = self.dz2 = None\n",
    "        self.training_loss = self.validation_loss = None\n",
    "    \n",
    "    def split_samples(self):\n",
    "        indices = np.arange(N)\n",
    "        np.random.shuffle(indices)\n",
    "        x = self.X[:, indices]\n",
    "        y = self.Y[:, indices]\n",
    "        vs = 0\n",
    "        m = self.X.shape[1]\n",
    "        if self.validation_split is not None:\n",
    "            vs = int(self.validation_split*m)\n",
    "        self.X_train = x[:, 0:(m-vs)]\n",
    "        self.Y_train = y[:, 0:(m-vs)]\n",
    "        self.X_valid = x[:, (m-vs):]\n",
    "        self.Y_valid = y[:, (m-vs):]\n",
    "        \n",
    "        \n",
    "    def initialise_params(self):\n",
    "        self.W1 = np.random.randn(2, 2)\n",
    "        self.b1 = np.random.randn(2, 1)\n",
    "        \n",
    "        self.W2 = np.random.randn(1, 2)\n",
    "        self.b2 = np.random.randn(1, 1)\n",
    "\n",
    "    def sigmoid(self, x):\n",
    "        return 1/(1 + np.exp(-1*x))\n",
    "        \n",
    "    def forward_prop(self, X):\n",
    "        self.z1 = self.W1@X + self.b1\n",
    "        self.A1 = self.sigmoid(self.z1)\n",
    "        \n",
    "        self.z2 = self.W2@self.A1 + self.b2\n",
    "        self.A2 = self.sigmoid(self.z2)\n",
    "    \n",
    "    def predict_for_valid(self, X):\n",
    "        z1 = self.W1@X + self.b1\n",
    "        A1 = self.sigmoid(z1)\n",
    "        \n",
    "        z2 = self.W2@A1 + self.b2\n",
    "        A2 = self.sigmoid(z2)\n",
    "        return A2\n",
    "    \n",
    "    def predict(self, X):\n",
    "        z1 = self.W1@X + self.b1\n",
    "        A1 = self.sigmoid(z1)\n",
    "        \n",
    "        z2 = self.W2@A1 + self.b2\n",
    "        A2 = self.sigmoid(z2)\n",
    "        A2[A2 >= 0.5] = 1\n",
    "        A2[A2 < 0.5] = 0\n",
    "        return A2\n",
    "    \n",
    "    def train_loss(self, Y):\n",
    "        return np.sum(np.power(Y - self.A2, 2))\n",
    "    \n",
    "    def valid_loss(self, X, Y):\n",
    "        Y_hat = self.predict_for_valid(X)\n",
    "        return np.sum(np.power(Y - Y_hat, 2))\n",
    "    \n",
    "    def back_prop(self, X, Y):\n",
    "        self.dz2 = self.A2*(1 - self.A2) * 2*(self.A2 - Y)\n",
    "        self.dW2 = self.dz2 @ self.A1.T\n",
    "        self.db2 = np.sum(self.dz2, axis=1, keepdims=True)\n",
    "        \n",
    "        self.dz1 = (self.W2.T @ self.dz2) * (self.A1*(1 - self.A1))\n",
    "        self.dW1 = self.dz1 @ X.T\n",
    "        self.db1 = np.sum(self.dz1, axis=1, keepdims=True)\n",
    "    \n",
    "    def update_params(self):\n",
    "        self.W1 -= self.lr * self.dW1\n",
    "        self.W2 -= self.lr * self.dW2\n",
    "        self.b1 -= self.lr * self.db1\n",
    "        self.b2 -= self.lr * self.db2\n",
    "    \n",
    "    def train(self, epochs=1, mini_batch_size=1):\n",
    "        \n",
    "        self.epoch = epochs \n",
    "        \n",
    "        self.split_samples()\n",
    "        \n",
    "        self.training_loss = np.zeros((1, epochs))\n",
    "        self.validation_loss = np.zeros((1, epochs))\n",
    "        \n",
    "        N_mini_batch_size = int(self.X_train.shape[1] / mini_batch_size)\n",
    "        print()\n",
    "        \n",
    "        self.initialise_params()\n",
    "        \n",
    "        for i in range(epochs):\n",
    "            for j in range(N_mini_batch_size-1):\n",
    "                X = self.X_train[:, (j)*mini_batch_size : (j+1)*mini_batch_size]\n",
    "                Y = self.Y_train[:, (j)*mini_batch_size : (j+1)*mini_batch_size]\n",
    "                \n",
    "                self.forward_prop(X)\n",
    "                \n",
    "                self.training_loss[0, i] += (self.train_loss(Y))\n",
    "                self.validation_loss[0, i] += (self.valid_loss(self.X_valid, self.Y_valid))\n",
    "                \n",
    "                self.back_prop(X, Y)\n",
    "                \n",
    "                self.update_params()\n",
    "                \n",
    "            X = self.X_train[:, (-1*N_mini_batch_size) :]\n",
    "            Y = self.Y_train[:, (-1*N_mini_batch_size) :]\n",
    "\n",
    "            self.forward_prop(X)\n",
    "\n",
    "            self.training_loss[0, i] += (self.train_loss(Y))\n",
    "            self.validation_loss[0, i] += (self.valid_loss(self.X_valid, self.Y_valid))\n",
    "\n",
    "            self.back_prop(X, Y)\n",
    "\n",
    "            self.update_params()  \n",
    "            \n",
    "            print(\"Epoch {} :- Training Loss is {}, Validation Loss is {}\".format(i+1, self.training_loss[0, i], self.validation_loss[0, i]))\n",
    "    \n",
    "    def plot(self):\n",
    "        plt.figure()\n",
    "        plt.semilogy(np.arange(self.epoch), self.training_loss.reshape(self.epoch, ), label=\"Training\")\n",
    "        plt.semilogy(np.arange(self.epoch), self.validation_loss.reshape(self.epoch, ), label=\"Validation\")\n",
    "        plt.legend()\n",
    "        plt.show()"
   ]
  },
  {
   "cell_type": "code",
   "execution_count": 3,
   "id": "135c1fda",
   "metadata": {},
   "outputs": [],
   "source": [
    "def generate_samples(N, operation):\n",
    "    var = 0.01\n",
    "    X = np.zeros((2, N))\n",
    "    X[:, 0:4] = np.matrix([[0, 0, 1, 1], [0, 1, 0, 1]])\n",
    "    Y = np.zeros((1, N))\n",
    "    \n",
    "    if(operation == \"XOR\"):\n",
    "        Y[0, 0:4] = np.array([0, 1, 1, 0])\n",
    "    elif(operation == \"AND\"):\n",
    "        Y[0, 0:4] = np.array([0, 0, 0, 1])\n",
    "    elif(operation == \"OR\"):\n",
    "        Y[0, 0:4] = np.array([0, 1, 1, 1])\n",
    "    \n",
    "    for i in range(4, N):\n",
    "        X[0, i] = X[0, i%4] + np.sqrt(var)*np.random.randn()\n",
    "        X[1, i] = X[1, i%4] + np.sqrt(var)*np.random.randn()\n",
    "        Y[0, i] = Y[0, i%4]\n",
    "    \n",
    "    indices = np.arange(N)\n",
    "    np.random.shuffle(indices)\n",
    "    x = X[:, indices]\n",
    "    y = Y[:, indices]\n",
    "    return x, y"
   ]
  },
  {
   "cell_type": "code",
   "execution_count": 4,
   "id": "09ccb968",
   "metadata": {},
   "outputs": [],
   "source": [
    "N = 1000\n",
    "X_xor, Y_xor = generate_samples(N, \"XOR\")\n",
    "XOR = MLP(X_xor, Y_xor, validation_split = 0.1)"
   ]
  },
  {
   "cell_type": "code",
   "execution_count": 5,
   "id": "e4750545",
   "metadata": {
    "scrolled": true
   },
   "outputs": [
    {
     "name": "stdout",
     "output_type": "stream",
     "text": [
      "\n",
      "Epoch 1 :- Training Loss is 225.86410576365392, Validation Loss is 371.2714892814552\n",
      "Epoch 2 :- Training Loss is 213.55678875465986, Validation Loss is 348.1807392456934\n",
      "Epoch 3 :- Training Loss is 212.88698219868664, Validation Loss is 346.86266723546015\n",
      "Epoch 4 :- Training Loss is 211.80615349676341, Validation Loss is 344.50986756735927\n",
      "Epoch 5 :- Training Loss is 209.99489656590347, Validation Loss is 340.5099402695705\n",
      "Epoch 6 :- Training Loss is 207.0490220897883, Validation Loss is 334.12399121545496\n",
      "Epoch 7 :- Training Loss is 202.62789451708363, Validation Loss is 324.7540782127388\n",
      "Epoch 8 :- Training Loss is 196.62715248315249, Validation Loss is 312.24687291917576\n",
      "Epoch 9 :- Training Loss is 189.31316757459456, Validation Loss is 297.2110911315533\n",
      "Epoch 10 :- Training Loss is 181.37640002475402, Validation Loss is 281.1823300290399\n",
      "Epoch 11 :- Training Loss is 173.63486636732748, Validation Loss is 265.97603218536005\n",
      "Epoch 12 :- Training Loss is 166.55467363119809, Validation Loss is 252.65470949262624\n",
      "Epoch 13 :- Training Loss is 160.14200184078294, Validation Loss is 241.3058927758788\n",
      "Epoch 14 :- Training Loss is 154.19087914829666, Validation Loss is 231.53864367667796\n",
      "Epoch 15 :- Training Loss is 148.54591660028117, Validation Loss is 222.95759651335732\n",
      "Epoch 16 :- Training Loss is 143.19604627396953, Validation Loss is 215.30269853201483\n",
      "Epoch 17 :- Training Loss is 138.17248929102666, Validation Loss is 208.30982526110967\n",
      "Epoch 18 :- Training Loss is 133.3350696327109, Validation Loss is 201.44112687248534\n",
      "Epoch 19 :- Training Loss is 128.04077833625698, Validation Loss is 193.36201713538597\n",
      "Epoch 20 :- Training Loss is 120.26195608709808, Validation Loss is 180.45138149922076\n",
      "Epoch 21 :- Training Loss is 105.79684695972894, Validation Loss is 156.41710763179688\n",
      "Epoch 22 :- Training Loss is 85.53046331063435, Validation Loss is 124.6887424211433\n",
      "Epoch 23 :- Training Loss is 66.67542992915828, Validation Loss is 96.41246607487265\n",
      "Epoch 24 :- Training Loss is 51.6510410582908, Validation Loss is 74.30120629302954\n",
      "Epoch 25 :- Training Loss is 40.48268821489505, Validation Loss is 57.936159363463176\n",
      "Epoch 26 :- Training Loss is 32.436090054126964, Validation Loss is 46.14028256534876\n",
      "Epoch 27 :- Training Loss is 26.629498417867428, Validation Loss is 37.61812712656838\n",
      "Epoch 28 :- Training Loss is 22.363150374878305, Validation Loss is 31.351552068494176\n",
      "Epoch 29 :- Training Loss is 19.154184598483507, Validation Loss is 26.63679441133161\n",
      "Epoch 30 :- Training Loss is 16.682669544179564, Validation Loss is 23.00600379623507\n",
      "Epoch 31 :- Training Loss is 14.736830598196807, Validation Loss is 20.148634206896855\n",
      "Epoch 32 :- Training Loss is 13.174392675067866, Validation Loss is 17.855663340135184\n",
      "Epoch 33 :- Training Loss is 11.897790859109096, Validation Loss is 15.983592659851569\n",
      "Epoch 34 :- Training Loss is 10.838642670137467, Validation Loss is 14.431781901337292\n",
      "Epoch 35 :- Training Loss is 9.947987614957903, Validation Loss is 13.128150553103419\n",
      "Epoch 36 :- Training Loss is 9.190062917986705, Validation Loss is 12.020038268619444\n",
      "Epoch 37 :- Training Loss is 8.53825963871326, Validation Loss is 11.068258588275267\n",
      "Epoch 38 :- Training Loss is 7.972442714194064, Validation Loss is 10.243155291347781\n",
      "Epoch 39 :- Training Loss is 7.477139627299688, Validation Loss is 9.521936111523557\n",
      "Epoch 40 :- Training Loss is 7.0402928710409505, Validation Loss is 8.886836241345488\n",
      "Epoch 41 :- Training Loss is 6.652385326642615, Validation Loss is 8.323830882984499\n",
      "Epoch 42 :- Training Loss is 6.305816828457965, Validation Loss is 7.821717644901101\n",
      "Epoch 43 :- Training Loss is 5.994452869255901, Validation Loss is 7.371452367174185\n",
      "Epoch 44 :- Training Loss is 5.713293205958977, Validation Loss is 6.965661432523907\n",
      "Epoch 45 :- Training Loss is 5.458225258736975, Validation Loss is 6.598278861722919\n",
      "Epoch 46 :- Training Loss is 5.225838333526335, Validation Loss is 6.2642729022727535\n",
      "Epoch 47 :- Training Loss is 5.013282056187139, Validation Loss is 5.95943765973426\n",
      "Epoch 48 :- Training Loss is 4.818157343467859, Validation Loss is 5.680232592574847\n",
      "Epoch 49 :- Training Loss is 4.638431597096147, Validation Loss is 5.423657640228354\n",
      "Epoch 50 :- Training Loss is 4.4723721273538315, Validation Loss is 5.187155168795382\n",
      "Epoch 51 :- Training Loss is 4.318493434823674, Validation Loss is 4.968532305824765\n",
      "Epoch 52 :- Training Loss is 4.175515127390338, Validation Loss is 4.765898924812053\n",
      "Epoch 53 :- Training Loss is 4.042328071905455, Validation Loss is 4.577617749337739\n",
      "Epoch 54 :- Training Loss is 3.9179669751934307, Validation Loss is 4.402263921989428\n",
      "Epoch 55 :- Training Loss is 3.8015880244095994, Validation Loss is 4.238592023209086\n",
      "Epoch 56 :- Training Loss is 3.692450538225275, Validation Loss is 4.085508997768118\n",
      "Epoch 57 :- Training Loss is 3.5899018198674955, Validation Loss is 3.942051798722609\n",
      "Epoch 58 :- Training Loss is 3.4933645831029905, Validation Loss is 3.8073688234078795\n",
      "Epoch 59 :- Training Loss is 3.4023264587109088, Validation Loss is 3.6807044166507916\n",
      "Epoch 60 :- Training Loss is 3.3163311932012447, Validation Loss is 3.561385869613431\n",
      "Epoch 61 :- Training Loss is 3.234971231711375, Validation Loss is 3.4488124605921366\n",
      "Epoch 62 :- Training Loss is 3.1578814391272663, Validation Loss is 3.3424461754624817\n",
      "Epoch 63 :- Training Loss is 3.08473376191807, Validation Loss is 3.2418038167318017\n",
      "Epoch 64 :- Training Loss is 3.0152326711912822, Validation Loss is 3.1464502661100417\n",
      "Epoch 65 :- Training Loss is 2.949111257493338, Validation Loss is 3.055992709695742\n",
      "Epoch 66 :- Training Loss is 2.8861278717176653, Validation Loss is 2.97007566997217\n",
      "Epoch 67 :- Training Loss is 2.82606322551499, Validation Loss is 2.8883767168405186\n",
      "Epoch 68 :- Training Loss is 2.768717879877205, Validation Loss is 2.8106027524234594\n",
      "Epoch 69 :- Training Loss is 2.713910062889258, Validation Loss is 2.736486782532756\n",
      "Epoch 70 :- Training Loss is 2.661473767631568, Validation Loss is 2.665785102418742\n",
      "Epoch 71 :- Training Loss is 2.6112570893487566, Validation Loss is 2.5982748364123274\n",
      "Epoch 72 :- Training Loss is 2.5631207676518524, Validation Loss is 2.533751780881325\n",
      "Epoch 73 :- Training Loss is 2.51693690498406, Validation Loss is 2.472028507983288\n",
      "Epoch 74 :- Training Loss is 2.4725878370851895, Validation Loss is 2.4129326943457534\n",
      "Epoch 75 :- Training Loss is 2.4299651349190987, Validation Loss is 2.3563056443105883\n",
      "Epoch 76 :- Training Loss is 2.388968720627457, Validation Loss is 2.302000981955292\n",
      "Epoch 77 :- Training Loss is 2.349506082657487, Validation Loss is 2.2498834899216025\n",
      "Epoch 78 :- Training Loss is 2.3114915773739635, Validation Loss is 2.1998280762770293\n",
      "Epoch 79 :- Training Loss is 2.27484580628163, Validation Loss is 2.151718853318701\n",
      "Epoch 80 :- Training Loss is 2.2394950595138168, Validation Loss is 2.105448314489902\n",
      "Epoch 81 :- Training Loss is 2.2053708175353837, Validation Loss is 2.060916597490856\n",
      "Epoch 82 :- Training Loss is 2.172409304103666, Validation Loss is 2.0180308232851356\n",
      "Epoch 83 :- Training Loss is 2.140551084461886, Validation Loss is 1.9767045020803224\n",
      "Epoch 84 :- Training Loss is 2.109740703533242, Validation Loss is 1.9368569985356863\n",
      "Epoch 85 :- Training Loss is 2.0799263595619584, Validation Loss is 1.8984130494531366\n",
      "Epoch 86 :- Training Loss is 2.0510596092288007, Validation Loss is 1.8613023280680052\n",
      "Epoch 87 :- Training Loss is 2.0230951007677915, Validation Loss is 1.8254590497951544\n",
      "Epoch 88 :- Training Loss is 1.9959903320407917, Validation Loss is 1.7908216149224703\n",
      "Epoch 89 :- Training Loss is 1.9697054308977693, Validation Loss is 1.7573322842934616\n",
      "Epoch 90 :- Training Loss is 1.944202955471673, Validation Loss is 1.7249368844960677\n",
      "Epoch 91 :- Training Loss is 1.9194477123352989, Validation Loss is 1.6935845394873734\n",
      "Epoch 92 :- Training Loss is 1.8954065906895168, Validation Loss is 1.6632274259422934\n",
      "Epoch 93 :- Training Loss is 1.872048410962955, Validation Loss is 1.6338205499264389\n",
      "Epoch 94 :- Training Loss is 1.84934378638715, Validation Loss is 1.6053215427659444\n",
      "Epoch 95 :- Training Loss is 1.827264996271949, Validation Loss is 1.577690474225202\n",
      "Epoch 96 :- Training Loss is 1.8057858698468499, Validation Loss is 1.550889681312188\n",
      "Epoch 97 :- Training Loss is 1.784881679657568, Validation Loss is 1.5248836112142685\n",
      "Epoch 98 :- Training Loss is 1.764529043615837, Validation Loss is 1.4996386770285575\n",
      "Epoch 99 :- Training Loss is 1.7447058348962714, Validation Loss is 1.4751231250926866\n",
      "Epoch 100 :- Training Loss is 1.7253910989585262, Validation Loss is 1.4513069128472058\n",
      "CPU times: user 169 ms, sys: 6.24 ms, total: 176 ms\n",
      "Wall time: 167 ms\n"
     ]
    }
   ],
   "source": [
    "%%time\n",
    "XOR.train(epochs=100, mini_batch_size=64)"
   ]
  },
  {
   "cell_type": "code",
   "execution_count": 6,
   "id": "7a9afbf7",
   "metadata": {},
   "outputs": [
    {
     "data": {
      "image/png": "[encoded data removed]",
      "text/plain": [
       "<Figure size 432x288 with 1 Axes>"
      ]
     },
     "metadata": {
      "needs_background": "light"
     },
     "output_type": "display_data"
    }
   ],
   "source": [
    "XOR.plot()"
   ]
  },
  {
   "cell_type": "code",
   "execution_count": 7,
   "id": "20367c5d",
   "metadata": {},
   "outputs": [
    {
     "data": {
      "text/plain": [
       "array([[0.97853856]])"
      ]
     },
     "execution_count": 7,
     "metadata": {},
     "output_type": "execute_result"
    }
   ],
   "source": [
    "test = np.array([1, 0]).reshape(2, 1)\n",
    "XOR.predict_for_valid(test)"
   ]
  },
  {
   "cell_type": "code",
   "execution_count": 8,
   "id": "1ba963dd",
   "metadata": {},
   "outputs": [],
   "source": [
    "N = 1000\n",
    "X_and, Y_and = generate_samples(N, \"AND\")\n",
    "AND = MLP(X_and, Y_and, validation_split = 0.1)"
   ]
  },
  {
   "cell_type": "code",
   "execution_count": 9,
   "id": "8e8524df",
   "metadata": {
    "scrolled": true
   },
   "outputs": [
    {
     "name": "stdout",
     "output_type": "stream",
     "text": [
      "\n",
      "Epoch 1 :- Training Loss is 139.73967532077938, Validation Loss is 234.53639459158686\n",
      "Epoch 2 :- Training Loss is 101.19244872836217, Validation Loss is 171.26045045868594\n",
      "Epoch 3 :- Training Loss is 71.88720137649324, Validation Loss is 122.68994410722289\n",
      "Epoch 4 :- Training Loss is 49.769727107929775, Validation Loss is 86.69732507851293\n",
      "Epoch 5 :- Training Loss is 35.05409859853065, Validation Loss is 62.64536353109689\n",
      "Epoch 6 :- Training Loss is 25.694894422476033, Validation Loss is 47.23823443801763\n",
      "Epoch 7 :- Training Loss is 19.678368634053864, Validation Loss is 37.235956122632345\n",
      "Epoch 8 :- Training Loss is 15.665744895658705, Validation Loss is 30.48102104693026\n",
      "Epoch 9 :- Training Loss is 12.874068464594037, Validation Loss is 25.71551660424159\n",
      "Epoch 10 :- Training Loss is 10.853944461654292, Validation Loss is 22.217449319765212\n",
      "Epoch 11 :- Training Loss is 9.341340076020725, Validation Loss is 19.56111869438091\n",
      "Epoch 12 :- Training Loss is 8.175396421228498, Validation Loss is 17.48562175978706\n",
      "Epoch 13 :- Training Loss is 7.254319430818143, Validation Loss is 15.824642561797056\n",
      "Epoch 14 :- Training Loss is 6.511352519558628, Validation Loss is 14.468237772636082\n",
      "Epoch 15 :- Training Loss is 5.901283323791992, Validation Loss is 13.341331930665211\n",
      "Epoch 16 :- Training Loss is 5.392600723225705, Validation Loss is 12.391169474915278\n",
      "Epoch 17 :- Training Loss is 4.962778669357235, Validation Loss is 11.579732141147282\n",
      "Epoch 18 :- Training Loss is 4.595348537185735, Validation Loss is 10.879005884513436\n",
      "Epoch 19 :- Training Loss is 4.278027902069178, Validation Loss is 10.267938040699065\n",
      "Epoch 20 :- Training Loss is 4.001492384225008, Validation Loss is 9.730428280976305\n",
      "Epoch 21 :- Training Loss is 3.7585499597135876, Validation Loss is 9.25396985591336\n",
      "Epoch 22 :- Training Loss is 3.543573639259496, Validation Loss is 8.82871047992849\n",
      "Epoch 23 :- Training Loss is 3.352103902008996, Validation Loss is 8.446790385231164\n",
      "Epoch 24 :- Training Loss is 3.1805650499076314, Validation Loss is 8.101867358708015\n",
      "Epoch 25 :- Training Loss is 3.0260595064520133, Validation Loss is 7.788770377640847\n",
      "Epoch 26 :- Training Loss is 2.886216397796673, Validation Loss is 7.503243263209836\n",
      "Epoch 27 :- Training Loss is 2.759078556640835, Validation Loss is 7.241752371423271\n",
      "Epoch 28 :- Training Loss is 2.643017132391925, Validation Loss is 7.00134052028484\n",
      "Epoch 29 :- Training Loss is 2.5366663111849785, Validation Loss is 6.779514759677941\n",
      "Epoch 30 :- Training Loss is 2.438872872641835, Validation Loss is 6.574159227029554\n",
      "Epoch 31 :- Training Loss is 2.348656822797659, Validation Loss is 6.383466816177579\n",
      "Epoch 32 :- Training Loss is 2.2651803868343476, Validation Loss is 6.205885109060242\n",
      "Epoch 33 :- Training Loss is 2.187723376062697, Validation Loss is 6.0400732300299085\n",
      "Epoch 34 :- Training Loss is 2.1156634616090413, Validation Loss is 5.884867143825242\n",
      "Epoch 35 :- Training Loss is 2.0484602588395537, Validation Loss is 5.73925153842354\n",
      "Epoch 36 :- Training Loss is 1.9856423960769447, Validation Loss is 5.602336885570546\n",
      "Epoch 37 :- Training Loss is 1.926796938711901, Validation Loss is 5.4733406040154415\n",
      "Epoch 38 :- Training Loss is 1.8715606860325311, Validation Loss is 5.351571497295683\n",
      "Epoch 39 :- Training Loss is 1.819612967328137, Validation Loss is 5.236416822965295\n",
      "Epoch 40 :- Training Loss is 1.7706696461380171, Validation Loss is 5.1273314901005005\n",
      "Epoch 41 :- Training Loss is 1.7244781040562496, Validation Loss is 5.02382898860855\n",
      "Epoch 42 :- Training Loss is 1.6808130233902057, Validation Loss is 4.925473735836952\n",
      "Epoch 43 :- Training Loss is 1.6394728249070738, Validation Loss is 4.831874589418017\n",
      "Epoch 44 :- Training Loss is 1.6002766455921398, Validation Loss is 4.742679324718361\n",
      "Epoch 45 :- Training Loss is 1.5630617637739688, Validation Loss is 4.657569914038143\n",
      "Epoch 46 :- Training Loss is 1.5276813966203608, Validation Loss is 4.57625847530853\n",
      "Epoch 47 :- Training Loss is 1.4940028089780293, Validation Loss is 4.49848378233362\n",
      "Epoch 48 :- Training Loss is 1.4619056836485311, Validation Loss is 4.42400824802271\n",
      "Epoch 49 :- Training Loss is 1.4312807120924056, Validation Loss is 4.3526153076313845\n",
      "Epoch 50 :- Training Loss is 1.402028371713186, Validation Loss is 4.284107141594437\n",
      "Epoch 51 :- Training Loss is 1.3740578616612553, Validation Loss is 4.2183026877208745\n",
      "Epoch 52 :- Training Loss is 1.3472861737996373, Validation Loss is 4.155035900819854\n",
      "Epoch 53 :- Training Loss is 1.321637279310655, Validation Loss is 4.094154224616551\n",
      "Epoch 54 :- Training Loss is 1.297041414566894, Validation Loss is 4.035517246397152\n",
      "Epoch 55 :- Training Loss is 1.273434452477725, Validation Loss is 3.9789955094264156\n",
      "Epoch 56 :- Training Loss is 1.2507573476608254, Validation Loss is 3.924469461995712\n",
      "Epoch 57 :- Training Loss is 1.2289556455616713, Validation Loss is 3.8718285251312423\n",
      "Epoch 58 :- Training Loss is 1.2079790471203142, Validation Loss is 3.820970263639505\n",
      "Epoch 59 :- Training Loss is 1.187781021818296, Validation Loss is 3.77179964738406\n",
      "Epoch 60 :- Training Loss is 1.168318462972506, Validation Loss is 3.7242283915509007\n",
      "Epoch 61 :- Training Loss is 1.1495513800125448, Validation Loss is 3.678174366230611\n",
      "Epoch 62 :- Training Loss is 1.13144262321184, Validation Loss is 3.6335610669738543\n",
      "Epoch 63 :- Training Loss is 1.1139576369638415, Validation Loss is 3.5903171391038073\n",
      "Epoch 64 :- Training Loss is 1.0970642382217157, Validation Loss is 3.548375949527849\n",
      "Epoch 65 :- Training Loss is 1.0807324171686423, Validation Loss is 3.5076752006088263\n",
      "Epoch 66 :- Training Loss is 1.0649341575688727, Validation Loss is 3.4681565813559936\n",
      "Epoch 67 :- Training Loss is 1.0496432745774418, Validation Loss is 3.429765451795893\n",
      "Epoch 68 :- Training Loss is 1.0348352680677595, Validation Loss is 3.3924505568996404\n",
      "Epoch 69 :- Training Loss is 1.0204871897782224, Validation Loss is 3.356163766888003\n",
      "Epoch 70 :- Training Loss is 1.0065775227876197, Validation Loss is 3.320859841120065\n",
      "Epoch 71 :- Training Loss is 0.9930860720094454, Validation Loss is 3.286496213104302\n",
      "Epoch 72 :- Training Loss is 0.9799938645513964, Validation Loss is 3.2530327944599\n",
      "Epoch 73 :- Training Loss is 0.9672830589219974, Validation Loss is 3.2204317959076203\n",
      "Epoch 74 :- Training Loss is 0.9549368621842189, Validation Loss is 3.1886575635886256\n",
      "Epoch 75 :- Training Loss is 0.9429394542588577, Validation Loss is 3.157676429201241\n",
      "Epoch 76 :- Training Loss is 0.9312759186702905, Validation Loss is 3.1274565726131347\n",
      "Epoch 77 :- Training Loss is 0.9199321791058355, Validation Loss is 3.0979678957533734\n",
      "Epoch 78 :- Training Loss is 0.9088949412290045, Validation Loss is 3.06918190671802\n",
      "Epoch 79 :- Training Loss is 0.8981516392473928, Validation Loss is 3.0410716131364284\n",
      "Epoch 80 :- Training Loss is 0.887690386789442, Validation Loss is 3.0136114239457523\n",
      "Epoch 81 :- Training Loss is 0.8774999316911762, Validation Loss is 2.9867770588096123\n",
      "Epoch 82 :- Training Loss is 0.8675696143356798, Validation Loss is 2.9605454644952283\n",
      "Epoch 83 :- Training Loss is 0.8578893292247158, Validation Loss is 2.934894737592705\n",
      "Epoch 84 :- Training Loss is 0.8484494894944965, Validation Loss is 2.9098040530217317\n",
      "Epoch 85 :- Training Loss is 0.8392409941164639, Validation Loss is 2.885253597825796\n",
      "Epoch 86 :- Training Loss is 0.8302551975496688, Validation Loss is 2.861224509802717\n",
      "Epoch 87 :- Training Loss is 0.8214838816341256, Validation Loss is 2.8376988205637477\n",
      "Epoch 88 :- Training Loss is 0.8129192295349373, Validation Loss is 2.814659402652424\n",
      "Epoch 89 :- Training Loss is 0.8045538015651735, Validation Loss is 2.7920899203889262\n",
      "Epoch 90 :- Training Loss is 0.7963805127317016, Validation Loss is 2.7699747841368674\n",
      "Epoch 91 :- Training Loss is 0.7883926118627742, Validation Loss is 2.7482991077173056\n",
      "Epoch 92 :- Training Loss is 0.7805836621892056, Validation Loss is 2.727048668719731\n",
      "Epoch 93 :- Training Loss is 0.7729475232626428, Validation Loss is 2.7062098714823337\n",
      "Epoch 94 :- Training Loss is 0.7654783341050084, Validation Loss is 2.685769712534036\n",
      "Epoch 95 :- Training Loss is 0.7581704974926338, Validation Loss is 2.6657157483090863\n",
      "Epoch 96 :- Training Loss is 0.7510186652871131, Validation Loss is 2.6460360649613723\n",
      "Epoch 97 :- Training Loss is 0.7440177247326366, Validation Loss is 2.626719250120592\n",
      "Epoch 98 :- Training Loss is 0.7371627856464529, Validation Loss is 2.607754366445714\n",
      "Epoch 99 :- Training Loss is 0.7304491684354453, Validation Loss is 2.5891309268434863\n",
      "Epoch 100 :- Training Loss is 0.7238723928774324, Validation Loss is 2.570838871230649\n",
      "CPU times: user 365 ms, sys: 15.2 ms, total: 380 ms\n",
      "Wall time: 369 ms\n"
     ]
    }
   ],
   "source": [
    "%%time\n",
    "AND.train(epochs=100, mini_batch_size=64)"
   ]
  },
  {
   "cell_type": "code",
   "execution_count": 10,
   "id": "ac4f8588",
   "metadata": {},
   "outputs": [
    {
     "data": {
      "image/png": "[encoded data removed]",
      "text/plain": [
       "<Figure size 432x288 with 1 Axes>"
      ]
     },
     "metadata": {
      "needs_background": "light"
     },
     "output_type": "display_data"
    }
   ],
   "source": [
    "AND.plot()"
   ]
  },
  {
   "cell_type": "code",
   "execution_count": 11,
   "id": "c0990e63",
   "metadata": {},
   "outputs": [
    {
     "data": {
      "text/plain": [
       "array([[0.00417129]])"
      ]
     },
     "execution_count": 11,
     "metadata": {},
     "output_type": "execute_result"
    }
   ],
   "source": [
    "test = np.array([1, 0]).reshape(2, 1)\n",
    "AND.predict_for_valid(test)"
   ]
  },
  {
   "cell_type": "code",
   "execution_count": 12,
   "id": "869a0759",
   "metadata": {},
   "outputs": [],
   "source": [
    "N = 1000\n",
    "X_or, Y_or = generate_samples(N, \"OR\")\n",
    "OR = MLP(X_or, Y_or, validation_split = 0.1)"
   ]
  },
  {
   "cell_type": "code",
   "execution_count": 13,
   "id": "e3a1049f",
   "metadata": {
    "scrolled": true
   },
   "outputs": [
    {
     "name": "stdout",
     "output_type": "stream",
     "text": [
      "\n",
      "Epoch 1 :- Training Loss is 193.8667732854343, Validation Loss is 310.158823275941\n",
      "Epoch 2 :- Training Loss is 116.82652168397362, Validation Loss is 194.92049367355708\n",
      "Epoch 3 :- Training Loss is 77.38146689453404, Validation Loss is 127.366585487815\n",
      "Epoch 4 :- Training Loss is 47.12047341258823, Validation Loss is 76.10908065472799\n",
      "Epoch 5 :- Training Loss is 30.02604134441546, Validation Loss is 47.40978584345055\n",
      "Epoch 6 :- Training Loss is 20.7751338494748, Validation Loss is 31.991001099611378\n",
      "Epoch 7 :- Training Loss is 15.430728595960076, Validation Loss is 23.156512140961237\n",
      "Epoch 8 :- Training Loss is 12.087943970701915, Validation Loss is 17.685526389233758\n",
      "Epoch 9 :- Training Loss is 9.849775739761542, Validation Loss is 14.063090522230972\n",
      "Epoch 10 :- Training Loss is 8.267593284001796, Validation Loss is 11.532385154969525\n",
      "Epoch 11 :- Training Loss is 7.100049006314088, Validation Loss is 9.687272112505172\n",
      "Epoch 12 :- Training Loss is 6.208372083729713, Validation Loss is 8.29506991251981\n",
      "Epoch 13 :- Training Loss is 5.5081133367365505, Validation Loss is 7.214796853633244\n",
      "Epoch 14 :- Training Loss is 4.945374117510837, Validation Loss is 6.356908874583045\n",
      "Epoch 15 :- Training Loss is 4.4843489132005105, Validation Loss is 5.662228113766302\n",
      "Epoch 16 :- Training Loss is 4.100431269117411, Validation Loss is 5.0903052446916615\n",
      "Epoch 17 :- Training Loss is 3.7762137329278183, Validation Loss is 4.612683761451858\n",
      "Epoch 18 :- Training Loss is 3.4990698803423474, Validation Loss is 4.208839632969064\n",
      "Epoch 19 :- Training Loss is 3.25963967498696, Validation Loss is 3.8636454966052343\n",
      "Epoch 20 :- Training Loss is 3.0508506663714616, Validation Loss is 3.565737153021254\n",
      "Epoch 21 :- Training Loss is 2.867267886315995, Validation Loss is 3.3064322174922216\n",
      "Epoch 22 :- Training Loss is 2.704651454729096, Validation Loss is 3.078996789585089\n",
      "Epoch 23 :- Training Loss is 2.559648951418448, Validation Loss is 2.8781373154965655\n",
      "Epoch 24 :- Training Loss is 2.429577315348819, Validation Loss is 2.6996416307860978\n",
      "Epoch 25 :- Training Loss is 2.3122654938001466, Validation Loss is 2.5401209384749572\n",
      "Epoch 26 :- Training Loss is 2.205939111630133, Validation Loss is 2.3968213957712092\n",
      "Epoch 27 :- Training Loss is 2.1091347152672, Validation Loss is 2.2674845441549456\n",
      "Epoch 28 :- Training Loss is 2.02063516461512, Validation Loss is 2.150242557638007\n",
      "Epoch 29 :- Training Loss is 1.9394203680404907, Validation Loss is 2.0435386726495777\n",
      "Epoch 30 :- Training Loss is 1.8646292982335892, Validation Loss is 1.9460660735522533\n",
      "Epoch 31 :- Training Loss is 1.79553040468736, Validation Loss is 1.8567204709247929\n",
      "Epoch 32 :- Training Loss is 1.731498347317174, Validation Loss is 1.7745629545990007\n",
      "Epoch 33 :- Training Loss is 1.6719955391102121, Validation Loss is 1.698790638065417\n",
      "Epoch 34 :- Training Loss is 1.6165573833932685, Validation Loss is 1.6287132691058512\n",
      "Epoch 35 :- Training Loss is 1.5647803755662693, Validation Loss is 1.563734450875822\n",
      "Epoch 36 :- Training Loss is 1.5163124446893455, Validation Loss is 1.503336456228045\n",
      "Epoch 37 :- Training Loss is 1.4708450605478776, Validation Loss is 1.447067864934745\n",
      "Epoch 38 :- Training Loss is 1.4281067427500307, Validation Loss is 1.3945334352954248\n",
      "Epoch 39 :- Training Loss is 1.3878576911000118, Validation Loss is 1.3453857568167533\n",
      "Epoch 40 :- Training Loss is 1.3498853186800879, Validation Loss is 1.2993183320793422\n",
      "Epoch 41 :- Training Loss is 1.3140005162418946, Validation Loss is 1.256059812639602\n",
      "Epoch 42 :- Training Loss is 1.2800345125663115, Validation Loss is 1.2153691723273259\n",
      "Epoch 43 :- Training Loss is 1.2478362232248381, Validation Loss is 1.177031646253153\n",
      "Epoch 44 :- Training Loss is 1.217270001719849, Validation Loss is 1.1408552986221019\n",
      "Epoch 45 :- Training Loss is 1.1882137238062933, Validation Loss is 1.1066681095429023\n",
      "Epoch 46 :- Training Loss is 1.1605571490210547, Validation Loss is 1.0743154922623535\n",
      "Epoch 47 :- Training Loss is 1.134200513902611, Validation Loss is 1.0436581690056976\n",
      "Epoch 48 :- Training Loss is 1.1090533196996597, Validation Loss is 1.0145703468925482\n",
      "Epoch 49 :- Training Loss is 1.085033284017677, Validation Loss is 0.9869381459975787\n",
      "Epoch 50 :- Training Loss is 1.0620654311985296, Validation Loss is 0.9606582401243833\n",
      "Epoch 51 :- Training Loss is 1.0400813005476315, Validation Loss is 0.9356366777102468\n",
      "Epoch 52 :- Training Loss is 1.0190182550296427, Validation Loss is 0.9117878558257763\n",
      "Epoch 53 :- Training Loss is 0.9988188759134075, Validation Loss is 0.8890336247450057\n",
      "Epoch 54 :- Training Loss is 0.9794304311893185, Validation Loss is 0.8673025042479071\n",
      "Epoch 55 :- Training Loss is 0.9608044075091158, Validation Loss is 0.8465289958418174\n",
      "Epoch 56 :- Training Loss is 0.9428960969895545, Validation Loss is 0.8266529775800832\n",
      "Epoch 57 :- Training Loss is 0.9256642315408005, Validation Loss is 0.8076191702169725\n",
      "Epoch 58 :- Training Loss is 0.9090706584784739, Validation Loss is 0.789376665148642\n",
      "Epoch 59 :- Training Loss is 0.8930800520953087, Validation Loss is 0.7718785060151382\n",
      "Epoch 60 :- Training Loss is 0.877659656636992, Validation Loss is 0.7550813170299365\n",
      "Epoch 61 :- Training Loss is 0.8627790567729755, Validation Loss is 0.7389449721028651\n",
      "Epoch 62 :- Training Loss is 0.8484099721981879, Validation Loss is 0.7234322996632913\n",
      "Epoch 63 :- Training Loss is 0.8345260734628885, Validation Loss is 0.7085088188003118\n",
      "Epoch 64 :- Training Loss is 0.8211028165193329, Validation Loss is 0.6941425029376672\n",
      "Epoch 65 :- Training Loss is 0.8081172938071344, Validation Loss is 0.6803035677713906\n",
      "Epoch 66 :- Training Loss is 0.7955480999835483, Validation Loss is 0.666964280632681\n",
      "Epoch 67 :- Training Loss is 0.7833752106483018, Validation Loss is 0.6540987888094385\n",
      "Epoch 68 :- Training Loss is 0.7715798726213314, Validation Loss is 0.6416829646773674\n",
      "Epoch 69 :- Training Loss is 0.7601445045114483, Validation Loss is 0.6296942657640546\n",
      "Epoch 70 :- Training Loss is 0.7490526064687637, Validation Loss is 0.6181116081037928\n",
      "Epoch 71 :- Training Loss is 0.7382886781475818, Validation Loss is 0.6069152514430419\n",
      "Epoch 72 :- Training Loss is 0.727838144022378, Validation Loss is 0.5960866950310615\n",
      "Epoch 73 :- Training Loss is 0.7176872853001798, Validation Loss is 0.5856085828815831\n",
      "Epoch 74 :- Training Loss is 0.7078231777601929, Validation Loss is 0.5754646175226921\n",
      "Epoch 75 :- Training Loss is 0.6982336349279064, Validation Loss is 0.5656394813663682\n",
      "Epoch 76 :- Training Loss is 0.6889071560576149, Validation Loss is 0.5561187649286906\n",
      "Epoch 77 :- Training Loss is 0.6798328784556651, Validation Loss is 0.5468889012187151\n",
      "Epoch 78 :- Training Loss is 0.6710005337279634, Validation Loss is 0.5379371056901237\n",
      "Epoch 79 :- Training Loss is 0.6624004075802693, Validation Loss is 0.5292513212164888\n",
      "Epoch 80 :- Training Loss is 0.6540233028393942, Validation Loss is 0.520820167609586\n",
      "Epoch 81 :- Training Loss is 0.6458605053983797, Validation Loss is 0.5126328952517688\n",
      "Epoch 82 :- Training Loss is 0.6379037528195471, Validation Loss is 0.5046793424588653\n",
      "Epoch 83 :- Training Loss is 0.6301452053566143, Validation Loss is 0.49694989623017316\n",
      "Epoch 84 :- Training Loss is 0.6225774191812699, Validation Loss is 0.48943545607762773\n",
      "Epoch 85 :- Training Loss is 0.6151933216210665, Validation Loss is 0.4821274006576337\n",
      "Epoch 86 :- Training Loss is 0.6079861882345569, Validation Loss is 0.4750175569569417\n",
      "Epoch 87 :- Training Loss is 0.6009496215666221, Validation Loss is 0.4680981718087041\n",
      "Epoch 88 :- Training Loss is 0.5940775314420578, Validation Loss is 0.46136188553690305\n",
      "Epoch 89 :- Training Loss is 0.587364116669042, Validation Loss is 0.4548017075469672\n",
      "Epoch 90 :- Training Loss is 0.5808038480361803, Validation Loss is 0.44841099369791976\n",
      "Epoch 91 :- Training Loss is 0.5743914524976731, Validation Loss is 0.4421834253070531\n",
      "Epoch 92 :- Training Loss is 0.5681218984508256, Validation Loss is 0.436112989652142\n",
      "Epoch 93 :- Training Loss is 0.5619903820188921, Validation Loss is 0.43019396184874537\n",
      "Epoch 94 :- Training Loss is 0.5559923142600125, Validation Loss is 0.4244208879914059\n",
      "Epoch 95 :- Training Loss is 0.5501233092301117, Validation Loss is 0.4187885694576786\n",
      "Epoch 96 :- Training Loss is 0.5443791728339401, Validation Loss is 0.41329204828299065\n",
      "Epoch 97 :- Training Loss is 0.538755892404187, Validation Loss is 0.40792659352254235\n",
      "Epoch 98 :- Training Loss is 0.5332496269537661, Validation Loss is 0.402687688523816\n",
      "Epoch 99 :- Training Loss is 0.527856698051057, Validation Loss is 0.3975710190399393\n",
      "Epoch 100 :- Training Loss is 0.5225735812721138, Validation Loss is 0.3925724621201411\n",
      "CPU times: user 150 ms, sys: 15.6 ms, total: 165 ms\n",
      "Wall time: 159 ms\n"
     ]
    }
   ],
   "source": [
    "%%time\n",
    "OR.train(epochs=100, mini_batch_size=64)"
   ]
  },
  {
   "cell_type": "code",
   "execution_count": 14,
   "id": "36d4fbdb",
   "metadata": {},
   "outputs": [
    {
     "data": {
      "image/png": "[encoded data removed]",
      "text/plain": [
       "<Figure size 432x288 with 1 Axes>"
      ]
     },
     "metadata": {
      "needs_background": "light"
     },
     "output_type": "display_data"
    }
   ],
   "source": [
    "OR.plot()"
   ]
  },
  {
   "cell_type": "code",
   "execution_count": 15,
   "id": "285d1199",
   "metadata": {},
   "outputs": [
    {
     "data": {
      "text/plain": [
       "array([[0.99035505]])"
      ]
     },
     "execution_count": 15,
     "metadata": {},
     "output_type": "execute_result"
    }
   ],
   "source": [
    "test = np.array([1, 0]).reshape(2, 1)\n",
    "OR.predict_for_valid(test)"
   ]
  }
 ],
 "metadata": {
  "kernelspec": {
   "display_name": "Python 3",
   "language": "python",
   "name": "python3"
  },
  "language_info": {
   "codemirror_mode": {
    "name": "ipython",
    "version": 3
   },
   "file_extension": ".py",
   "mimetype": "text/x-python",
   "name": "python",
   "nbconvert_exporter": "python",
   "pygments_lexer": "ipython3",
   "version": "3.8.10"
  }
 },
 "nbformat": 4,
 "nbformat_minor": 5
}
