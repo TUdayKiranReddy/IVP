{
 "cells": [
  {
   "cell_type": "code",
   "execution_count": 1,
   "id": "9f594b5a",
   "metadata": {},
   "outputs": [],
   "source": [
    "import numpy as np\n",
    "import matplotlib.pyplot as plt\n",
    "import matplotlib.image as mpimg\n",
    "import time\n",
    "\n",
    "%matplotlib inline"
   ]
  },
  {
   "cell_type": "code",
   "execution_count": 229,
   "id": "eba14b68",
   "metadata": {},
   "outputs": [],
   "source": [
    "def dft_matrix(N):\n",
    "    i, j = np.meshgrid(np.arange(N), np.arange(N))\n",
    "    omega = np.exp( - 2 * np.pi * 1j / N )\n",
    "    W = np.power( omega, i * j )\n",
    "    return W\n",
    "\n",
    "def idft_matrix(N):\n",
    "    i, j = np.meshgrid(np.arange(N), np.arange(N))\n",
    "    omega = np.exp(2 * np.pi * 1j / N )\n",
    "    W = np.power( omega, i * j ) / N\n",
    "    return W\n",
    "\n",
    "def dft(I):\n",
    "    (M, N) = I.shape\n",
    "    \n",
    "    W_N = dft_matrix(N)\n",
    "    W_M = dft_matrix(M)\n",
    "    \n",
    "    It = np.zeros((M, N), dtype=complex)\n",
    "    It = W_M@I@W_N\n",
    "    return It\n",
    "\n",
    "def idft(It):\n",
    "    (M, N) = It.shape\n",
    "    W_N = idft_matrix(N)\n",
    "    W_M = idft_matrix(M)\n",
    "    \n",
    "    I = np.zeros((M, N), dtype=int)\n",
    "    I = np.clip(np.real(W_M@It@W_N), 0, 255)\n",
    "    return I\n",
    "\n",
    "def CONVOLVE(f, h):\n",
    "    (M, N, C) = f.shape\n",
    "    (m, n, c) = h.shape\n",
    "    mid_m = (m-1)//2\n",
    "    mid_n = (n-1)//2\n",
    "    if C != c:\n",
    "        print(\"Channel diemensions are mismatching f:{} and h:{}\".format(C, c))\n",
    "        return None\n",
    "    y = np.zeros((M, N))\n",
    "    for i in range(C):\n",
    "        h_padded = np.vstack((np.hstack((h[:, :, i], np.zeros((m, 2*N - n)))), np.zeros((2*M-m, 2*N))))\n",
    "        f_padded = np.vstack((np.hstack((f[:, :, i], np.zeros((M, N)))), np.zeros((M, 2*N))))\n",
    "        y[:, :] += idft(dft(h_padded) * dft(f_padded))[mid_m:(M+mid_m), mid_n:(N+mid_m)]\n",
    "    return y.astype(int)\n",
    "\n",
    "def gaussian_filter(sigma, N, C):\n",
    "    H = np.zeros((N, N, C))\n",
    "    for k in range(C):\n",
    "        mid = N//2\n",
    "        for i in range(N):\n",
    "            for j in range(N):\n",
    "                H[i, j, k] = np.exp(-2*np.power(np.pi*sigma, 2)*((mid-i)**2 + (mid-j)**2)/(N**2))\n",
    "        H[:, :, k] = H[:, :, k]/np.sum(H[:, :, k])\n",
    "    return H"
   ]
  },
  {
   "cell_type": "code",
   "execution_count": 144,
   "id": "e51b490f",
   "metadata": {},
   "outputs": [],
   "source": [
    "def unpickle(file):\n",
    "    import pickle\n",
    "    with open(file, 'rb') as fo:\n",
    "        dict = pickle.load(fo, encoding='bytes')\n",
    "    return dict"
   ]
  },
  {
   "cell_type": "code",
   "execution_count": 13,
   "id": "23d23ec9",
   "metadata": {},
   "outputs": [
    {
     "name": "stdout",
     "output_type": "stream",
     "text": [
      "dict_keys([b'batch_label', b'labels', b'data', b'filenames'])\n",
      "(10000, 3072)\n"
     ]
    }
   ],
   "source": [
    "images = unpickle(\"./cifar-10-python/cifar-10-batches-py/data_batch_1\")\n",
    "print(images.keys())\n",
    "print(images[b'data'].shape)"
   ]
  },
  {
   "cell_type": "code",
   "execution_count": 17,
   "id": "0e7c4894",
   "metadata": {},
   "outputs": [
    {
     "data": {
      "text/plain": [
       "<matplotlib.image.AxesImage at 0x7f4ebc5f3f70>"
      ]
     },
     "execution_count": 17,
     "metadata": {},
     "output_type": "execute_result"
    },
    {
     "data": {
      "image/png": "[encoded data removed]",
      "text/plain": [
       "<Figure size 432x288 with 1 Axes>"
      ]
     },
     "metadata": {
      "needs_background": "light"
     },
     "output_type": "display_data"
    }
   ],
   "source": [
    "r = images[b'data'][1,:].reshape(32, 32, 3)\n",
    "plt.imshow(r)"
   ]
  },
  {
   "cell_type": "code",
   "execution_count": 29,
   "id": "41e0ac92",
   "metadata": {},
   "outputs": [],
   "source": [
    "def extract_data(file):\n",
    "    import pickle\n",
    "    with open(file, 'rb') as fo:\n",
    "        dict = pickle.load(fo, encoding='bytes')\n",
    "    data = dict[b'data']\n",
    "    labels = dict[b'labels']\n",
    "    images = []\n",
    "    for i in range(data.shape[0]):\n",
    "        img = np.zeros((32, 32, 3), dtype=int)\n",
    "        for j in range(data.shape[1]):\n",
    "            x = j//1024\n",
    "            img[(j - 1024*x)//32, (j - 1024*x)%32, x] = data[i, j]\n",
    "        images.append(img)\n",
    "    dct = {'X':np.array(images), 'Y':labels}\n",
    "    return dct"
   ]
  },
  {
   "cell_type": "code",
   "execution_count": 41,
   "id": "90e52b91",
   "metadata": {
    "scrolled": true
   },
   "outputs": [
    {
     "name": "stdout",
     "output_type": "stream",
     "text": [
      "CPU times: user 11.8 s, sys: 24.4 ms, total: 11.8 s\n",
      "Wall time: 11.6 s\n"
     ]
    }
   ],
   "source": [
    "%%time\n",
    "data = extract_data(\"./cifar-10-python/cifar-10-batches-py/data_batch_1\")"
   ]
  },
  {
   "cell_type": "code",
   "execution_count": 274,
   "id": "6668b01b",
   "metadata": {},
   "outputs": [
    {
     "data": {
      "text/plain": [
       "<matplotlib.image.AxesImage at 0x7f4e9562b9d0>"
      ]
     },
     "execution_count": 274,
     "metadata": {},
     "output_type": "execute_result"
    },
    {
     "data": {
      "image/png": "[encoded data removed]",
      "text/plain": [
       "<Figure size 432x288 with 1 Axes>"
      ]
     },
     "metadata": {
      "needs_background": "light"
     },
     "output_type": "display_data"
    }
   ],
   "source": [
    "h = gaussian_filter(sigma=100, N=15, C=3)\n",
    "plt.imshow(h)"
   ]
  },
  {
   "cell_type": "code",
   "execution_count": 275,
   "id": "3840efa6",
   "metadata": {},
   "outputs": [],
   "source": [
    "image = data['X'][0, :]\n",
    "h_image = CONVOLVE(image, h)"
   ]
  },
  {
   "cell_type": "code",
   "execution_count": 276,
   "id": "185599c5",
   "metadata": {},
   "outputs": [
    {
     "data": {
      "text/plain": [
       "<matplotlib.image.AxesImage at 0x7f4e9588b4c0>"
      ]
     },
     "execution_count": 276,
     "metadata": {},
     "output_type": "execute_result"
    },
    {
     "data": {
      "image/png": "[encoded data removed]",
      "text/plain": [
       "<Figure size 432x288 with 1 Axes>"
      ]
     },
     "metadata": {
      "needs_background": "light"
     },
     "output_type": "display_data"
    }
   ],
   "source": [
    "plt.imshow(image)"
   ]
  },
  {
   "cell_type": "code",
   "execution_count": 277,
   "id": "2b42f6b1",
   "metadata": {},
   "outputs": [
    {
     "data": {
      "text/plain": [
       "<matplotlib.image.AxesImage at 0x7f4e95a1b4f0>"
      ]
     },
     "execution_count": 277,
     "metadata": {},
     "output_type": "execute_result"
    },
    {
     "data": {
      "image/png": "[encoded data removed]",
      "text/plain": [
       "<Figure size 432x288 with 1 Axes>"
      ]
     },
     "metadata": {
      "needs_background": "light"
     },
     "output_type": "display_data"
    }
   ],
   "source": [
    "plt.imshow(h_image, cmap='gray')"
   ]
  },
  {
   "cell_type": "code",
   "execution_count": 215,
   "id": "0b4d5ecb",
   "metadata": {},
   "outputs": [
    {
     "name": "stdout",
     "output_type": "stream",
     "text": [
      "(32, 32)\n"
     ]
    }
   ],
   "source": [
    "print(h_image.shape)"
   ]
  },
  {
   "cell_type": "code",
   "execution_count": 216,
   "id": "782a4f8c",
   "metadata": {},
   "outputs": [],
   "source": [
    "def max_pool(image):\n",
    "    (M, N, C) = image.shape\n",
    "    if M!=N:\n",
    "        print(\"Not implemented!\")\n",
    "        return None\n",
    "    m = M//2\n",
    "    y = np.zeros((m, m, C), dtype=int)\n",
    "    for k in range(C):\n",
    "        for i in range(m):\n",
    "            for j in range(m):\n",
    "                y[i, j, k] = np.max(image[(2*i):(2*i+2), (2*j):(2*j+2), k])\n",
    "    return y\n",
    "\n",
    "def ReLU(x):\n",
    "    return np.clip(x, 0, None)"
   ]
  },
  {
   "cell_type": "code",
   "execution_count": 403,
   "id": "e37dd919",
   "metadata": {},
   "outputs": [],
   "source": [
    "def weight_init(init_type='random', sigma=None):\n",
    "    kernel_1=None\n",
    "    kernel_2=None\n",
    "    W1=None\n",
    "    b1=None\n",
    "    W2=None\n",
    "    b2=None\n",
    "    if init_type == 'random':\n",
    "        kernel_1 = {'0':np.random.rand(3, 3, 3), '1':np.random.rand(3, 3, 3), '2':np.random.rand(3, 3, 3),\n",
    "                    '3':np.random.rand(3, 3, 3)}\n",
    "        kernel_2 = {'0':np.random.rand(3, 3, 4), '1':np.random.rand(3, 3, 4), '2':np.random.rand(3, 3, 4),\n",
    "                    '3':np.random.rand(3, 3, 4), '4':np.random.rand(3, 3, 4), '5':np.random.rand(3, 3, 4),\n",
    "                    '6':np.random.rand(3, 3, 4), '7':np.random.rand(3, 3, 4)}\n",
    "        W1 = np.random.rand(256, 512)\n",
    "        b1 = np.random.rand(256, 1)\n",
    "        W2 = np.random.rand(10, 256)\n",
    "        b2 = np.random.rand(10, 1)\n",
    "    elif init_type == 'bandpass':\n",
    "        kernel_1 = {'0':gaussian_filter(sigma, N=3, C=3), '1':gaussian_filter(sigma, N=3, C=3), '2':gaussian_filter(sigma, N=3, C=3),\n",
    "                    '3':gaussian_filter(sigma, N=3, C=3)}\n",
    "        kernel_2 = {'0':gaussian_filter(sigma, N=3, C=4), '1':gaussian_filter(sigma, N=3, C=4), '2':gaussian_filter(sigma, N=3, C=4),\n",
    "                    '3':gaussian_filter(sigma, N=3, C=4), '4':gaussian_filter(sigma, N=3, C=4), '5':gaussian_filter(sigma, N=3, C=4),\n",
    "                    '6':gaussian_filter(sigma, N=3, C=4), '7':gaussian_filter(sigma, N=3, C=4)}\n",
    "        W1 = np.random.rand(256, 512)\n",
    "        b1 = np.random.rand(256, 1)\n",
    "        W2 = np.random.rand(10, 256)\n",
    "        b2 = np.random.rand(10, 1)\n",
    "    return kernel_1, kernel_2, W1, b1, W2, b2\n",
    "    \n",
    "def feed_forward(image, print_dim=False, show_plot=False):\n",
    "    (M, N, C) = image.shape\n",
    "    \n",
    "    # Weights and bias initialisation\n",
    "    kernel_1, kernel_2, W1, b1, W2, b2 = weight_init(init_type='bandpass', sigma=1e-3)\n",
    "    if print_dim:\n",
    "        print(\"\\u001b[31m ################ Input layer ##################\")\n",
    "        print(\"\\t\\t\", \"\\u001b[32m{}\".format(image.shape))\n",
    "        \n",
    "    # CONV layer with 4 kernels of size 3x3, ReLU\n",
    "    x1 = np.dstack((CONVOLVE(image, kernel_1['0']), CONVOLVE(image, kernel_1['1']), \n",
    "                   CONVOLVE(image, kernel_1['2']), CONVOLVE(image, kernel_1['3'])))\n",
    "    x2 = ReLU(x1)\n",
    "    if print_dim:\n",
    "        print(\"\\u001b[31m # CONV layer with 4 kernels of size 3x3 & ReLU \")\n",
    "        print(\"\\t\\t\", \"\\u001b[32m{}\".format(x2.shape))\n",
    "        \n",
    "    # Max pooling of size 2x2 with a stride of 2\n",
    "    x3 = max_pool(x2)\n",
    "    if print_dim:\n",
    "        print(\"\\u001b[31m ## Max pooling of size 2x2 with a stride of 2 #\")\n",
    "        print(\"\\t\\t\", \"\\u001b[32m{}\".format(x3.shape))\n",
    "        \n",
    "    # CONV layer with 8 kernels of size 3x3, ReLU\n",
    "    x4 = np.dstack((CONVOLVE(x3, kernel_2['0']), CONVOLVE(x3, kernel_2['1']), CONVOLVE(x3, kernel_2['2']),\n",
    "                   CONVOLVE(x3, kernel_2['3']), CONVOLVE(x3, kernel_2['4']), CONVOLVE(x3, kernel_2['5']),\n",
    "                   CONVOLVE(x3, kernel_2['6']), CONVOLVE(x3, kernel_2['7'])))\n",
    "    x5 = ReLU(x4)\n",
    "    if print_dim:\n",
    "        print(\"\\u001b[31m # CONV layer with 8 kernels of size 3x3, ReLU #\")\n",
    "        print(\"\\t\\t\", \"\\u001b[32m{}\".format(x5.shape))\n",
    "        \n",
    "    # Max pooling of size 2x2 with a stride of 2\n",
    "    x6 = max_pool(x5)\n",
    "    if print_dim:\n",
    "        print(\"\\u001b[31m # Max pooling of size 2x2 with a stride of 2 ##\")\n",
    "        print(\"\\t\\t\", \"\\u001b[32m{}\".format(x6.shape))\n",
    "        \n",
    "    # Flattening layer\n",
    "    x7 = x6.reshape(-1, 1)\n",
    "    if print_dim:\n",
    "        print(\"\\u001b[31m ############ Flattening layer #################\")\n",
    "        print(\"\\t\\t\", \"\\u001b[32m{}\".format(x7.shape))\n",
    "        \n",
    "    # MLP hidden layer of 256 neurons\n",
    "    x8 = W1@x7 + b1\n",
    "    x9 = ReLU(x8)\n",
    "    if print_dim:\n",
    "        print(\"\\u001b[31m ###### MLP hidden layer of 256 neurons ########\")\n",
    "        print(\"\\t\\t\", \"\\u001b[32m{}\".format(x9.shape))\n",
    "        \n",
    "    # MLP output layer of 10 neurons\n",
    "    x10 = W2@x9 + b2\n",
    "    y = ReLU(x10)  \n",
    "    if print_dim:\n",
    "        print(\"\\u001b[31m ####### MLP output layer of 10 neurons ########\")\n",
    "        print(\"\\t\\t\", \"\\u001b[32m{}\".format(y.shape))\n",
    "#     print(CONVOLVE(x3, kernel_2['0']))\n",
    "#     print(x3)\n",
    "    if show_plot:\n",
    "        plt.figure()\n",
    "        plt.title(\"Input layer\")\n",
    "        plt.imshow(image)\n",
    "        \n",
    "        plt.figure(figsize=(12, 10))\n",
    "        plt.subplot(1, 4, 1)\n",
    "        plt.title(\"Layer 0\")\n",
    "        plt.imshow(x2[:, :, 0], cmap='gray')\n",
    "        \n",
    "        plt.subplot(1, 4, 2)\n",
    "        plt.title(\"Layer 1\")\n",
    "        plt.imshow(x2[:, :, 1], cmap='gray')\n",
    "        \n",
    "        plt.subplot(1, 4, 3)\n",
    "        plt.title(\"Layer 2\")\n",
    "        plt.imshow(x2[:, :, 2], cmap='gray')\n",
    "        \n",
    "        plt.subplot(1, 4, 4)\n",
    "        plt.title(\"Layer 3\")\n",
    "        plt.imshow(x2[:, :, 3], cmap='gray')\n",
    "        \n",
    "        plt.figure(figsize=(12, 12))\n",
    "        plt.subplot(1, 4, 1)\n",
    "        plt.imshow(x3[:, :, 0], cmap='gray')\n",
    "        \n",
    "        plt.subplot(1, 4, 2)\n",
    "        plt.imshow(x3[:, :, 1], cmap='gray')\n",
    "        \n",
    "        plt.subplot(1, 4, 3)\n",
    "        plt.imshow(x3[:, :, 2], cmap='gray')\n",
    "        \n",
    "        plt.subplot(1, 4, 4)\n",
    "        plt.imshow(x3[:, :, 3], cmap='gray')\n",
    "        \n",
    "        plt.figure(figsize=(24, 40))\n",
    "        plt.subplot(1, 8, 1)\n",
    "        plt.title(\"Layer 0\")\n",
    "        plt.imshow(x5[:, :, 0], cmap='gray')\n",
    "        \n",
    "        plt.subplot(1, 8, 2)\n",
    "        plt.title(\"Layer 1\")\n",
    "        plt.imshow(x5[:, :, 1], cmap='gray')\n",
    "        \n",
    "        plt.subplot(1, 8, 3)\n",
    "        plt.title(\"Layer 2\")\n",
    "        plt.imshow(x5[:, :, 2], cmap='gray')\n",
    "        \n",
    "        plt.subplot(1, 8, 4)\n",
    "        plt.title(\"Layer 3\")\n",
    "        plt.imshow(x5[:, :, 3], cmap='gray')\n",
    "        \n",
    "        plt.subplot(1, 8, 5)\n",
    "        plt.title(\"Layer 4\")\n",
    "        plt.imshow(x5[:, :, 4], cmap='gray')\n",
    "        \n",
    "        plt.subplot(1, 8, 6)\n",
    "        plt.title(\"Layer 5\")\n",
    "        plt.imshow(x5[:, :, 5], cmap='gray')\n",
    "        \n",
    "        plt.subplot(1, 8, 7)\n",
    "        plt.title(\"Layer 6\")\n",
    "        plt.imshow(x5[:, :, 6], cmap='gray')\n",
    "        \n",
    "        plt.subplot(1, 8, 8)\n",
    "        plt.title(\"Layer 7\")\n",
    "        plt.imshow(x5[:, :, 7], cmap='gray')\n",
    "        \n",
    "        plt.figure(figsize=(24, 40))\n",
    "        plt.subplot(1, 8, 1)\n",
    "        plt.imshow(x6[:, :, 0], cmap='gray')\n",
    "        \n",
    "        plt.subplot(1, 8, 2)\n",
    "        plt.imshow(x6[:, :, 1], cmap='gray')\n",
    "        \n",
    "        plt.subplot(1, 8, 3)\n",
    "        plt.imshow(x6[:, :, 2], cmap='gray')\n",
    "        \n",
    "        plt.subplot(1, 8, 4)\n",
    "        plt.imshow(x6[:, :, 3], cmap='gray')\n",
    "        \n",
    "        plt.subplot(1, 8, 5)\n",
    "        plt.imshow(x6[:, :, 4], cmap='gray')\n",
    "        \n",
    "        plt.subplot(1, 8, 6)\n",
    "        plt.imshow(x6[:, :, 5], cmap='gray')\n",
    "        \n",
    "        plt.subplot(1, 8, 7)\n",
    "        plt.imshow(x6[:, :, 6], cmap='gray')\n",
    "        \n",
    "        plt.subplot(1, 8, 8)\n",
    "        plt.imshow(x6[:, :, 7], cmap='gray')\n",
    "        \n",
    "    return y, x7\n",
    "    "
   ]
  },
  {
   "cell_type": "code",
   "execution_count": 406,
   "id": "d34078d4",
   "metadata": {},
   "outputs": [
    {
     "name": "stdout",
     "output_type": "stream",
     "text": [
      "\u001b[31m ################ Input layer ##################\n",
      "\t\t \u001b[32m(32, 32, 3)\n",
      "\u001b[31m # CONV layer with 4 kernels of size 3x3 & ReLU \n",
      "\t\t \u001b[32m(32, 32, 4)\n",
      "\u001b[31m ## Max pooling of size 2x2 with a stride of 2 #\n",
      "\t\t \u001b[32m(16, 16, 4)\n",
      "\u001b[31m # CONV layer with 8 kernels of size 3x3, ReLU #\n",
      "\t\t \u001b[32m(16, 16, 8)\n",
      "\u001b[31m # Max pooling of size 2x2 with a stride of 2 ##\n",
      "\t\t \u001b[32m(8, 8, 8)\n",
      "\u001b[31m ############ Flattening layer #################\n",
      "\t\t \u001b[32m(512, 1)\n",
      "\u001b[31m ###### MLP hidden layer of 256 neurons ########\n",
      "\t\t \u001b[32m(256, 1)\n",
      "\u001b[31m ####### MLP output layer of 10 neurons ########\n",
      "\t\t \u001b[32m(10, 1)\n"
     ]
    },
    {
     "data": {
      "image/png": "[encoded data removed]",
      "text/plain": [
       "<Figure size 842.4x595.44 with 1 Axes>"
      ]
     },
     "metadata": {},
     "output_type": "display_data"
    },
    {
     "data": {
      "image/png": "[encoded data removed]",
      "text/plain": [
       "<Figure size 864x720 with 4 Axes>"
      ]
     },
     "metadata": {},
     "output_type": "display_data"
    },
    {
     "data": {
      "image/png": "[encoded data removed]",
      "text/plain": [
       "<Figure size 864x864 with 4 Axes>"
      ]
     },
     "metadata": {},
     "output_type": "display_data"
    },
    {
     "data": {
      "image/png": "[encoded data removed]",
      "text/plain": [
       "<Figure size 1728x2880 with 8 Axes>"
      ]
     },
     "metadata": {},
     "output_type": "display_data"
    },
    {
     "data": {
      "image/png": "[encoded data removed]",
      "text/plain": [
       "<Figure size 1728x2880 with 8 Axes>"
      ]
     },
     "metadata": {},
     "output_type": "display_data"
    }
   ],
   "source": [
    "y_1, fl = feed_forward(data['X'][0,:], print_dim=True, show_plot=True)"
   ]
  },
  {
   "cell_type": "code",
   "execution_count": 408,
   "id": "bf19ac23",
   "metadata": {},
   "outputs": [],
   "source": [
    "from sklearn.manifold import TSNE\n",
    "import seaborn as sns"
   ]
  },
  {
   "cell_type": "code",
   "execution_count": 409,
   "id": "ac4c3d2b",
   "metadata": {},
   "outputs": [],
   "source": [
    "def t_SNE_plots(X, y):\n",
    "    sns.set(rc={'figure.figsize':(11.7,8.27)})\n",
    "    palette = sns.color_palette(\"bright\", 10)\n",
    "\n",
    "    tsne = TSNE()\n",
    "    embeddings = tsne.fit_transform(X)\n",
    "    sns.scatterplot(embeddings[:,0], embeddings[:,1], hue=y, legend='full', palette=palette)"
   ]
  },
  {
   "cell_type": "code",
   "execution_count": 424,
   "id": "8424fa54",
   "metadata": {},
   "outputs": [],
   "source": [
    "X = np.zeros((10, 32, 32, 3, 5))\n",
    "\n",
    "classes = np.arange(10)\n",
    "counter = np.zeros(10, dtype=int)\n",
    "for i in range(len(data['Y'])):\n",
    "    for j in range(10):\n",
    "        if data['Y'][i] == classes[j]:\n",
    "            if counter[j] < 5:\n",
    "                X[classes[j], :, :, :, counter[j]] = data['X'][i, :, :, :]\n",
    "            counter[j] += 1"
   ]
  },
  {
   "cell_type": "code",
   "execution_count": null,
   "id": "e6133ec5",
   "metadata": {},
   "outputs": [],
   "source": [
    "X_fl = np.zeros((512, 10))\n",
    "for i in range(50):\n",
    "    "
   ]
  },
  {
   "cell_type": "code",
   "execution_count": null,
   "id": "2dbbba62",
   "metadata": {},
   "outputs": [],
   "source": []
  }
 ],
 "metadata": {
  "kernelspec": {
   "display_name": "Python 3",
   "language": "python",
   "name": "python3"
  },
  "language_info": {
   "codemirror_mode": {
    "name": "ipython",
    "version": 3
   },
   "file_extension": ".py",
   "mimetype": "text/x-python",
   "name": "python",
   "nbconvert_exporter": "python",
   "pygments_lexer": "ipython3",
   "version": "3.8.10"
  }
 },
 "nbformat": 4,
 "nbformat_minor": 5
}
