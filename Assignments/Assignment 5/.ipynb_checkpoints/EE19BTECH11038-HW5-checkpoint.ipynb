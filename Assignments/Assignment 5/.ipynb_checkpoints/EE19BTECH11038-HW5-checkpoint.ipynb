{
 "cells": [
  {
   "cell_type": "code",
   "execution_count": 1,
   "id": "6167be3c",
   "metadata": {},
   "outputs": [],
   "source": [
    "import numpy as np\n",
    "import matplotlib.pyplot as plt\n",
    "import matplotlib.image as mpimg\n",
    "import time\n",
    "\n",
    "%matplotlib inline"
   ]
  },
  {
   "cell_type": "markdown",
   "id": "bd483b77",
   "metadata": {},
   "source": [
    "# The below functions are imported from HW-3\n",
    "## CONVOLVE function is modified such that it accepts multichannel image and kernel too, with output of same spatial diemension of input image but with 1 channel only, channels are downscaled by adding up the multichannels as discussed in class."
   ]
  },
  {
   "cell_type": "code",
   "execution_count": 2,
   "id": "ca81b9e8",
   "metadata": {},
   "outputs": [],
   "source": [
    "def dft_matrix(N):\n",
    "    i, j = np.meshgrid(np.arange(N), np.arange(N))\n",
    "    omega = np.exp( - 2 * np.pi * 1j / N )\n",
    "    W = np.power( omega, i * j )\n",
    "    return W\n",
    "\n",
    "def idft_matrix(N):\n",
    "    i, j = np.meshgrid(np.arange(N), np.arange(N))\n",
    "    omega = np.exp(2 * np.pi * 1j / N )\n",
    "    W = np.power( omega, i * j ) / N\n",
    "    return W\n",
    "\n",
    "def dft(I):\n",
    "    (M, N) = I.shape\n",
    "    \n",
    "    W_N = dft_matrix(N)\n",
    "    W_M = dft_matrix(M)\n",
    "    \n",
    "    It = np.zeros((M, N), dtype=complex)\n",
    "    It = W_M@I@W_N\n",
    "    return It\n",
    "\n",
    "def idft(It):\n",
    "    (M, N) = It.shape\n",
    "    W_N = idft_matrix(N)\n",
    "    W_M = idft_matrix(M)\n",
    "    \n",
    "    I = np.zeros((M, N), dtype=int)\n",
    "    I = np.clip(np.real(W_M@It@W_N), 0, 255)\n",
    "    return I\n",
    "\n",
    "def CONVOLVE(f, h):\n",
    "    (M, N, C) = f.shape\n",
    "    (m, n, c) = h.shape\n",
    "    mid_m = (m-1)//2\n",
    "    mid_n = (n-1)//2\n",
    "    if C != c:\n",
    "        print(\"Channel diemensions are mismatching f:{} and h:{}\".format(C, c))\n",
    "        return None\n",
    "    y = np.zeros((M, N))\n",
    "    for i in range(C):\n",
    "        h_padded = np.vstack((np.hstack((h[:, :, i], np.zeros((m, 2*N - n)))), np.zeros((2*M-m, 2*N))))\n",
    "        f_padded = np.vstack((np.hstack((f[:, :, i], np.zeros((M, N)))), np.zeros((M, 2*N))))\n",
    "        y[:, :] += idft(dft(h_padded) * dft(f_padded))[mid_m:(M+mid_m), mid_n:(N+mid_m)]\n",
    "    return y.astype(int)\n",
    "\n",
    "def gaussian_filter(sigma, N, C):\n",
    "    H = np.zeros((N, N, C))\n",
    "    for k in range(C):\n",
    "        mid = N//2\n",
    "        for i in range(N):\n",
    "            for j in range(N):\n",
    "                H[i, j, k] = np.exp(-2*np.power(np.pi*sigma, 2)*((mid-i)**2 + (mid-j)**2)/(N**2))\n",
    "        H[:, :, k] = H[:, :, k]/np.sum(H[:, :, k])\n",
    "    return H"
   ]
  },
  {
   "cell_type": "code",
   "execution_count": 3,
   "id": "a8b64013",
   "metadata": {},
   "outputs": [],
   "source": [
    "def unpickle(file):\n",
    "    import pickle\n",
    "    with open(file, 'rb') as fo:\n",
    "        dict = pickle.load(fo, encoding='bytes')\n",
    "    return dict"
   ]
  },
  {
   "cell_type": "code",
   "execution_count": 4,
   "id": "71d0d1c4",
   "metadata": {},
   "outputs": [],
   "source": [
    "images = unpickle(\"./cifar-10-python/cifar-10-batches-py/data_batch_1\")"
   ]
  },
  {
   "cell_type": "code",
   "execution_count": 5,
   "id": "bcb090b4",
   "metadata": {},
   "outputs": [],
   "source": [
    "def extract_data(file):\n",
    "    import pickle\n",
    "    with open(file, 'rb') as fo:\n",
    "        dict = pickle.load(fo, encoding='bytes')\n",
    "    data = dict[b'data']\n",
    "    labels = dict[b'labels']\n",
    "    images = []\n",
    "    for i in range(data.shape[0]):\n",
    "        img = np.zeros((32, 32, 3), dtype=int)\n",
    "        for j in range(data.shape[1]):\n",
    "            x = j//1024\n",
    "            img[(j - 1024*x)//32, (j - 1024*x)%32, x] = data[i, j]\n",
    "        images.append(img)\n",
    "    dct = {'X':np.array(images), 'Y':labels}\n",
    "    return dct"
   ]
  },
  {
   "cell_type": "code",
   "execution_count": 6,
   "id": "b1aa16bd",
   "metadata": {
    "scrolled": true
   },
   "outputs": [
    {
     "name": "stdout",
     "output_type": "stream",
     "text": [
      "CPU times: user 25.4 s, sys: 239 ms, total: 25.7 s\n",
      "Wall time: 25.6 s\n"
     ]
    }
   ],
   "source": [
    "%%time\n",
    "data = extract_data(\"./cifar-10-python/cifar-10-batches-py/data_batch_1\")"
   ]
  },
  {
   "cell_type": "markdown",
   "id": "19ff5a99",
   "metadata": {},
   "source": [
    "# Channel-wise convolution with central region retention"
   ]
  },
  {
   "cell_type": "code",
   "execution_count": 7,
   "id": "cd96be46",
   "metadata": {},
   "outputs": [
    {
     "data": {
      "text/plain": [
       "<matplotlib.image.AxesImage at 0x7f2fca2c96d0>"
      ]
     },
     "execution_count": 7,
     "metadata": {},
     "output_type": "execute_result"
    },
    {
     "data": {
      "image/png": "[encoded data removed]",
      "text/plain": [
       "<Figure size 432x288 with 1 Axes>"
      ]
     },
     "metadata": {
      "needs_background": "light"
     },
     "output_type": "display_data"
    }
   ],
   "source": [
    "## Gaussian filter of size 15x15 with 3 channels and sigma of 2\n",
    "h = gaussian_filter(sigma=1, N=15, C=3)\n",
    "plt.title(\"Gaussian filter\")\n",
    "plt.imshow(h)"
   ]
  },
  {
   "cell_type": "code",
   "execution_count": 8,
   "id": "e211a708",
   "metadata": {},
   "outputs": [],
   "source": [
    "image = data['X'][0, :]\n",
    "h_image = CONVOLVE(image, h)"
   ]
  },
  {
   "cell_type": "code",
   "execution_count": 9,
   "id": "a4ed748e",
   "metadata": {},
   "outputs": [
    {
     "data": {
      "text/plain": [
       "<matplotlib.image.AxesImage at 0x7f2fca163d00>"
      ]
     },
     "execution_count": 9,
     "metadata": {},
     "output_type": "execute_result"
    },
    {
     "data": {
      "image/png": "[encoded data removed]",
      "text/plain": [
       "<Figure size 432x288 with 1 Axes>"
      ]
     },
     "metadata": {
      "needs_background": "light"
     },
     "output_type": "display_data"
    }
   ],
   "source": [
    "plt.title(\"Input image\")\n",
    "plt.imshow(image)"
   ]
  },
  {
   "cell_type": "code",
   "execution_count": 10,
   "id": "5fc87d7e",
   "metadata": {},
   "outputs": [
    {
     "data": {
      "text/plain": [
       "<matplotlib.image.AxesImage at 0x7f2fca0fd730>"
      ]
     },
     "execution_count": 10,
     "metadata": {},
     "output_type": "execute_result"
    },
    {
     "data": {
      "image/png": "[encoded data removed]",
      "text/plain": [
       "<Figure size 432x288 with 1 Axes>"
      ]
     },
     "metadata": {
      "needs_background": "light"
     },
     "output_type": "display_data"
    }
   ],
   "source": [
    "plt.title(\"Convolved image\")\n",
    "plt.imshow(h_image, cmap='gray')"
   ]
  },
  {
   "cell_type": "markdown",
   "id": "3c57e710",
   "metadata": {},
   "source": [
    "# Max pooling of size 2x2 with stride of 2"
   ]
  },
  {
   "cell_type": "code",
   "execution_count": 11,
   "id": "3bd3d0ee",
   "metadata": {},
   "outputs": [],
   "source": [
    "def max_pool(image):\n",
    "    (M, N, C) = image.shape\n",
    "    if M!=N:\n",
    "        print(\"Not implemented!\")\n",
    "        return None\n",
    "    m = M//2\n",
    "    y = np.zeros((m, m, C), dtype=int)\n",
    "    for k in range(C):\n",
    "        for i in range(m):\n",
    "            for j in range(m):\n",
    "                y[i, j, k] = np.max(image[(2*i):(2*i+2), (2*j):(2*j+2), k])\n",
    "    return y\n",
    "\n",
    "def ReLU(x):\n",
    "    return np.clip(x, 0, None)"
   ]
  },
  {
   "cell_type": "markdown",
   "id": "fecd287e",
   "metadata": {},
   "source": [
    "# Feed forward network\n",
    "## The function weight_init will initialise weights which can initialise them randomly or make them a bandpass filter(gaussian filters with different sigma)"
   ]
  },
  {
   "cell_type": "code",
   "execution_count": 12,
   "id": "85fa43fc",
   "metadata": {},
   "outputs": [],
   "source": [
    "def weight_init(init_type='random', sigma=None):\n",
    "    kernel_1=None\n",
    "    kernel_2=None\n",
    "    W1=None\n",
    "    b1=None\n",
    "    W2=None\n",
    "    b2=None\n",
    "    if init_type == 'random':\n",
    "        kernel_1 = {'0':np.random.rand(3, 3, 3), '1':np.random.rand(3, 3, 3), '2':np.random.rand(3, 3, 3),\n",
    "                    '3':np.random.rand(3, 3, 3)}\n",
    "        kernel_2 = {'0':np.random.rand(3, 3, 4), '1':np.random.rand(3, 3, 4), '2':np.random.rand(3, 3, 4),\n",
    "                    '3':np.random.rand(3, 3, 4), '4':np.random.rand(3, 3, 4), '5':np.random.rand(3, 3, 4),\n",
    "                    '6':np.random.rand(3, 3, 4), '7':np.random.rand(3, 3, 4)}\n",
    "        W1 = np.random.rand(256, 512)\n",
    "        b1 = np.random.rand(256, 1)\n",
    "        W2 = np.random.rand(10, 256)\n",
    "        b2 = np.random.rand(10, 1)\n",
    "    elif init_type == 'bandpass':\n",
    "        sigma = 1e-1\n",
    "        kernel_1 = {'0':gaussian_filter(sigma, N=3, C=3), '1':gaussian_filter(2*sigma, N=3, C=3), '2':gaussian_filter(3*sigma, N=3, C=3),\n",
    "                    '3':gaussian_filter(4*sigma, N=3, C=3)}\n",
    "        sigma = 1e-3\n",
    "        kernel_2 = {'0':gaussian_filter(2.1*sigma, N=3, C=4), '1':gaussian_filter(1.2*sigma, N=3, C=4), '2':gaussian_filter(0.68*sigma, N=3, C=4),\n",
    "                    '3':gaussian_filter(5.36*sigma, N=3, C=4), '4':gaussian_filter(17.856*sigma, N=3, C=4), '5':gaussian_filter(sigma, N=3, C=4),\n",
    "                    '6':gaussian_filter(7.458*sigma, N=3, C=4), '7':gaussian_filter(10.456*sigma, N=3, C=4)}\n",
    "        W1 = np.random.rand(256, 512)\n",
    "        b1 = np.random.rand(256, 1)\n",
    "        W2 = np.random.rand(10, 256)\n",
    "        b2 = np.random.rand(10, 1)\n",
    "    return kernel_1, kernel_2, W1, b1, W2, b2\n",
    "    \n",
    "def feed_forward(image, init_type='bandpass', print_dim=False, show_plot=False):\n",
    "    (M, N, C) = image.shape\n",
    "    \n",
    "    # Weights and bias initialisation\n",
    "    kernel_1, kernel_2, W1, b1, W2, b2 = weight_init(init_type=init_type)\n",
    "    if print_dim:\n",
    "        print(\"\\u001b[31m ################ Input layer ##################\")\n",
    "        print(\"\\t\\t\", \"\\u001b[32m{}\".format(image.shape))\n",
    "        \n",
    "    # CONV layer with 4 kernels of size 3x3, ReLU\n",
    "    x1 = np.dstack((CONVOLVE(image, kernel_1['0']), CONVOLVE(image, kernel_1['1']), \n",
    "                   CONVOLVE(image, kernel_1['2']), CONVOLVE(image, kernel_1['3'])))\n",
    "    x2 = ReLU(x1)\n",
    "    if print_dim:\n",
    "        print(\"\\u001b[31m # CONV layer with 4 kernels of size 3x3 & ReLU \")\n",
    "        print(\"\\t\\t\", \"\\u001b[32m{}\".format(x2.shape))\n",
    "        \n",
    "    # Max pooling of size 2x2 with a stride of 2\n",
    "    x3 = max_pool(x2)\n",
    "    if print_dim:\n",
    "        print(\"\\u001b[31m ## Max pooling of size 2x2 with a stride of 2 #\")\n",
    "        print(\"\\t\\t\", \"\\u001b[32m{}\".format(x3.shape))\n",
    "        \n",
    "    # CONV layer with 8 kernels of size 3x3, ReLU\n",
    "    x4 = np.dstack((CONVOLVE(x3, kernel_2['0']), CONVOLVE(x3, kernel_2['1']), CONVOLVE(x3, kernel_2['2']),\n",
    "                   CONVOLVE(x3, kernel_2['3']), CONVOLVE(x3, kernel_2['4']), CONVOLVE(x3, kernel_2['5']),\n",
    "                   CONVOLVE(x3, kernel_2['6']), CONVOLVE(x3, kernel_2['7'])))\n",
    "    x5 = ReLU(x4)\n",
    "    if print_dim:\n",
    "        print(\"\\u001b[31m # CONV layer with 8 kernels of size 3x3, ReLU #\")\n",
    "        print(\"\\t\\t\", \"\\u001b[32m{}\".format(x5.shape))\n",
    "        \n",
    "    # Max pooling of size 2x2 with a stride of 2\n",
    "    x6 = max_pool(x5)\n",
    "    if print_dim:\n",
    "        print(\"\\u001b[31m # Max pooling of size 2x2 with a stride of 2 ##\")\n",
    "        print(\"\\t\\t\", \"\\u001b[32m{}\".format(x6.shape))\n",
    "        \n",
    "    # Flattening layer\n",
    "    x7 = x6.reshape(-1, 1)\n",
    "    if print_dim:\n",
    "        print(\"\\u001b[31m ############ Flattening layer #################\")\n",
    "        print(\"\\t\\t\", \"\\u001b[32m{}\".format(x7.shape))\n",
    "        \n",
    "    # MLP hidden layer of 256 neurons\n",
    "    x8 = W1@x7 + b1\n",
    "    x9 = ReLU(x8)\n",
    "    if print_dim:\n",
    "        print(\"\\u001b[31m ###### MLP hidden layer of 256 neurons ########\")\n",
    "        print(\"\\t\\t\", \"\\u001b[32m{}\".format(x9.shape))\n",
    "        \n",
    "    # MLP output layer of 10 neurons\n",
    "    x10 = W2@x9 + b2\n",
    "    y = ReLU(x10)  \n",
    "    if print_dim:\n",
    "        print(\"\\u001b[31m ####### MLP output layer of 10 neurons ########\")\n",
    "        print(\"\\t\\t\", \"\\u001b[32m{}\".format(y.shape))\n",
    "        \n",
    "    if show_plot:\n",
    "        plt.figure()\n",
    "        plt.title(\"Input layer\")\n",
    "        plt.imshow(image)\n",
    "        \n",
    "        plt.figure(figsize=(12, 10))\n",
    "        plt.subplot(1, 4, 1)\n",
    "        plt.title(\"Layer 0\")\n",
    "        plt.imshow(x2[:, :, 0], cmap='gray')\n",
    "        \n",
    "        plt.subplot(1, 4, 2)\n",
    "        plt.title(\"Layer 1\")\n",
    "        plt.imshow(x2[:, :, 1], cmap='gray')\n",
    "        \n",
    "        plt.subplot(1, 4, 3)\n",
    "        plt.title(\"Layer 2\")\n",
    "        plt.imshow(x2[:, :, 2], cmap='gray')\n",
    "        \n",
    "        plt.subplot(1, 4, 4)\n",
    "        plt.title(\"Layer 3\")\n",
    "        plt.imshow(x2[:, :, 3], cmap='gray')\n",
    "        \n",
    "        plt.figure(figsize=(12, 12))\n",
    "        plt.subplot(1, 4, 1)\n",
    "        plt.title(\"Max pool layer 0\")\n",
    "        plt.imshow(x3[:, :, 0], cmap='gray')\n",
    "        \n",
    "        plt.subplot(1, 4, 2)\n",
    "        plt.title(\"Max pool layer 1\")\n",
    "        plt.imshow(x3[:, :, 1], cmap='gray')\n",
    "        \n",
    "        plt.subplot(1, 4, 3)\n",
    "        plt.title(\"Max pool layer 2\")\n",
    "        plt.imshow(x3[:, :, 2], cmap='gray')\n",
    "        \n",
    "        plt.subplot(1, 4, 4)\n",
    "        plt.title(\"Max pool layer 3\")\n",
    "        plt.imshow(x3[:, :, 3], cmap='gray')\n",
    "        \n",
    "        plt.figure(figsize=(24, 40))\n",
    "        plt.subplot(1, 8, 1)\n",
    "        plt.title(\"Layer 0\")\n",
    "        plt.imshow(x5[:, :, 0], cmap='gray')\n",
    "        \n",
    "        plt.subplot(1, 8, 2)\n",
    "        plt.title(\"Layer 1\")\n",
    "        plt.imshow(x5[:, :, 1], cmap='gray')\n",
    "        \n",
    "        plt.subplot(1, 8, 3)\n",
    "        plt.title(\"Layer 2\")\n",
    "        plt.imshow(x5[:, :, 2], cmap='gray')\n",
    "        \n",
    "        plt.subplot(1, 8, 4)\n",
    "        plt.title(\"Layer 3\")\n",
    "        plt.imshow(x5[:, :, 3], cmap='gray')\n",
    "        \n",
    "        plt.subplot(1, 8, 5)\n",
    "        plt.title(\"Layer 4\")\n",
    "        plt.imshow(x5[:, :, 4], cmap='gray')\n",
    "        \n",
    "        plt.subplot(1, 8, 6)\n",
    "        plt.title(\"Layer 5\")\n",
    "        plt.imshow(x5[:, :, 5], cmap='gray')\n",
    "        \n",
    "        plt.subplot(1, 8, 7)\n",
    "        plt.title(\"Layer 6\")\n",
    "        plt.imshow(x5[:, :, 6], cmap='gray')\n",
    "        \n",
    "        plt.subplot(1, 8, 8)\n",
    "        plt.title(\"Layer 7\")\n",
    "        plt.imshow(x5[:, :, 7], cmap='gray')\n",
    "        \n",
    "        plt.figure(figsize=(24, 40))\n",
    "        plt.subplot(1, 8, 1)\n",
    "        plt.title(\"Max pool layer 0\")\n",
    "        plt.imshow(x6[:, :, 0], cmap='gray')\n",
    "        \n",
    "        plt.subplot(1, 8, 2)\n",
    "        plt.title(\"Max pool layer 1\")\n",
    "        plt.imshow(x6[:, :, 1], cmap='gray')\n",
    "        \n",
    "        plt.subplot(1, 8, 3)\n",
    "        plt.title(\"Max pool layer 2\")\n",
    "        plt.imshow(x6[:, :, 2], cmap='gray')\n",
    "        \n",
    "        plt.subplot(1, 8, 4)\n",
    "        plt.title(\"Max pool layer 3\")\n",
    "        plt.imshow(x6[:, :, 3], cmap='gray')\n",
    "        \n",
    "        plt.subplot(1, 8, 5)\n",
    "        plt.title(\"Max pool layer 4\")\n",
    "        plt.imshow(x6[:, :, 4], cmap='gray')\n",
    "        \n",
    "        plt.subplot(1, 8, 6)\n",
    "        plt.title(\"Max pool layer 5\")\n",
    "        plt.imshow(x6[:, :, 5], cmap='gray')\n",
    "        \n",
    "        plt.subplot(1, 8, 7)\n",
    "        plt.title(\"Max pool layer 6\")\n",
    "        plt.imshow(x6[:, :, 6], cmap='gray')\n",
    "        \n",
    "        plt.subplot(1, 8, 8)\n",
    "        plt.title(\"Max pool layer 7\")\n",
    "        plt.imshow(x6[:, :, 7], cmap='gray')\n",
    "        \n",
    "        plt.show()\n",
    "        \n",
    "    return y, x7\n",
    "    "
   ]
  },
  {
   "cell_type": "markdown",
   "id": "bb0ae3c8",
   "metadata": {},
   "source": [
    "## Visualisation of CNN at different layers "
   ]
  },
  {
   "cell_type": "code",
   "execution_count": 13,
   "id": "4c6dd3be",
   "metadata": {},
   "outputs": [
    {
     "name": "stdout",
     "output_type": "stream",
     "text": [
      "\u001b[31m ################ Input layer ##################\n",
      "\t\t \u001b[32m(32, 32, 3)\n",
      "\u001b[31m # CONV layer with 4 kernels of size 3x3 & ReLU \n",
      "\t\t \u001b[32m(32, 32, 4)\n",
      "\u001b[31m ## Max pooling of size 2x2 with a stride of 2 #\n",
      "\t\t \u001b[32m(16, 16, 4)\n",
      "\u001b[31m # CONV layer with 8 kernels of size 3x3, ReLU #\n",
      "\t\t \u001b[32m(16, 16, 8)\n",
      "\u001b[31m # Max pooling of size 2x2 with a stride of 2 ##\n",
      "\t\t \u001b[32m(8, 8, 8)\n",
      "\u001b[31m ############ Flattening layer #################\n",
      "\t\t \u001b[32m(512, 1)\n",
      "\u001b[31m ###### MLP hidden layer of 256 neurons ########\n",
      "\t\t \u001b[32m(256, 1)\n",
      "\u001b[31m ####### MLP output layer of 10 neurons ########\n",
      "\t\t \u001b[32m(10, 1)\n"
     ]
    },
    {
     "data": {
      "image/png": "[encoded data removed]",
      "text/plain": [
       "<Figure size 432x288 with 1 Axes>"
      ]
     },
     "metadata": {
      "needs_background": "light"
     },
     "output_type": "display_data"
    },
    {
     "data": {
      "image/png": "[encoded data removed]",
      "text/plain": [
       "<Figure size 864x720 with 4 Axes>"
      ]
     },
     "metadata": {
      "needs_background": "light"
     },
     "output_type": "display_data"
    },
    {
     "data": {
      "image/png": "[encoded data removed]",
      "text/plain": [
       "<Figure size 864x864 with 4 Axes>"
      ]
     },
     "metadata": {
      "needs_background": "light"
     },
     "output_type": "display_data"
    },
    {
     "data": {
      "image/png": "[encoded data removed]",
      "text/plain": [
       "<Figure size 1728x2880 with 8 Axes>"
      ]
     },
     "metadata": {
      "needs_background": "light"
     },
     "output_type": "display_data"
    },
    {
     "data": {
      "image/png": "[encoded data removed]",
      "text/plain": [
       "<Figure size 1728x2880 with 8 Axes>"
      ]
     },
     "metadata": {
      "needs_background": "light"
     },
     "output_type": "display_data"
    }
   ],
   "source": [
    "y_1, fl = feed_forward(data['X'][13,:], print_dim=True, show_plot=True)"
   ]
  },
  {
   "cell_type": "markdown",
   "id": "7592e9d0",
   "metadata": {},
   "source": [
    "# t-SNE plotter"
   ]
  },
  {
   "cell_type": "code",
   "execution_count": 14,
   "id": "ce4a71af",
   "metadata": {},
   "outputs": [],
   "source": [
    "from sklearn.manifold import TSNE\n",
    "import seaborn as sns\n",
    "\n",
    "def t_SNE_plots(X, y):\n",
    "    sns.set(rc={'figure.figsize':(11.7,8.27)})\n",
    "    palette = sns.color_palette(\"bright\", 10)\n",
    "\n",
    "    tsne = TSNE()\n",
    "    embeddings = tsne.fit_transform(X)\n",
    "    sns.scatterplot(embeddings[:,0], embeddings[:,1], hue=y, legend='full', palette=palette)"
   ]
  },
  {
   "cell_type": "markdown",
   "id": "3a049f0f",
   "metadata": {},
   "source": [
    "## Choosing 10 classes with each 5 images"
   ]
  },
  {
   "cell_type": "code",
   "execution_count": 15,
   "id": "e5d200ba",
   "metadata": {},
   "outputs": [],
   "source": [
    "X = np.zeros((10, 32, 32, 3, 5), dtype=int)\n",
    "\n",
    "classes = np.arange(10)\n",
    "counter = np.zeros(10, dtype=int)\n",
    "for i in range(len(data['Y'])):\n",
    "    for j in range(10):\n",
    "        if data['Y'][i] == classes[j]:\n",
    "            if counter[j] < 5:\n",
    "                X[classes[j], :, :, :, counter[j]] = data['X'][i, :, :, :]\n",
    "            counter[j] += 1"
   ]
  },
  {
   "cell_type": "markdown",
   "id": "32767961",
   "metadata": {},
   "source": [
    "## Running the CNN in the feed forward mode; one with bandpass kernels and other with randomly initialised kernels. Storing the output at flatten later for visualising in t-SNE plots"
   ]
  },
  {
   "cell_type": "code",
   "execution_count": 16,
   "id": "c90614b8",
   "metadata": {
    "scrolled": true
   },
   "outputs": [
    {
     "name": "stdout",
     "output_type": "stream",
     "text": [
      "Image 0 :Started\tEnded!\n",
      "Image 1 :Started\tEnded!\n",
      "Image 2 :Started\tEnded!\n",
      "Image 3 :Started\tEnded!\n",
      "Image 4 :Started\tEnded!\n",
      "Image 5 :Started\tEnded!\n",
      "Image 6 :Started\tEnded!\n",
      "Image 7 :Started\tEnded!\n",
      "Image 8 :Started\tEnded!\n",
      "Image 9 :Started\tEnded!\n",
      "Image 10 :Started\tEnded!\n",
      "Image 11 :Started\tEnded!\n",
      "Image 12 :Started\tEnded!\n",
      "Image 13 :Started\tEnded!\n",
      "Image 14 :Started\tEnded!\n",
      "Image 15 :Started\tEnded!\n",
      "Image 16 :Started\tEnded!\n",
      "Image 17 :Started\tEnded!\n",
      "Image 18 :Started\tEnded!\n",
      "Image 19 :Started\tEnded!\n",
      "Image 20 :Started\tEnded!\n",
      "Image 21 :Started\tEnded!\n",
      "Image 22 :Started\tEnded!\n",
      "Image 23 :Started\tEnded!\n",
      "Image 24 :Started\tEnded!\n",
      "Image 25 :Started\tEnded!\n",
      "Image 26 :Started\tEnded!\n",
      "Image 27 :Started\tEnded!\n",
      "Image 28 :Started\tEnded!\n",
      "Image 29 :Started\tEnded!\n",
      "Image 30 :Started\tEnded!\n",
      "Image 31 :Started\tEnded!\n",
      "Image 32 :Started\tEnded!\n",
      "Image 33 :Started\tEnded!\n",
      "Image 34 :Started\tEnded!\n",
      "Image 35 :Started\tEnded!\n",
      "Image 36 :Started\tEnded!\n",
      "Image 37 :Started\tEnded!\n",
      "Image 38 :Started\tEnded!\n",
      "Image 39 :Started\tEnded!\n",
      "Image 40 :Started\tEnded!\n",
      "Image 41 :Started\tEnded!\n",
      "Image 42 :Started\tEnded!\n",
      "Image 43 :Started\tEnded!\n",
      "Image 44 :Started\tEnded!\n",
      "Image 45 :Started\tEnded!\n",
      "Image 46 :Started\tEnded!\n",
      "Image 47 :Started\tEnded!\n",
      "Image 48 :Started\tEnded!\n",
      "Image 49 :Started\tEnded!\n",
      "CPU times: user 4min 7s, sys: 3min 37s, total: 7min 44s\n",
      "Wall time: 1min 7s\n"
     ]
    }
   ],
   "source": [
    "%%time\n",
    "\n",
    "X_fl_bp = np.zeros((512, 50))\n",
    "X_fl_ran = np.zeros((512, 50))\n",
    "\n",
    "Y = np.zeros(50)\n",
    "for i in range(50):\n",
    "    print(\"Image {}\".format(i), \":Started\", end=\"\\t\")\n",
    "    X_fl_bp[:, i] = feed_forward(X[i%10, :, :, :, i//10], show_plot=False)[1][0]\n",
    "    X_fl_ran[:, i] = feed_forward(X[i%10, :, :, :, i//10], init_type='random', show_plot=False)[1][0]\n",
    "    Y[i] = classes[i%10]\n",
    "    print(\"Ended!\")"
   ]
  },
  {
   "cell_type": "markdown",
   "id": "469bff7b",
   "metadata": {},
   "source": [
    "## We can clearly observe the seperation of vectors obtained from CNN with bandpass filter.\n",
    "1. 2 classes are being separated.\n",
    "2. Points belonging to same class are in same blob/cluster.\n",
    "3. This depicts that in image classification problems first few layers of CNNs learn bandpass filter to find edges in the images as edges have low frequency components"
   ]
  },
  {
   "cell_type": "code",
   "execution_count": 17,
   "id": "d36c0125",
   "metadata": {},
   "outputs": [
    {
     "name": "stderr",
     "output_type": "stream",
     "text": [
      "/usr/local/lib/python3.8/dist-packages/seaborn/_decorators.py:36: FutureWarning: Pass the following variables as keyword args: x, y. From version 0.12, the only valid positional argument will be `data`, and passing other arguments without an explicit keyword will result in an error or misinterpretation.\n",
      "  warnings.warn(\n"
     ]
    },
    {
     "data": {
      "image/png": "[encoded data removed]",
      "text/plain": [
       "<Figure size 842.4x595.44 with 1 Axes>"
      ]
     },
     "metadata": {},
     "output_type": "display_data"
    }
   ],
   "source": [
    "t_SNE_plots(X_fl_bp.T, Y)"
   ]
  },
  {
   "cell_type": "markdown",
   "id": "d8db5ded",
   "metadata": {},
   "source": [
    "# Here the embeddings are randomly situated in the space\n",
    "1. Separation of classes is not observed.\n",
    "2. Embeddings belonging to same class are not even close enough but in random places "
   ]
  },
  {
   "cell_type": "code",
   "execution_count": 18,
   "id": "7eecb105",
   "metadata": {},
   "outputs": [
    {
     "name": "stderr",
     "output_type": "stream",
     "text": [
      "/usr/local/lib/python3.8/dist-packages/seaborn/_decorators.py:36: FutureWarning: Pass the following variables as keyword args: x, y. From version 0.12, the only valid positional argument will be `data`, and passing other arguments without an explicit keyword will result in an error or misinterpretation.\n",
      "  warnings.warn(\n"
     ]
    },
    {
     "data": {
      "image/png": "[encoded data removed]",
      "text/plain": [
       "<Figure size 842.4x595.44 with 1 Axes>"
      ]
     },
     "metadata": {},
     "output_type": "display_data"
    }
   ],
   "source": [
    "t_SNE_plots(X_fl_ran.T, Y)"
   ]
  }
 ],
 "metadata": {
  "kernelspec": {
   "display_name": "Python 3",
   "language": "python",
   "name": "python3"
  },
  "language_info": {
   "codemirror_mode": {
    "name": "ipython",
    "version": 3
   },
   "file_extension": ".py",
   "mimetype": "text/x-python",
   "name": "python",
   "nbconvert_exporter": "python",
   "pygments_lexer": "ipython3",
   "version": "3.8.10"
  }
 },
 "nbformat": 4,
 "nbformat_minor": 5
}
