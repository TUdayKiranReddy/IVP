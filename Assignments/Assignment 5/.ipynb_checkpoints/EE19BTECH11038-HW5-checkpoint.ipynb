{
 "cells": [
  {
   "cell_type": "code",
   "execution_count": 1,
   "id": "5b24b8ae",
   "metadata": {},
   "outputs": [],
   "source": [
    "import numpy as np\n",
    "import matplotlib.pyplot as plt\n",
    "import matplotlib.image as mpimg\n",
    "import time\n",
    "\n",
    "%matplotlib inline"
   ]
  },
  {
   "cell_type": "code",
   "execution_count": 160,
   "id": "b284c207",
   "metadata": {},
   "outputs": [],
   "source": [
    "def dft_matrix(N):\n",
    "    i, j = np.meshgrid(np.arange(N), np.arange(N))\n",
    "    omega = np.exp( - 2 * np.pi * 1j / N )\n",
    "    W = np.power( omega, i * j )\n",
    "    return W\n",
    "\n",
    "def idft_matrix(N):\n",
    "    i, j = np.meshgrid(np.arange(N), np.arange(N))\n",
    "    omega = np.exp(2 * np.pi * 1j / N )\n",
    "    W = np.power( omega, i * j ) / N\n",
    "    return W\n",
    "\n",
    "def dft(I):\n",
    "    (M, N) = I.shape\n",
    "    \n",
    "    W_N = dft_matrix(N)\n",
    "    W_M = dft_matrix(M)\n",
    "    \n",
    "    It = np.zeros((M, N), dtype=np.complex)\n",
    "    It = W_M@I@W_N\n",
    "    return It\n",
    "\n",
    "def idft(It):\n",
    "    (M, N) = It.shape\n",
    "    W_N = idft_matrix(N)\n",
    "    W_M = idft_matrix(M)\n",
    "    \n",
    "    I = np.zeros((M, N), dtype=int)\n",
    "    I = np.clip(np.real(W_M@It@W_N), 0, 255)\n",
    "    return I\n",
    "\n",
    "def CONVOLVE(f, h):\n",
    "    (M, N, C) = f.shape\n",
    "    (m, n, c) = h.shape\n",
    "    mid_m = (m-1)//2\n",
    "    mid_n = (n-1)//2\n",
    "    if C != c:\n",
    "        print(\"Channel diemensions are mismatching f:{} and h:{}\".format(C, c))\n",
    "        return None\n",
    "    y = np.zeros((M, N, C), dtype=int)\n",
    "    for i in range(C):\n",
    "        h_padded = np.vstack((np.hstack((h[:, :, i], np.zeros((m, 2*N - n)))), np.zeros((2*M-m, 2*N))))\n",
    "        f_padded = np.vstack((np.hstack((f[:, :, i], np.zeros((M, N)))), np.zeros((M, 2*N))))\n",
    "        y[:, :, i] = idft(dft(h_padded) * dft(f_padded))[mid_m:(M+mid_m), mid_n:(N+mid_m)]\n",
    "    return y\n",
    "\n",
    "def gaussian_filter(sigma, N, C):\n",
    "    H = np.zeros((N, N, C))\n",
    "    for k in range(C):\n",
    "        mid = N//2\n",
    "        for i in range(N):\n",
    "            for j in range(N):\n",
    "                H[i, j, k] = np.exp(-2*np.power(np.pi*sigma, 2)*((mid-i)**2 + (mid-j)**2)/(N**2))\n",
    "        H[:, :, k] = H[:, :, k]/np.sum(H[:, :, k])\n",
    "    return H"
   ]
  },
  {
   "cell_type": "code",
   "execution_count": 144,
   "id": "93df3661",
   "metadata": {},
   "outputs": [],
   "source": [
    "def unpickle(file):\n",
    "    import pickle\n",
    "    with open(file, 'rb') as fo:\n",
    "        dict = pickle.load(fo, encoding='bytes')\n",
    "    return dict"
   ]
  },
  {
   "cell_type": "code",
   "execution_count": 13,
   "id": "cc76379f",
   "metadata": {},
   "outputs": [
    {
     "name": "stdout",
     "output_type": "stream",
     "text": [
      "dict_keys([b'batch_label', b'labels', b'data', b'filenames'])\n",
      "(10000, 3072)\n"
     ]
    }
   ],
   "source": [
    "images = unpickle(\"./cifar-10-python/cifar-10-batches-py/data_batch_1\")\n",
    "print(images.keys())\n",
    "print(images[b'data'].shape)"
   ]
  },
  {
   "cell_type": "code",
   "execution_count": 17,
   "id": "2eb8c2d0",
   "metadata": {},
   "outputs": [
    {
     "data": {
      "text/plain": [
       "<matplotlib.image.AxesImage at 0x7f4ebc5f3f70>"
      ]
     },
     "execution_count": 17,
     "metadata": {},
     "output_type": "execute_result"
    },
    {
     "data": {
      "image/png": "[encoded data removed]",
      "text/plain": [
       "<Figure size 432x288 with 1 Axes>"
      ]
     },
     "metadata": {
      "needs_background": "light"
     },
     "output_type": "display_data"
    }
   ],
   "source": [
    "r = images[b'data'][1,:].reshape(32, 32, 3)\n",
    "plt.imshow(r)"
   ]
  },
  {
   "cell_type": "code",
   "execution_count": 29,
   "id": "2467625c",
   "metadata": {},
   "outputs": [],
   "source": [
    "def extract_data(file):\n",
    "    import pickle\n",
    "    with open(file, 'rb') as fo:\n",
    "        dict = pickle.load(fo, encoding='bytes')\n",
    "    data = dict[b'data']\n",
    "    labels = dict[b'labels']\n",
    "    images = []\n",
    "    for i in range(data.shape[0]):\n",
    "        img = np.zeros((32, 32, 3), dtype=int)\n",
    "        for j in range(data.shape[1]):\n",
    "            x = j//1024\n",
    "            img[(j - 1024*x)//32, (j - 1024*x)%32, x] = data[i, j]\n",
    "        images.append(img)\n",
    "    dct = {'X':np.array(images), 'Y':labels}\n",
    "    return dct"
   ]
  },
  {
   "cell_type": "code",
   "execution_count": 41,
   "id": "dcbc9bce",
   "metadata": {
    "scrolled": true
   },
   "outputs": [
    {
     "name": "stdout",
     "output_type": "stream",
     "text": [
      "CPU times: user 11.8 s, sys: 24.4 ms, total: 11.8 s\n",
      "Wall time: 11.6 s\n"
     ]
    }
   ],
   "source": [
    "%%time\n",
    "data = extract_data(\"./cifar-10-python/cifar-10-batches-py/data_batch_1\")"
   ]
  },
  {
   "cell_type": "code",
   "execution_count": 176,
   "id": "44faa9ad",
   "metadata": {},
   "outputs": [
    {
     "name": "stdout",
     "output_type": "stream",
     "text": [
      "[[[5.17000575e-06 5.17000575e-06 5.17000575e-06]\n",
      "  [1.61732949e-05 1.61732949e-05 1.61732949e-05]\n",
      "  [4.24526529e-05 4.24526529e-05 4.24526529e-05]\n",
      "  [9.34996561e-05 9.34996561e-05 9.34996561e-05]\n",
      "  [1.72788184e-04 1.72788184e-04 1.72788184e-04]\n",
      "  [2.67927269e-04 2.67927269e-04 2.67927269e-04]\n",
      "  [3.48592986e-04 3.48592986e-04 3.48592986e-04]\n",
      "  [3.80556566e-04 3.80556566e-04 3.80556566e-04]\n",
      "  [3.48592986e-04 3.48592986e-04 3.48592986e-04]\n",
      "  [2.67927269e-04 2.67927269e-04 2.67927269e-04]\n",
      "  [1.72788184e-04 1.72788184e-04 1.72788184e-04]\n",
      "  [9.34996561e-05 9.34996561e-05 9.34996561e-05]\n",
      "  [4.24526529e-05 4.24526529e-05 4.24526529e-05]\n",
      "  [1.61732949e-05 1.61732949e-05 1.61732949e-05]\n",
      "  [5.17000575e-06 5.17000575e-06 5.17000575e-06]]\n",
      "\n",
      " [[1.61732949e-05 1.61732949e-05 1.61732949e-05]\n",
      "  [5.05948119e-05 5.05948119e-05 5.05948119e-05]\n",
      "  [1.32804354e-04 1.32804354e-04 1.32804354e-04]\n",
      "  [2.92494358e-04 2.92494358e-04 2.92494358e-04]\n",
      "  [5.40532139e-04 5.40532139e-04 5.40532139e-04]\n",
      "  [8.38155111e-04 8.38155111e-04 8.38155111e-04]\n",
      "  [1.09050114e-03 1.09050114e-03 1.09050114e-03]\n",
      "  [1.19049260e-03 1.19049260e-03 1.19049260e-03]\n",
      "  [1.09050114e-03 1.09050114e-03 1.09050114e-03]\n",
      "  [8.38155111e-04 8.38155111e-04 8.38155111e-04]\n",
      "  [5.40532139e-04 5.40532139e-04 5.40532139e-04]\n",
      "  [2.92494358e-04 2.92494358e-04 2.92494358e-04]\n",
      "  [1.32804354e-04 1.32804354e-04 1.32804354e-04]\n",
      "  [5.05948119e-05 5.05948119e-05 5.05948119e-05]\n",
      "  [1.61732949e-05 1.61732949e-05 1.61732949e-05]]\n",
      "\n",
      " [[4.24526529e-05 4.24526529e-05 4.24526529e-05]\n",
      "  [1.32804354e-04 1.32804354e-04 1.32804354e-04]\n",
      "  [3.48592986e-04 3.48592986e-04 3.48592986e-04]\n",
      "  [7.67757067e-04 7.67757067e-04 7.67757067e-04]\n",
      "  [1.41882179e-03 1.41882179e-03 1.41882179e-03]\n",
      "  [2.20004076e-03 2.20004076e-03 2.20004076e-03]\n",
      "  [2.86241404e-03 2.86241404e-03 2.86241404e-03]\n",
      "  [3.12487773e-03 3.12487773e-03 3.12487773e-03]\n",
      "  [2.86241404e-03 2.86241404e-03 2.86241404e-03]\n",
      "  [2.20004076e-03 2.20004076e-03 2.20004076e-03]\n",
      "  [1.41882179e-03 1.41882179e-03 1.41882179e-03]\n",
      "  [7.67757067e-04 7.67757067e-04 7.67757067e-04]\n",
      "  [3.48592986e-04 3.48592986e-04 3.48592986e-04]\n",
      "  [1.32804354e-04 1.32804354e-04 1.32804354e-04]\n",
      "  [4.24526529e-05 4.24526529e-05 4.24526529e-05]]\n",
      "\n",
      " [[9.34996561e-05 9.34996561e-05 9.34996561e-05]\n",
      "  [2.92494358e-04 2.92494358e-04 2.92494358e-04]\n",
      "  [7.67757067e-04 7.67757067e-04 7.67757067e-04]\n",
      "  [1.69094313e-03 1.69094313e-03 1.69094313e-03]\n",
      "  [3.12487773e-03 3.12487773e-03 3.12487773e-03]\n",
      "  [4.84546996e-03 4.84546996e-03 4.84546996e-03]\n",
      "  [6.30431103e-03 6.30431103e-03 6.30431103e-03]\n",
      "  [6.88237301e-03 6.88237301e-03 6.88237301e-03]\n",
      "  [6.30431103e-03 6.30431103e-03 6.30431103e-03]\n",
      "  [4.84546996e-03 4.84546996e-03 4.84546996e-03]\n",
      "  [3.12487773e-03 3.12487773e-03 3.12487773e-03]\n",
      "  [1.69094313e-03 1.69094313e-03 1.69094313e-03]\n",
      "  [7.67757067e-04 7.67757067e-04 7.67757067e-04]\n",
      "  [2.92494358e-04 2.92494358e-04 2.92494358e-04]\n",
      "  [9.34996561e-05 9.34996561e-05 9.34996561e-05]]\n",
      "\n",
      " [[1.72788184e-04 1.72788184e-04 1.72788184e-04]\n",
      "  [5.40532139e-04 5.40532139e-04 5.40532139e-04]\n",
      "  [1.41882179e-03 1.41882179e-03 1.41882179e-03]\n",
      "  [3.12487773e-03 3.12487773e-03 3.12487773e-03]\n",
      "  [5.77480144e-03 5.77480144e-03 5.77480144e-03]\n",
      "  [8.95447098e-03 8.95447098e-03 8.95447098e-03]\n",
      "  [1.16504221e-02 1.16504221e-02 1.16504221e-02]\n",
      "  [1.27186857e-02 1.27186857e-02 1.27186857e-02]\n",
      "  [1.16504221e-02 1.16504221e-02 1.16504221e-02]\n",
      "  [8.95447098e-03 8.95447098e-03 8.95447098e-03]\n",
      "  [5.77480144e-03 5.77480144e-03 5.77480144e-03]\n",
      "  [3.12487773e-03 3.12487773e-03 3.12487773e-03]\n",
      "  [1.41882179e-03 1.41882179e-03 1.41882179e-03]\n",
      "  [5.40532139e-04 5.40532139e-04 5.40532139e-04]\n",
      "  [1.72788184e-04 1.72788184e-04 1.72788184e-04]]\n",
      "\n",
      " [[2.67927269e-04 2.67927269e-04 2.67927269e-04]\n",
      "  [8.38155111e-04 8.38155111e-04 8.38155111e-04]\n",
      "  [2.20004076e-03 2.20004076e-03 2.20004076e-03]\n",
      "  [4.84546996e-03 4.84546996e-03 4.84546996e-03]\n",
      "  [8.95447098e-03 8.95447098e-03 8.95447098e-03]\n",
      "  [1.38849017e-02 1.38849017e-02 1.38849017e-02]\n",
      "  [1.80652733e-02 1.80652733e-02 1.80652733e-02]\n",
      "  [1.97217347e-02 1.97217347e-02 1.97217347e-02]\n",
      "  [1.80652733e-02 1.80652733e-02 1.80652733e-02]\n",
      "  [1.38849017e-02 1.38849017e-02 1.38849017e-02]\n",
      "  [8.95447098e-03 8.95447098e-03 8.95447098e-03]\n",
      "  [4.84546996e-03 4.84546996e-03 4.84546996e-03]\n",
      "  [2.20004076e-03 2.20004076e-03 2.20004076e-03]\n",
      "  [8.38155111e-04 8.38155111e-04 8.38155111e-04]\n",
      "  [2.67927269e-04 2.67927269e-04 2.67927269e-04]]\n",
      "\n",
      " [[3.48592986e-04 3.48592986e-04 3.48592986e-04]\n",
      "  [1.09050114e-03 1.09050114e-03 1.09050114e-03]\n",
      "  [2.86241404e-03 2.86241404e-03 2.86241404e-03]\n",
      "  [6.30431103e-03 6.30431103e-03 6.30431103e-03]\n",
      "  [1.16504221e-02 1.16504221e-02 1.16504221e-02]\n",
      "  [1.80652733e-02 1.80652733e-02 1.80652733e-02]\n",
      "  [2.35042427e-02 2.35042427e-02 2.35042427e-02]\n",
      "  [2.56594201e-02 2.56594201e-02 2.56594201e-02]\n",
      "  [2.35042427e-02 2.35042427e-02 2.35042427e-02]\n",
      "  [1.80652733e-02 1.80652733e-02 1.80652733e-02]\n",
      "  [1.16504221e-02 1.16504221e-02 1.16504221e-02]\n",
      "  [6.30431103e-03 6.30431103e-03 6.30431103e-03]\n",
      "  [2.86241404e-03 2.86241404e-03 2.86241404e-03]\n",
      "  [1.09050114e-03 1.09050114e-03 1.09050114e-03]\n",
      "  [3.48592986e-04 3.48592986e-04 3.48592986e-04]]\n",
      "\n",
      " [[3.80556566e-04 3.80556566e-04 3.80556566e-04]\n",
      "  [1.19049260e-03 1.19049260e-03 1.19049260e-03]\n",
      "  [3.12487773e-03 3.12487773e-03 3.12487773e-03]\n",
      "  [6.88237301e-03 6.88237301e-03 6.88237301e-03]\n",
      "  [1.27186857e-02 1.27186857e-02 1.27186857e-02]\n",
      "  [1.97217347e-02 1.97217347e-02 1.97217347e-02]\n",
      "  [2.56594201e-02 2.56594201e-02 2.56594201e-02]\n",
      "  [2.80122125e-02 2.80122125e-02 2.80122125e-02]\n",
      "  [2.56594201e-02 2.56594201e-02 2.56594201e-02]\n",
      "  [1.97217347e-02 1.97217347e-02 1.97217347e-02]\n",
      "  [1.27186857e-02 1.27186857e-02 1.27186857e-02]\n",
      "  [6.88237301e-03 6.88237301e-03 6.88237301e-03]\n",
      "  [3.12487773e-03 3.12487773e-03 3.12487773e-03]\n",
      "  [1.19049260e-03 1.19049260e-03 1.19049260e-03]\n",
      "  [3.80556566e-04 3.80556566e-04 3.80556566e-04]]\n",
      "\n",
      " [[3.48592986e-04 3.48592986e-04 3.48592986e-04]\n",
      "  [1.09050114e-03 1.09050114e-03 1.09050114e-03]\n",
      "  [2.86241404e-03 2.86241404e-03 2.86241404e-03]\n",
      "  [6.30431103e-03 6.30431103e-03 6.30431103e-03]\n",
      "  [1.16504221e-02 1.16504221e-02 1.16504221e-02]\n",
      "  [1.80652733e-02 1.80652733e-02 1.80652733e-02]\n",
      "  [2.35042427e-02 2.35042427e-02 2.35042427e-02]\n",
      "  [2.56594201e-02 2.56594201e-02 2.56594201e-02]\n",
      "  [2.35042427e-02 2.35042427e-02 2.35042427e-02]\n",
      "  [1.80652733e-02 1.80652733e-02 1.80652733e-02]\n",
      "  [1.16504221e-02 1.16504221e-02 1.16504221e-02]\n",
      "  [6.30431103e-03 6.30431103e-03 6.30431103e-03]\n",
      "  [2.86241404e-03 2.86241404e-03 2.86241404e-03]\n",
      "  [1.09050114e-03 1.09050114e-03 1.09050114e-03]\n",
      "  [3.48592986e-04 3.48592986e-04 3.48592986e-04]]\n",
      "\n",
      " [[2.67927269e-04 2.67927269e-04 2.67927269e-04]\n",
      "  [8.38155111e-04 8.38155111e-04 8.38155111e-04]\n",
      "  [2.20004076e-03 2.20004076e-03 2.20004076e-03]\n",
      "  [4.84546996e-03 4.84546996e-03 4.84546996e-03]\n",
      "  [8.95447098e-03 8.95447098e-03 8.95447098e-03]\n",
      "  [1.38849017e-02 1.38849017e-02 1.38849017e-02]\n",
      "  [1.80652733e-02 1.80652733e-02 1.80652733e-02]\n",
      "  [1.97217347e-02 1.97217347e-02 1.97217347e-02]\n",
      "  [1.80652733e-02 1.80652733e-02 1.80652733e-02]\n",
      "  [1.38849017e-02 1.38849017e-02 1.38849017e-02]\n",
      "  [8.95447098e-03 8.95447098e-03 8.95447098e-03]\n",
      "  [4.84546996e-03 4.84546996e-03 4.84546996e-03]\n",
      "  [2.20004076e-03 2.20004076e-03 2.20004076e-03]\n",
      "  [8.38155111e-04 8.38155111e-04 8.38155111e-04]\n",
      "  [2.67927269e-04 2.67927269e-04 2.67927269e-04]]\n",
      "\n",
      " [[1.72788184e-04 1.72788184e-04 1.72788184e-04]\n",
      "  [5.40532139e-04 5.40532139e-04 5.40532139e-04]\n",
      "  [1.41882179e-03 1.41882179e-03 1.41882179e-03]\n",
      "  [3.12487773e-03 3.12487773e-03 3.12487773e-03]\n",
      "  [5.77480144e-03 5.77480144e-03 5.77480144e-03]\n",
      "  [8.95447098e-03 8.95447098e-03 8.95447098e-03]\n",
      "  [1.16504221e-02 1.16504221e-02 1.16504221e-02]\n",
      "  [1.27186857e-02 1.27186857e-02 1.27186857e-02]\n",
      "  [1.16504221e-02 1.16504221e-02 1.16504221e-02]\n",
      "  [8.95447098e-03 8.95447098e-03 8.95447098e-03]\n",
      "  [5.77480144e-03 5.77480144e-03 5.77480144e-03]\n",
      "  [3.12487773e-03 3.12487773e-03 3.12487773e-03]\n",
      "  [1.41882179e-03 1.41882179e-03 1.41882179e-03]\n",
      "  [5.40532139e-04 5.40532139e-04 5.40532139e-04]\n",
      "  [1.72788184e-04 1.72788184e-04 1.72788184e-04]]\n",
      "\n",
      " [[9.34996561e-05 9.34996561e-05 9.34996561e-05]\n",
      "  [2.92494358e-04 2.92494358e-04 2.92494358e-04]\n",
      "  [7.67757067e-04 7.67757067e-04 7.67757067e-04]\n",
      "  [1.69094313e-03 1.69094313e-03 1.69094313e-03]\n",
      "  [3.12487773e-03 3.12487773e-03 3.12487773e-03]\n",
      "  [4.84546996e-03 4.84546996e-03 4.84546996e-03]\n",
      "  [6.30431103e-03 6.30431103e-03 6.30431103e-03]\n",
      "  [6.88237301e-03 6.88237301e-03 6.88237301e-03]\n",
      "  [6.30431103e-03 6.30431103e-03 6.30431103e-03]\n",
      "  [4.84546996e-03 4.84546996e-03 4.84546996e-03]\n",
      "  [3.12487773e-03 3.12487773e-03 3.12487773e-03]\n",
      "  [1.69094313e-03 1.69094313e-03 1.69094313e-03]\n",
      "  [7.67757067e-04 7.67757067e-04 7.67757067e-04]\n",
      "  [2.92494358e-04 2.92494358e-04 2.92494358e-04]\n",
      "  [9.34996561e-05 9.34996561e-05 9.34996561e-05]]\n",
      "\n",
      " [[4.24526529e-05 4.24526529e-05 4.24526529e-05]\n",
      "  [1.32804354e-04 1.32804354e-04 1.32804354e-04]\n",
      "  [3.48592986e-04 3.48592986e-04 3.48592986e-04]\n",
      "  [7.67757067e-04 7.67757067e-04 7.67757067e-04]\n",
      "  [1.41882179e-03 1.41882179e-03 1.41882179e-03]\n",
      "  [2.20004076e-03 2.20004076e-03 2.20004076e-03]\n",
      "  [2.86241404e-03 2.86241404e-03 2.86241404e-03]\n",
      "  [3.12487773e-03 3.12487773e-03 3.12487773e-03]\n",
      "  [2.86241404e-03 2.86241404e-03 2.86241404e-03]\n",
      "  [2.20004076e-03 2.20004076e-03 2.20004076e-03]\n",
      "  [1.41882179e-03 1.41882179e-03 1.41882179e-03]\n",
      "  [7.67757067e-04 7.67757067e-04 7.67757067e-04]\n",
      "  [3.48592986e-04 3.48592986e-04 3.48592986e-04]\n",
      "  [1.32804354e-04 1.32804354e-04 1.32804354e-04]\n",
      "  [4.24526529e-05 4.24526529e-05 4.24526529e-05]]\n",
      "\n",
      " [[1.61732949e-05 1.61732949e-05 1.61732949e-05]\n",
      "  [5.05948119e-05 5.05948119e-05 5.05948119e-05]\n",
      "  [1.32804354e-04 1.32804354e-04 1.32804354e-04]\n",
      "  [2.92494358e-04 2.92494358e-04 2.92494358e-04]\n",
      "  [5.40532139e-04 5.40532139e-04 5.40532139e-04]\n",
      "  [8.38155111e-04 8.38155111e-04 8.38155111e-04]\n",
      "  [1.09050114e-03 1.09050114e-03 1.09050114e-03]\n",
      "  [1.19049260e-03 1.19049260e-03 1.19049260e-03]\n",
      "  [1.09050114e-03 1.09050114e-03 1.09050114e-03]\n",
      "  [8.38155111e-04 8.38155111e-04 8.38155111e-04]\n",
      "  [5.40532139e-04 5.40532139e-04 5.40532139e-04]\n",
      "  [2.92494358e-04 2.92494358e-04 2.92494358e-04]\n",
      "  [1.32804354e-04 1.32804354e-04 1.32804354e-04]\n",
      "  [5.05948119e-05 5.05948119e-05 5.05948119e-05]\n",
      "  [1.61732949e-05 1.61732949e-05 1.61732949e-05]]\n",
      "\n",
      " [[5.17000575e-06 5.17000575e-06 5.17000575e-06]\n",
      "  [1.61732949e-05 1.61732949e-05 1.61732949e-05]\n",
      "  [4.24526529e-05 4.24526529e-05 4.24526529e-05]\n",
      "  [9.34996561e-05 9.34996561e-05 9.34996561e-05]\n",
      "  [1.72788184e-04 1.72788184e-04 1.72788184e-04]\n",
      "  [2.67927269e-04 2.67927269e-04 2.67927269e-04]\n",
      "  [3.48592986e-04 3.48592986e-04 3.48592986e-04]\n",
      "  [3.80556566e-04 3.80556566e-04 3.80556566e-04]\n",
      "  [3.48592986e-04 3.48592986e-04 3.48592986e-04]\n",
      "  [2.67927269e-04 2.67927269e-04 2.67927269e-04]\n",
      "  [1.72788184e-04 1.72788184e-04 1.72788184e-04]\n",
      "  [9.34996561e-05 9.34996561e-05 9.34996561e-05]\n",
      "  [4.24526529e-05 4.24526529e-05 4.24526529e-05]\n",
      "  [1.61732949e-05 1.61732949e-05 1.61732949e-05]\n",
      "  [5.17000575e-06 5.17000575e-06 5.17000575e-06]]]\n"
     ]
    },
    {
     "data": {
      "text/plain": [
       "<matplotlib.image.AxesImage at 0x7f4e960b4e80>"
      ]
     },
     "execution_count": 176,
     "metadata": {},
     "output_type": "execute_result"
    },
    {
     "data": {
      "image/png": "[encoded data removed]",
      "text/plain": [
       "<Figure size 432x288 with 1 Axes>"
      ]
     },
     "metadata": {
      "needs_background": "light"
     },
     "output_type": "display_data"
    }
   ],
   "source": [
    "h = gaussian_filter(sigma=1, N=15, C=3)\n",
    "print((h))\n",
    "plt.imshow(h)"
   ]
  },
  {
   "cell_type": "code",
   "execution_count": 177,
   "id": "a13f79d1",
   "metadata": {},
   "outputs": [
    {
     "name": "stderr",
     "output_type": "stream",
     "text": [
      "<ipython-input-160-1c0df6746a4b>:19: DeprecationWarning: `np.complex` is a deprecated alias for the builtin `complex`. To silence this warning, use `complex` by itself. Doing this will not modify any behavior and is safe. If you specifically wanted the numpy scalar type, use `np.complex128` here.\n",
      "Deprecated in NumPy 1.20; for more details and guidance: https://numpy.org/devdocs/release/1.20.0-notes.html#deprecations\n",
      "  It = np.zeros((M, N), dtype=np.complex)\n"
     ]
    }
   ],
   "source": [
    "image = data['X'][0, :]\n",
    "h_image = CONVOLVE(image, h)"
   ]
  },
  {
   "cell_type": "code",
   "execution_count": 178,
   "id": "2f99e3ce",
   "metadata": {},
   "outputs": [
    {
     "data": {
      "text/plain": [
       "<matplotlib.image.AxesImage at 0x7f4e95fff940>"
      ]
     },
     "execution_count": 178,
     "metadata": {},
     "output_type": "execute_result"
    },
    {
     "data": {
      "image/png": "[encoded data removed]",
      "text/plain": [
       "<Figure size 432x288 with 1 Axes>"
      ]
     },
     "metadata": {
      "needs_background": "light"
     },
     "output_type": "display_data"
    }
   ],
   "source": [
    "plt.imshow(image)"
   ]
  },
  {
   "cell_type": "code",
   "execution_count": 179,
   "id": "62977d8d",
   "metadata": {},
   "outputs": [
    {
     "data": {
      "text/plain": [
       "<matplotlib.image.AxesImage at 0x7f4e95fd87c0>"
      ]
     },
     "execution_count": 179,
     "metadata": {},
     "output_type": "execute_result"
    },
    {
     "data": {
      "image/png": "[encoded data removed]",
      "text/plain": [
       "<Figure size 432x288 with 1 Axes>"
      ]
     },
     "metadata": {
      "needs_background": "light"
     },
     "output_type": "display_data"
    }
   ],
   "source": [
    "plt.imshow(h_image)"
   ]
  },
  {
   "cell_type": "code",
   "execution_count": 158,
   "id": "7bbc1cca",
   "metadata": {},
   "outputs": [
    {
     "name": "stdout",
     "output_type": "stream",
     "text": [
      "(32, 32, 3)\n"
     ]
    }
   ],
   "source": [
    "print(h_image.shape)"
   ]
  },
  {
   "cell_type": "code",
   "execution_count": 190,
   "id": "827fb4b2",
   "metadata": {},
   "outputs": [],
   "source": [
    "def max_pool(image):\n",
    "    (M, N, C) = image.shape\n",
    "    if M!=N:\n",
    "        print(\"Not implemented!\")\n",
    "        return None\n",
    "    m = M//2\n",
    "    y = np.zeros((m, m, C), dtype=int)\n",
    "    for k in range(C):\n",
    "        for i in range(m):\n",
    "            for j in range(m):\n",
    "                y[i, j, k] = np.max(image[(2*i):(2*i+2), (2*j):(2*j+2), k])\n",
    "    return y\n",
    "\n",
    "def ReLU(x):\n",
    "    return np.max(0, x)"
   ]
  },
  {
   "cell_type": "code",
   "execution_count": null,
   "id": "5f3bd381",
   "metadata": {},
   "outputs": [],
   "source": [
    "def weight_init():\n",
    "    \n",
    "def feed_forward(image):\n",
    "    # Weights and bias initialisation\n",
    "    \n",
    "    # CONV layer with 4 kernels of size 3x3, ReLU\n",
    "    x1 = CONVOLVE(image, kernel_1)\n",
    "    x2 = ReLU(x1)\n",
    "    # Max pooling of size 2x2 with a stride of 2\n",
    "    x3 = max_pool(x2)\n",
    "    # CONV layer with 8 kernels of size 3x3, ReLU\n",
    "    x4 = CONVOLVE(x3, kernel_2)\n",
    "    x5 = ReLU(x4)\n",
    "    # Max pooling of size 2x2 with a stride of 2\n",
    "    x6 = max_pool(x5)\n",
    "    # Flattening layer\n",
    "    x7 = x6.reshape(-1, 1)\n",
    "    # MLP hidden layer\n",
    "    x8 = W1@x7 + b1\n",
    "    x9 = ReLU(x8)\n",
    "    # MLP output layer\n",
    "    x10 = W2@x9 + b2\n",
    "    y = ReLU(x10) \n",
    "    "
   ]
  }
 ],
 "metadata": {
  "kernelspec": {
   "display_name": "Python 3",
   "language": "python",
   "name": "python3"
  },
  "language_info": {
   "codemirror_mode": {
    "name": "ipython",
    "version": 3
   },
   "file_extension": ".py",
   "mimetype": "text/x-python",
   "name": "python",
   "nbconvert_exporter": "python",
   "pygments_lexer": "ipython3",
   "version": "3.8.10"
  }
 },
 "nbformat": 4,
 "nbformat_minor": 5
}
